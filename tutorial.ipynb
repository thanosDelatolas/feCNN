{
 "cells": [
  {
   "cell_type": "code",
   "execution_count": 1,
   "metadata": {},
   "outputs": [],
   "source": [
    "from forward import solve_forward\n",
    "from simulation import Simulation"
   ]
  },
  {
   "cell_type": "markdown",
   "metadata": {},
   "source": [
    "### Solve Forward"
   ]
  },
  {
   "cell_type": "code",
   "execution_count": 2,
   "metadata": {},
   "outputs": [
    {
     "name": "stdout",
     "output_type": "stream",
     "text": [
      "Forward problem is solved.\n",
      "Electrodes: (73, 3)\n",
      "Dipoles: (50460, 3)\n",
      "Leadfield: (73, 50460)\n"
     ]
    }
   ],
   "source": [
    "fwd = solve_forward()"
   ]
  },
  {
   "cell_type": "markdown",
   "metadata": {},
   "source": [
    "### Simulation"
   ]
  },
  {
   "cell_type": "code",
   "execution_count": 3,
   "metadata": {},
   "outputs": [
    {
     "name": "stdout",
     "output_type": "stream",
     "text": [
      "Simulate Sources.\n"
     ]
    },
    {
     "name": "stderr",
     "output_type": "stream",
     "text": [
      "100%|██████████| 100/100 [00:02<00:00, 40.29it/s]\n"
     ]
    },
    {
     "name": "stdout",
     "output_type": "stream",
     "text": [
      "Simulate EEG.\n",
      "Project sources to EEG.\n"
     ]
    }
   ],
   "source": [
    "sim = Simulation(fwd=fwd)\n",
    "\n",
    "sim.simulate(n_samples=100)"
   ]
  },
  {
   "cell_type": "code",
   "execution_count": null,
   "metadata": {},
   "outputs": [],
   "source": [
    "print('EGG:',sim.eeg_data.shape)\n",
    "print('Sources:',sim.source_data.shape)"
   ]
  },
  {
   "cell_type": "code",
   "execution_count": null,
   "metadata": {},
   "outputs": [],
   "source": [
    "import numpy as np\n",
    "np.save('./matlab/data/eeg_sim',sim.eeg_data)"
   ]
  },
  {
   "cell_type": "code",
   "execution_count": 4,
   "metadata": {},
   "outputs": [
    {
     "name": "stderr",
     "output_type": "stream",
     "text": [
      "2021-12-01 00:32:48.485603: W tensorflow/stream_executor/platform/default/dso_loader.cc:64] Could not load dynamic library 'libcudart.so.11.0'; dlerror: libcudart.so.11.0: cannot open shared object file: No such file or directory\n",
      "2021-12-01 00:32:48.485627: I tensorflow/stream_executor/cuda/cudart_stub.cc:29] Ignore above cudart dlerror if you do not have a GPU set up on your machine.\n"
     ]
    }
   ],
   "source": [
    "from net import EEGNet\n",
    "\n",
    "eegnet = EEGNet(fwd=fwd,sim=sim)"
   ]
  },
  {
   "cell_type": "code",
   "execution_count": 5,
   "metadata": {},
   "outputs": [
    {
     "name": "stdout",
     "output_type": "stream",
     "text": [
      "Model: \"sequential\"\n",
      "_________________________________________________________________\n",
      " Layer (type)                Output Shape              Param #   \n",
      "=================================================================\n",
      " Hidden (Dense)              (None, 100)               7400      \n",
      "                                                                 \n",
      " Output (Dense)              (None, 50460)             5096460   \n",
      "                                                                 \n",
      "=================================================================\n",
      "Total params: 5,103,860\n",
      "Trainable params: 5,103,860\n",
      "Non-trainable params: 0\n",
      "_________________________________________________________________\n"
     ]
    },
    {
     "name": "stderr",
     "output_type": "stream",
     "text": [
      "2021-12-01 00:32:51.035704: W tensorflow/stream_executor/platform/default/dso_loader.cc:64] Could not load dynamic library 'libcuda.so.1'; dlerror: libcuda.so.1: cannot open shared object file: No such file or directory\n",
      "2021-12-01 00:32:51.035765: W tensorflow/stream_executor/cuda/cuda_driver.cc:269] failed call to cuInit: UNKNOWN ERROR (303)\n",
      "2021-12-01 00:32:51.035793: I tensorflow/stream_executor/cuda/cuda_diagnostics.cc:156] kernel driver does not appear to be running on this host (thanos): /proc/driver/nvidia/version does not exist\n",
      "2021-12-01 00:32:51.036081: I tensorflow/core/platform/cpu_feature_guard.cc:151] This TensorFlow binary is optimized with oneAPI Deep Neural Network Library (oneDNN) to use the following CPU instructions in performance-critical operations:  AVX2 FMA\n",
      "To enable them in other operations, rebuild TensorFlow with the appropriate compiler flags.\n"
     ]
    }
   ],
   "source": [
    "eegnet.build_model()"
   ]
  },
  {
   "cell_type": "code",
   "execution_count": null,
   "metadata": {},
   "outputs": [],
   "source": [
    "print(len(eegnet.model.layers))"
   ]
  },
  {
   "cell_type": "code",
   "execution_count": 6,
   "metadata": {},
   "outputs": [
    {
     "name": "stdout",
     "output_type": "stream",
     "text": [
      "Epoch 1/50\n",
      "1/1 [==============================] - 1s 1s/step - loss: 0.0139 - val_loss: 0.5975\n",
      "Epoch 2/50\n",
      "1/1 [==============================] - 0s 286ms/step - loss: 0.6172 - val_loss: 0.4723\n",
      "Epoch 3/50\n",
      "1/1 [==============================] - 0s 319ms/step - loss: 0.4878 - val_loss: 0.3506\n",
      "Epoch 4/50\n",
      "1/1 [==============================] - 0s 339ms/step - loss: 0.3620 - val_loss: 0.2696\n",
      "Epoch 5/50\n",
      "1/1 [==============================] - 0s 323ms/step - loss: 0.2783 - val_loss: 0.2140\n",
      "Epoch 6/50\n",
      "1/1 [==============================] - 0s 325ms/step - loss: 0.2208 - val_loss: 0.1739\n",
      "Epoch 7/50\n",
      "1/1 [==============================] - 0s 317ms/step - loss: 0.1793 - val_loss: 0.1438\n",
      "Epoch 8/50\n",
      "1/1 [==============================] - 0s 335ms/step - loss: 0.1481 - val_loss: 0.1204\n",
      "Epoch 9/50\n",
      "1/1 [==============================] - 0s 314ms/step - loss: 0.1239 - val_loss: 0.1018\n",
      "Epoch 10/50\n",
      "1/1 [==============================] - 0s 336ms/step - loss: 0.1047 - val_loss: 0.0868\n",
      "Epoch 11/50\n",
      "1/1 [==============================] - 0s 309ms/step - loss: 0.0892 - val_loss: 0.0746\n",
      "Epoch 12/50\n",
      "1/1 [==============================] - 0s 348ms/step - loss: 0.0764 - val_loss: 0.0644\n",
      "Epoch 13/50\n",
      "1/1 [==============================] - 0s 333ms/step - loss: 0.0659 - val_loss: 0.0559\n",
      "Epoch 14/50\n",
      "1/1 [==============================] - 0s 326ms/step - loss: 0.0571 - val_loss: 0.0487\n",
      "Epoch 15/50\n",
      "1/1 [==============================] - 0s 340ms/step - loss: 0.0497 - val_loss: 0.0427\n",
      "Epoch 16/50\n",
      "1/1 [==============================] - 0s 359ms/step - loss: 0.0435 - val_loss: 0.0376\n",
      "Epoch 17/50\n",
      "1/1 [==============================] - 0s 325ms/step - loss: 0.0381 - val_loss: 0.0332\n",
      "Epoch 18/50\n",
      "1/1 [==============================] - 0s 313ms/step - loss: 0.0336 - val_loss: 0.0295\n",
      "Epoch 19/50\n",
      "1/1 [==============================] - 0s 309ms/step - loss: 0.0297 - val_loss: 0.0263\n",
      "Epoch 20/50\n",
      "1/1 [==============================] - 0s 342ms/step - loss: 0.0264 - val_loss: 0.0235\n",
      "Epoch 21/50\n",
      "1/1 [==============================] - 0s 335ms/step - loss: 0.0236 - val_loss: 0.0212\n",
      "Epoch 22/50\n",
      "1/1 [==============================] - 0s 317ms/step - loss: 0.0212 - val_loss: 0.0192\n",
      "Epoch 23/50\n",
      "1/1 [==============================] - 0s 300ms/step - loss: 0.0191 - val_loss: 0.0175\n",
      "Epoch 24/50\n",
      "1/1 [==============================] - 0s 301ms/step - loss: 0.0173 - val_loss: 0.0160\n",
      "Epoch 25/50\n",
      "1/1 [==============================] - 0s 299ms/step - loss: 0.0158 - val_loss: 0.0147\n",
      "Epoch 26/50\n",
      "1/1 [==============================] - 0s 305ms/step - loss: 0.0145 - val_loss: 0.0137\n",
      "Epoch 27/50\n",
      "1/1 [==============================] - 0s 304ms/step - loss: 0.0134 - val_loss: 0.0128\n",
      "Epoch 28/50\n",
      "1/1 [==============================] - 0s 299ms/step - loss: 0.0124 - val_loss: 0.0120\n",
      "Epoch 29/50\n",
      "1/1 [==============================] - 0s 302ms/step - loss: 0.0116 - val_loss: 0.0114\n",
      "Epoch 30/50\n",
      "1/1 [==============================] - 0s 314ms/step - loss: 0.0110 - val_loss: 0.0108\n",
      "Epoch 31/50\n",
      "1/1 [==============================] - 0s 311ms/step - loss: 0.0104 - val_loss: 0.0104\n",
      "Epoch 32/50\n",
      "1/1 [==============================] - 0s 314ms/step - loss: 0.0099 - val_loss: 0.0100\n",
      "Epoch 33/50\n",
      "1/1 [==============================] - 0s 308ms/step - loss: 0.0095 - val_loss: 0.0097\n",
      "Epoch 34/50\n",
      "1/1 [==============================] - 0s 321ms/step - loss: 0.0092 - val_loss: 0.0094\n",
      "Epoch 35/50\n",
      "1/1 [==============================] - 0s 296ms/step - loss: 0.0090 - val_loss: 0.0092\n",
      "Epoch 36/50\n",
      "1/1 [==============================] - 0s 302ms/step - loss: 0.0087 - val_loss: 0.0091\n",
      "Epoch 37/50\n",
      "1/1 [==============================] - 0s 302ms/step - loss: 0.0086 - val_loss: 0.0089\n",
      "Epoch 38/50\n",
      "1/1 [==============================] - 0s 300ms/step - loss: 0.0084 - val_loss: 0.0088\n",
      "Epoch 39/50\n",
      "1/1 [==============================] - 0s 308ms/step - loss: 0.0083 - val_loss: 0.0087\n",
      "Epoch 40/50\n",
      "1/1 [==============================] - 0s 321ms/step - loss: 0.0083 - val_loss: 0.0087\n",
      "Epoch 41/50\n",
      "1/1 [==============================] - 0s 299ms/step - loss: 0.0082 - val_loss: 0.0087\n",
      "Epoch 42/50\n",
      "1/1 [==============================] - 0s 304ms/step - loss: 0.0082 - val_loss: 0.0086\n",
      "Epoch 43/50\n",
      "1/1 [==============================] - 0s 321ms/step - loss: 0.0081 - val_loss: 0.0086\n",
      "Epoch 44/50\n",
      "1/1 [==============================] - 0s 312ms/step - loss: 0.0081 - val_loss: 0.0086\n",
      "Epoch 45/50\n",
      "1/1 [==============================] - 0s 303ms/step - loss: 0.0081 - val_loss: 0.0086\n",
      "Epoch 46/50\n",
      "1/1 [==============================] - 0s 309ms/step - loss: 0.0081 - val_loss: 0.0086\n",
      "Epoch 47/50\n",
      "1/1 [==============================] - 0s 301ms/step - loss: 0.0081 - val_loss: 0.0086\n",
      "Epoch 48/50\n",
      "1/1 [==============================] - 0s 361ms/step - loss: 0.0081 - val_loss: 0.0086\n",
      "Epoch 49/50\n",
      "1/1 [==============================] - 0s 308ms/step - loss: 0.0081 - val_loss: 0.0086\n",
      "Epoch 50/50\n",
      "1/1 [==============================] - 0s 301ms/step - loss: 0.0081 - val_loss: 0.0086\n"
     ]
    },
    {
     "data": {
      "text/plain": [
       "<net.EEGNet at 0x7f9ae42eb550>"
      ]
     },
     "execution_count": 6,
     "metadata": {},
     "output_type": "execute_result"
    }
   ],
   "source": [
    "eegnet.fit()"
   ]
  }
 ],
 "metadata": {
  "interpreter": {
   "hash": "1ae971a6462940be47933e1f07228cb732a4a5829590a0ee471006fa906ff195"
  },
  "kernelspec": {
   "display_name": "Python 3.8.10 64-bit ('env': venv)",
   "language": "python",
   "name": "python3"
  },
  "language_info": {
   "codemirror_mode": {
    "name": "ipython",
    "version": 3
   },
   "file_extension": ".py",
   "mimetype": "text/x-python",
   "name": "python",
   "nbconvert_exporter": "python",
   "pygments_lexer": "ipython3",
   "version": "3.8.10"
  },
  "orig_nbformat": 4
 },
 "nbformat": 4,
 "nbformat_minor": 2
}

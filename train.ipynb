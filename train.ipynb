{
 "cells": [
  {
   "cell_type": "markdown",
   "metadata": {},
   "source": [
    "### Forward and Simulation\n",
    "* Read forward solution\n",
    "* Read stored simulation"
   ]
  },
  {
   "cell_type": "code",
   "execution_count": null,
   "metadata": {},
   "outputs": [],
   "source": [
    "from forward import solve_forward\n",
    "from simulation import Simulation\n",
    "import numpy as np"
   ]
  },
  {
   "cell_type": "code",
   "execution_count": null,
   "metadata": {},
   "outputs": [],
   "source": [
    "fwd = solve_forward()\n",
    "\n",
    "# load eeg and source data from previous simulations\n",
    "eeg_data_1 = np.load('/media/thanos/Big Data/Thanos/TUC/Thesis/sim_data/sim_type_1/eeg_big_sim_1.npy')\n",
    "source_data_1 = np.load('/media/thanos/Big Data/Thanos/TUC/Thesis/sim_data/sim_type_1/sources_big_sim_1.npy')\n",
    "\n",
    "eeg_data_2 = np.load('/media/thanos/Big Data/Thanos/TUC/Thesis/sim_data/sim_type_1/eeg_big_sim_2.npy')\n",
    "source_data_2 = np.load('/media/thanos/Big Data/Thanos/TUC/Thesis/sim_data/sim_type_1/sources_big_sim_2.npy')\n",
    "\n",
    "eeg_data_3 = np.load('/media/thanos/Big Data/Thanos/TUC/Thesis/sim_data/sim_type_1/eeg_big_sim_3.npy')\n",
    "source_data_3 = np.load('/media/thanos/Big Data/Thanos/TUC/Thesis/sim_data/sim_type_1/sources_big_sim_3.npy')\n",
    "\n",
    "\n",
    "# merge previous simulations.\n",
    "eeg_data = np.concatenate((eeg_data_1, eeg_data_2, eeg_data_3) , axis=-1)\n",
    "source_data = np.concatenate((source_data_1, source_data_2, source_data_3), axis=-1)\n",
    "\n",
    "# free big arrays\n",
    "del source_data_1, source_data_2, source_data_3, eeg_data_1, eeg_data_2, eeg_data_3\n"
   ]
  },
  {
   "cell_type": "code",
   "execution_count": null,
   "metadata": {},
   "outputs": [],
   "source": [
    "# create sim object\n",
    "sim = Simulation(fwd=fwd,source_data=source_data,eeg_data=eeg_data)\n",
    "\n",
    "del source_data, eeg_data"
   ]
  },
  {
   "cell_type": "markdown",
   "metadata": {},
   "source": [
    "### Train the Neural Network\n",
    "Create and train an MLP network"
   ]
  },
  {
   "cell_type": "code",
   "execution_count": null,
   "metadata": {},
   "outputs": [],
   "source": [
    "from net import EEGMLP\n",
    "\n",
    "eegnet = EEGMLP(sim=sim)\n",
    "\n",
    "del source_data, eeg_data"
   ]
  },
  {
   "cell_type": "code",
   "execution_count": null,
   "metadata": {},
   "outputs": [],
   "source": [
    "# eegnet.load_nn('/media/thanos/Big Data/Thanos/TUC/Thesis/nn_trained/mlp_model_3.h5')"
   ]
  },
  {
   "cell_type": "code",
   "execution_count": null,
   "metadata": {},
   "outputs": [],
   "source": [
    "eegnet.build_model()"
   ]
  },
  {
   "cell_type": "code",
   "execution_count": null,
   "metadata": {},
   "outputs": [],
   "source": [
    "eegnet.fit()"
   ]
  },
  {
   "cell_type": "code",
   "execution_count": null,
   "metadata": {},
   "outputs": [],
   "source": [
    "eegnet.save_nn('/media/thanos/Big Data/Thanos/TUC/Thesis/nn_trained/mlp_model_3.h5', save_sim=True, sim_filename='/media/thanos/Big Data/Thanos/TUC/Thesis/nn_trained/mlp_model_3_sim.pkl')"
   ]
  },
  {
   "cell_type": "markdown",
   "metadata": {},
   "source": [
    "### Predict \n",
    "Predict the sources from other simulations using the trained neural network"
   ]
  },
  {
   "cell_type": "code",
   "execution_count": null,
   "metadata": {},
   "outputs": [],
   "source": [
    "eeg_data = np.load('/media/thanos/Big Data/Thanos/TUC/Thesis/sim_data/sim_type_2/eeg_big_sim_1.npy')\n",
    "source_data = np.load('/media/thanos/Big Data/Thanos/TUC/Thesis/sim_data/sim_type_2/sources_big_sim_1.npy')"
   ]
  },
  {
   "cell_type": "code",
   "execution_count": null,
   "metadata": {},
   "outputs": [],
   "source": [
    "from sklearn.metrics import mean_squared_error\n",
    "eeg = eeg_data[:,1:3]\n",
    "predicted_sources = eegnet.predict(eeg.T).T\n",
    "sources = source_data[:,1:3]\n",
    "mean_squared_error(sources[:,0],predicted_sources[:,0])"
   ]
  }
 ],
 "metadata": {
  "interpreter": {
   "hash": "e55ae3f6af515937c0319b16e610f5fb778062060e5992134dbdbaaf9a7f178e"
  },
  "kernelspec": {
   "display_name": "Python 3.8.10 64-bit ('venv': venv)",
   "language": "python",
   "name": "python3"
  },
  "language_info": {
   "codemirror_mode": {
    "name": "ipython",
    "version": 3
   },
   "file_extension": ".py",
   "mimetype": "text/x-python",
   "name": "python",
   "nbconvert_exporter": "python",
   "pygments_lexer": "ipython3",
   "version": "3.8.10"
  },
  "orig_nbformat": 4
 },
 "nbformat": 4,
 "nbformat_minor": 2
}

{
 "cells": [
  {
   "cell_type": "code",
   "execution_count": null,
   "metadata": {},
   "outputs": [],
   "source": [
    "import numpy as np\n",
    "import mat73\n",
    "from tensorflow.keras.models import load_model\n",
    "import scipy.io\n",
    "import matplotlib.pyplot as plt\n",
    "from matplotlib import cm\n"
   ]
  },
  {
   "cell_type": "code",
   "execution_count": null,
   "metadata": {},
   "outputs": [],
   "source": [
    "model_filename = '../Best Neural Nets/eeg_cnn_20.h5'\n",
    "model = load_model(model_filename,  compile=False)"
   ]
  },
  {
   "cell_type": "code",
   "execution_count": null,
   "metadata": {},
   "outputs": [],
   "source": [
    "model.summary()"
   ]
  },
  {
   "cell_type": "markdown",
   "metadata": {},
   "source": [
    "#### Eval with noisy sim data \n"
   ]
  },
  {
   "cell_type": "code",
   "execution_count": null,
   "metadata": {},
   "outputs": [],
   "source": [
    "# topos were generated with matlab with file create_cnn_input.\n",
    "sources_path = 'single_source'\n",
    "snr = 20\n",
    "eeg_topos = mat73.loadmat('./eval_sim_data/old_nn/{}/{}db/eeg_topos_noisy.mat'.format(sources_path,snr))['eeg_topos']\n",
    "eeg_topos = eeg_topos.transpose(2,0,1)\n",
    "predicted_sources = model.predict(eeg_topos).T\n",
    "np.save('./eval_sim_data/old_nn/{}/{}db/predicted_sources.npy'.format(sources_path,snr),predicted_sources)"
   ]
  },
  {
   "cell_type": "markdown",
   "metadata": {},
   "source": [
    "#### Eval with real data"
   ]
  },
  {
   "cell_type": "code",
   "execution_count": null,
   "metadata": {},
   "outputs": [],
   "source": [
    "# A1999,A1974,A0206\n",
    "subject='A0206'\n",
    "real_data_file = './real_data/{}/eeg_topo_real.mat'.format(subject)\n",
    "topos_eval =  scipy.io.loadmat(real_data_file)['Zi'] \n",
    "\n",
    "plt.contourf(topos_eval, cmap=cm.get_cmap('viridis'))\n",
    "cbar = plt.colorbar()\n",
    "plt.title('Topography')\n",
    "plt.show()\n",
    "\n",
    "topos_eval= np.expand_dims(topos_eval, axis=0)\n",
    "\n",
    "predicted_sources = model.predict(topos_eval).T\n",
    "np.save('./real_data/{}/pred_sources_old.npy'.format(subject),predicted_sources)"
   ]
  },
  {
   "cell_type": "code",
   "execution_count": null,
   "metadata": {},
   "outputs": [],
   "source": [
    "topos_eval = mat73.loadmat('../../Downloads/one_two_sources/eeg_topos.mat')['eeg_topos']\n",
    "topos_eval = topos_eval.transpose(2,0,1)"
   ]
  },
  {
   "cell_type": "code",
   "execution_count": null,
   "metadata": {},
   "outputs": [],
   "source": [
    "predicted_sources = model.predict(topos_eval).T"
   ]
  },
  {
   "cell_type": "code",
   "execution_count": null,
   "metadata": {},
   "outputs": [],
   "source": [
    "np.save('../../Downloads/pred_real.npy',predicted_sources)"
   ]
  },
  {
   "cell_type": "markdown",
   "metadata": {},
   "source": [
    "### Eval with depth dataset"
   ]
  },
  {
   "cell_type": "code",
   "execution_count": null,
   "metadata": {},
   "outputs": [],
   "source": [
    "import os\n",
    "from tqdm import tqdm \n",
    "snr = 20\n",
    "path_to_depth = './eval_sim_data/old_nn/depth/{}db/'.format(snr)\n",
    "\n",
    "for depth_folder in tqdm(os.listdir(path_to_depth)):\n",
    "    depth_folder_full = os.path.join(path_to_depth, depth_folder)\n",
    "    topos_eval = mat73.loadmat(os.path.join(depth_folder_full,'eeg_topos.mat'))['eeg_topos']\n",
    "\n",
    "    topos_eval = topos_eval.transpose(2,0,1)\n",
    "    predicted_sources = model.predict(topos_eval).T\n",
    "    np.save(os.path.join(depth_folder_full,'predicted_sources.npy'),predicted_sources)"
   ]
  }
 ],
 "metadata": {
  "interpreter": {
   "hash": "e55ae3f6af515937c0319b16e610f5fb778062060e5992134dbdbaaf9a7f178e"
  },
  "kernelspec": {
   "display_name": "Python 3.8.10 64-bit ('venv': venv)",
   "language": "python",
   "name": "python3"
  },
  "language_info": {
   "codemirror_mode": {
    "name": "ipython",
    "version": 3
   },
   "file_extension": ".py",
   "mimetype": "text/x-python",
   "name": "python",
   "nbconvert_exporter": "python",
   "pygments_lexer": "ipython3",
   "version": "3.8.10"
  },
  "orig_nbformat": 4
 },
 "nbformat": 4,
 "nbformat_minor": 2
}

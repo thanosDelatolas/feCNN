{
 "cells": [
  {
   "cell_type": "code",
   "execution_count": 1,
   "metadata": {},
   "outputs": [
    {
     "name": "stderr",
     "output_type": "stream",
     "text": [
      "2022-02-14 21:35:29.309554: W tensorflow/stream_executor/platform/default/dso_loader.cc:64] Could not load dynamic library 'libcudart.so.11.0'; dlerror: libcudart.so.11.0: cannot open shared object file: No such file or directory\n",
      "2022-02-14 21:35:29.309574: I tensorflow/stream_executor/cuda/cudart_stub.cc:29] Ignore above cudart dlerror if you do not have a GPU set up on your machine.\n"
     ]
    }
   ],
   "source": [
    "from forward import solve_forward\n",
    "from simulation import Simulation\n",
    "import numpy as np\n",
    "import mat73\n",
    "from net import EEG_CNN\n",
    "import scipy.io\n",
    "import matplotlib.pyplot as plt\n",
    "from matplotlib import cm"
   ]
  },
  {
   "cell_type": "code",
   "execution_count": null,
   "metadata": {},
   "outputs": [],
   "source": [
    "sources = np.load('../downsampled_dipoles-10k/1e-15/sources_10TeD.npy')\n",
    "eeg = np.load('../downsampled_dipoles-10k/1e-15/eeg_10TeD.npy')\n",
    "fwd = solve_forward(num_dipoles='10k')\n",
    "eeg_topos = mat73.loadmat('../downsampled_dipoles-10k/1e-15/eeg_10TeD_topos.mat')['eeg_topos']\n",
    "eeg_topos = eeg_topos.transpose(2, 0, 1)\n",
    "\n",
    "sim = Simulation(fwd=fwd, source_data=sources, eeg_data=eeg)\n",
    "eeg_cnn = EEG_CNN(sim=sim, eeg_topographies=eeg_topos)\n",
    "\n",
    "eeg_cnn.load_nn('../Best Neural Nets/eeg_cnn_10k_dipoles.h5')"
   ]
  },
  {
   "cell_type": "code",
   "execution_count": 7,
   "metadata": {},
   "outputs": [
    {
     "name": "stdout",
     "output_type": "stream",
     "text": [
      "Loaded model in EEGLargeCnn :\n",
      "Model: \"sequential\"\n",
      "_________________________________________________________________\n",
      " Layer (type)                Output Shape              Param #   \n",
      "=================================================================\n",
      " conv2d (Conv2D)             (None, 65, 65, 8)         80        \n",
      "                                                                 \n",
      " flatten (Flatten)           (None, 33800)             0         \n",
      "                                                                 \n",
      " dense (Dense)               (None, 1024)              34612224  \n",
      "                                                                 \n",
      " batch_normalization (BatchN  (None, 1024)             4096      \n",
      " ormalization)                                                   \n",
      "                                                                 \n",
      " dropout (Dropout)           (None, 1024)              0         \n",
      "                                                                 \n",
      " dense_1 (Dense)             (None, 1024)              1049600   \n",
      "                                                                 \n",
      " batch_normalization_1 (Batc  (None, 1024)             4096      \n",
      " hNormalization)                                                 \n",
      "                                                                 \n",
      " dropout_1 (Dropout)         (None, 1024)              0         \n",
      "                                                                 \n",
      " dense_2 (Dense)             (None, 1024)              1049600   \n",
      "                                                                 \n",
      " batch_normalization_2 (Batc  (None, 1024)             4096      \n",
      " hNormalization)                                                 \n",
      "                                                                 \n",
      " dropout_2 (Dropout)         (None, 1024)              0         \n",
      "                                                                 \n",
      " OutputLayer (Dense)         (None, 50460)             51721500  \n",
      "                                                                 \n",
      "=================================================================\n",
      "Total params: 88,445,292\n",
      "Trainable params: 88,439,148\n",
      "Non-trainable params: 6,144\n",
      "_________________________________________________________________\n"
     ]
    }
   ],
   "source": [
    "from net import EEGLargeCnn\n",
    "\n",
    "eeg_cnn = EEGLargeCnn(None,None)\n",
    "eeg_cnn.load_nn('../Best Neural Nets/model_5.h5')"
   ]
  },
  {
   "cell_type": "code",
   "execution_count": 2,
   "metadata": {},
   "outputs": [
    {
     "data": {
      "image/png": "[encoded data removed]",
      "text/plain": [
       "<Figure size 432x288 with 2 Axes>"
      ]
     },
     "metadata": {
      "needs_background": "light"
     },
     "output_type": "display_data"
    }
   ],
   "source": [
    "ms='25'\n",
    "real_data_file = './real_data/{}ms/eeg_topo_real_{}ms.mat'.format(ms,ms)\n",
    "topos_eval =  scipy.io.loadmat(real_data_file)['Zi'] \n",
    "\n",
    "plt.contourf(topos_eval, cmap=cm.get_cmap('viridis'))\n",
    "cbar = plt.colorbar()\n",
    "plt.title('Topography for {} ms'.format(ms.replace('_','.')))\n",
    "plt.show()\n",
    "\n",
    "topos_eval= np.expand_dims(topos_eval, axis=0)"
   ]
  },
  {
   "cell_type": "code",
   "execution_count": 13,
   "metadata": {},
   "outputs": [],
   "source": [
    "topos = mat73.loadmat('../../Downloads/sim_data/eeg_topos.mat')"
   ]
  },
  {
   "cell_type": "code",
   "execution_count": 14,
   "metadata": {},
   "outputs": [],
   "source": [
    "predicted_sources = eeg_cnn.predict(eeg_topos=topos_eval).T"
   ]
  },
  {
   "cell_type": "code",
   "execution_count": 11,
   "metadata": {},
   "outputs": [],
   "source": [
    "np.save('../../Downloads/pred_sources.npy',predicted_sources)"
   ]
  }
 ],
 "metadata": {
  "interpreter": {
   "hash": "e55ae3f6af515937c0319b16e610f5fb778062060e5992134dbdbaaf9a7f178e"
  },
  "kernelspec": {
   "display_name": "Python 3.8.10 64-bit ('venv': venv)",
   "language": "python",
   "name": "python3"
  },
  "language_info": {
   "codemirror_mode": {
    "name": "ipython",
    "version": 3
   },
   "file_extension": ".py",
   "mimetype": "text/x-python",
   "name": "python",
   "nbconvert_exporter": "python",
   "pygments_lexer": "ipython3",
   "version": "3.8.10"
  },
  "orig_nbformat": 4
 },
 "nbformat": 4,
 "nbformat_minor": 2
}

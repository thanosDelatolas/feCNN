{
 "cells": [
  {
   "cell_type": "code",
   "execution_count": 1,
   "metadata": {},
   "outputs": [
    {
     "name": "stderr",
     "output_type": "stream",
     "text": [
      "2022-03-13 13:42:47.075062: W tensorflow/stream_executor/platform/default/dso_loader.cc:64] Could not load dynamic library 'libcudart.so.11.0'; dlerror: libcudart.so.11.0: cannot open shared object file: No such file or directory\n",
      "2022-03-13 13:42:47.075085: I tensorflow/stream_executor/cuda/cudart_stub.cc:29] Ignore above cudart dlerror if you do not have a GPU set up on your machine.\n"
     ]
    }
   ],
   "source": [
    "import numpy as np\n",
    "import mat73\n",
    "from tensorflow.keras.models import load_model\n",
    "import scipy.io\n",
    "import matplotlib.pyplot as plt\n",
    "from matplotlib import cm"
   ]
  },
  {
   "cell_type": "code",
   "execution_count": null,
   "metadata": {},
   "outputs": [],
   "source": [
    "model_filename = '../Best Neural Nets/eeg_cnn_24.h5'\n",
    "model = load_model(model_filename,  compile=False)"
   ]
  },
  {
   "cell_type": "markdown",
   "metadata": {},
   "source": [
    "#### Create simulated data (with AWGN) for evaluation"
   ]
  },
  {
   "cell_type": "code",
   "execution_count": null,
   "metadata": {},
   "outputs": [],
   "source": [
    "###################### single source ######################\n",
    "from forward import solve_forward\n",
    "from simulation import Simulation\n",
    "\n",
    "fwd = solve_forward(num_dipoles='10k')\n",
    "sim = Simulation(fwd=fwd, source_data=None, eeg_data=None)\n",
    "snr = 20\n",
    "eeg_noisy, sources = sim.create_evaluate_dataset(n_samples=5000, snr=snr)\n",
    "\n",
    "print(eeg_noisy.shape)\n",
    "# np.save('./eval_sim_data/single_source/{}db/eeg_noisy.npy'.format(snr),eeg_noisy)\n",
    "# np.save('./eval_sim_data/single_source/{}db/sources.npy'.format(snr),sources)"
   ]
  },
  {
   "cell_type": "code",
   "execution_count": 2,
   "metadata": {},
   "outputs": [
    {
     "name": "stdout",
     "output_type": "stream",
     "text": [
      "Forward problem is solved.\n",
      "Electrodes: (73, 3)\n",
      "Dipoles: (10092, 3)\n",
      "Leadfield: (73, 10092)\n",
      "Simulate Sources.\n"
     ]
    },
    {
     "name": "stderr",
     "output_type": "stream",
     "text": [
      "100%|██████████| 500/500 [00:01<00:00, 465.49it/s]\n"
     ]
    },
    {
     "name": "stdout",
     "output_type": "stream",
     "text": [
      "Simulate EEG.\n",
      "Project sources to EEG.\n",
      "Add noise to eeg\n"
     ]
    },
    {
     "name": "stderr",
     "output_type": "stream",
     "text": [
      "100%|██████████| 500/500 [00:00<00:00, 16850.28it/s]"
     ]
    },
    {
     "name": "stdout",
     "output_type": "stream",
     "text": [
      "(73, 500)\n"
     ]
    },
    {
     "name": "stderr",
     "output_type": "stream",
     "text": [
      "\n"
     ]
    }
   ],
   "source": [
    "###################### two sources ######################\n",
    "from forward import solve_forward\n",
    "from simulation import Simulation\n",
    "\n",
    "fwd = solve_forward(num_dipoles='10k')\n",
    "settings = {  'number_of_sources': 2 }\n",
    "snr = 20\n",
    "sim = Simulation(fwd=fwd, settings=settings, noisy_eeg=True,target_snr=(True, snr))\n",
    "sim.simulate(n_samples=500)\n",
    "\n",
    "eeg_noisy = sim.eeg_data\n",
    "sources = sim.source_data\n",
    "source_centers = sim.source_centers\n",
    "\n",
    "print(eeg_noisy.shape)\n",
    "np.save('./eval_sim_data/two_sources/{}db/eeg_noisy.npy'.format(snr),eeg_noisy)\n",
    "np.save('./eval_sim_data/two_sources/{}db/sources.npy'.format(snr),sources)\n",
    "np.save('./eval_sim_data/two_sources/{}db/source_centers.npy'.format(snr),source_centers)"
   ]
  },
  {
   "cell_type": "markdown",
   "metadata": {},
   "source": [
    "#### Eval with noisy sim data \n"
   ]
  },
  {
   "cell_type": "code",
   "execution_count": null,
   "metadata": {},
   "outputs": [],
   "source": [
    "# topos were generated with matlab with file create_cnn_input.\n",
    "sources_path = 'single_source'\n",
    "snr = 20\n",
    "eeg_topos = mat73.loadmat('./eval_sim_data/{}/{}db/eeg_topos_noisy.mat'.format(sources,snr))['eeg_topos']\n",
    "eeg_topos = eeg_topos.transpose(2,0,1)\n",
    "predicted_sources = model.predict(eeg_topos).T\n",
    "np.save('./eval_sim_data/{}/{}db/predicted_sources.npy'.format(sources,snr),predicted_sources)"
   ]
  },
  {
   "cell_type": "markdown",
   "metadata": {},
   "source": [
    "#### Eval with real data"
   ]
  },
  {
   "cell_type": "code",
   "execution_count": null,
   "metadata": {},
   "outputs": [],
   "source": [
    "ms='20'\n",
    "real_data_file = './real_data/{}ms/eeg_topo_real_{}ms.mat'.format(ms,ms)\n",
    "topos_eval =  scipy.io.loadmat(real_data_file)['Zi'] \n",
    "\n",
    "plt.contourf(topos_eval, cmap=cm.get_cmap('viridis'))\n",
    "cbar = plt.colorbar()\n",
    "plt.title('Topography for {} ms'.format(ms.replace('_','.')))\n",
    "plt.show()\n",
    "\n",
    "topos_eval= np.expand_dims(topos_eval, axis=0)"
   ]
  },
  {
   "cell_type": "code",
   "execution_count": null,
   "metadata": {},
   "outputs": [],
   "source": [
    "topos_eval = mat73.loadmat('../../Downloads/two_sources/eeg_topos.mat')['eeg_topos']\n",
    "topos_eval = topos_eval.transpose(2,0,1)"
   ]
  },
  {
   "cell_type": "code",
   "execution_count": null,
   "metadata": {},
   "outputs": [],
   "source": [
    "predicted_sources = model.predict(topos_eval).T"
   ]
  },
  {
   "cell_type": "code",
   "execution_count": null,
   "metadata": {},
   "outputs": [],
   "source": [
    "np.save('../../Downloads/pred_real.npy',predicted_sources)"
   ]
  },
  {
   "cell_type": "code",
   "execution_count": null,
   "metadata": {},
   "outputs": [],
   "source": [
    "np.save('./real_data/{}ms/pred_sources_{}.npy'.format(ms,ms),predicted_sources)"
   ]
  }
 ],
 "metadata": {
  "interpreter": {
   "hash": "e55ae3f6af515937c0319b16e610f5fb778062060e5992134dbdbaaf9a7f178e"
  },
  "kernelspec": {
   "display_name": "Python 3.8.10 64-bit ('venv': venv)",
   "language": "python",
   "name": "python3"
  },
  "language_info": {
   "codemirror_mode": {
    "name": "ipython",
    "version": 3
   },
   "file_extension": ".py",
   "mimetype": "text/x-python",
   "name": "python",
   "nbconvert_exporter": "python",
   "pygments_lexer": "ipython3",
   "version": "3.8.10"
  },
  "orig_nbformat": 4
 },
 "nbformat": 4,
 "nbformat_minor": 2
}

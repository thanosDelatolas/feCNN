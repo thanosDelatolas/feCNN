{
 "cells": [
  {
   "cell_type": "code",
   "execution_count": 1,
   "metadata": {},
   "outputs": [
    {
     "name": "stderr",
     "output_type": "stream",
     "text": [
      "2021-12-09 01:33:23.070500: W tensorflow/stream_executor/platform/default/dso_loader.cc:64] Could not load dynamic library 'libcudart.so.11.0'; dlerror: libcudart.so.11.0: cannot open shared object file: No such file or directory\n",
      "2021-12-09 01:33:23.070530: I tensorflow/stream_executor/cuda/cudart_stub.cc:29] Ignore above cudart dlerror if you do not have a GPU set up on your machine.\n"
     ]
    }
   ],
   "source": [
    "from forward import solve_forward\n",
    "from simulation import Simulation\n",
    "import numpy as np\n",
    "import util\n",
    "from net import EEGMLP"
   ]
  },
  {
   "cell_type": "code",
   "execution_count": 2,
   "metadata": {},
   "outputs": [
    {
     "name": "stdout",
     "output_type": "stream",
     "text": [
      "Forward problem is solved.\n",
      "Electrodes: (73, 3)\n",
      "Dipoles: (50460, 3)\n",
      "Leadfield: (73, 50460)\n"
     ]
    },
    {
     "name": "stderr",
     "output_type": "stream",
     "text": [
      "2021-12-09 01:43:55.424073: W tensorflow/stream_executor/platform/default/dso_loader.cc:64] Could not load dynamic library 'libcuda.so.1'; dlerror: libcuda.so.1: cannot open shared object file: No such file or directory\n",
      "2021-12-09 01:43:55.425126: W tensorflow/stream_executor/cuda/cuda_driver.cc:269] failed call to cuInit: UNKNOWN ERROR (303)\n",
      "2021-12-09 01:43:55.426281: I tensorflow/stream_executor/cuda/cuda_diagnostics.cc:156] kernel driver does not appear to be running on this host (thanos): /proc/driver/nvidia/version does not exist\n",
      "2021-12-09 01:43:55.492464: I tensorflow/core/platform/cpu_feature_guard.cc:151] This TensorFlow binary is optimized with oneAPI Deep Neural Network Library (oneDNN) to use the following CPU instructions in performance-critical operations:  AVX2 FMA\n",
      "To enable them in other operations, rebuild TensorFlow with the appropriate compiler flags.\n",
      "2021-12-09 01:43:56.303159: W tensorflow/core/framework/cpu_allocator_impl.cc:82] Allocation of 206684160 exceeds 10% of free system memory.\n",
      "2021-12-09 01:43:56.956635: W tensorflow/core/framework/cpu_allocator_impl.cc:82] Allocation of 206684160 exceeds 10% of free system memory.\n",
      "2021-12-09 01:43:57.480156: W tensorflow/core/framework/cpu_allocator_impl.cc:82] Allocation of 206684160 exceeds 10% of free system memory.\n",
      "2021-12-09 01:44:01.215202: W tensorflow/core/framework/cpu_allocator_impl.cc:82] Allocation of 206684160 exceeds 10% of free system memory.\n"
     ]
    },
    {
     "name": "stdout",
     "output_type": "stream",
     "text": [
      "Loaded model in EEGMLP :\n",
      "Model: \"sequential\"\n",
      "_________________________________________________________________\n",
      " Layer (type)                Output Shape              Param #   \n",
      "=================================================================\n",
      " Hidden-1 (Dense)            (None, 256)               18944     \n",
      "                                                                 \n",
      " Hidden-2 (Dense)            (None, 512)               131584    \n",
      "                                                                 \n",
      " Hidden-3 (Dense)            (None, 1024)              525312    \n",
      "                                                                 \n",
      " Output (Dense)              (None, 50460)             51721500  \n",
      "                                                                 \n",
      "=================================================================\n",
      "Total params: 52,397,340\n",
      "Trainable params: 52,397,340\n",
      "Non-trainable params: 0\n",
      "_________________________________________________________________\n"
     ]
    }
   ],
   "source": [
    "fwd = solve_forward()\n",
    "\n",
    "# load previous simulation\n",
    "sim = util.load_object('/media/thanos/Big Data/Thanos/TUC/Thesis/nn_trained/mlp_model_3_sim.pkl')\n",
    "\n",
    "# create the trained nn.\n",
    "eegnet = EEGMLP(sim=sim)\n",
    "eegnet.load_nn('/media/thanos/Big Data/Thanos/TUC/Thesis/nn_trained/mlp_model_3.h5')"
   ]
  },
  {
   "cell_type": "code",
   "execution_count": 3,
   "metadata": {},
   "outputs": [],
   "source": [
    "eeg = np.load('/media/thanos/Big Data/Thanos/TUC/Thesis/sim_data/sim_type_2/eeg_big_sim_1.npy')\n",
    "sources = np.load('/media/thanos/Big Data/Thanos/TUC/Thesis/sim_data/sim_type_2/sources_big_sim_1.npy')"
   ]
  },
  {
   "cell_type": "code",
   "execution_count": 4,
   "metadata": {},
   "outputs": [
    {
     "name": "stderr",
     "output_type": "stream",
     "text": [
      "2021-12-09 01:45:07.206208: W tensorflow/core/framework/cpu_allocator_impl.cc:82] Allocation of 2018400000 exceeds 10% of free system memory.\n"
     ]
    },
    {
     "name": "stdout",
     "output_type": "stream",
     "text": [
      "Normilized MSE: 0.2861879505382205\n",
      "MSE: 95.0307592433411\n"
     ]
    }
   ],
   "source": [
    "nmse = eegnet.evaluate_nmse(eeg=eeg, sources=sources)\n",
    "mse = eegnet.evaluate_mse(eeg=eeg, sources=sources)\n",
    "print('Normilized MSE:', np.mean(nmse))\n",
    "print('MSE:', np.mean(mse))"
   ]
  }
 ],
 "metadata": {
  "interpreter": {
   "hash": "e55ae3f6af515937c0319b16e610f5fb778062060e5992134dbdbaaf9a7f178e"
  },
  "kernelspec": {
   "display_name": "Python 3.8.10 64-bit ('venv': venv)",
   "language": "python",
   "name": "python3"
  },
  "language_info": {
   "codemirror_mode": {
    "name": "ipython",
    "version": 3
   },
   "file_extension": ".py",
   "mimetype": "text/x-python",
   "name": "python",
   "nbconvert_exporter": "python",
   "pygments_lexer": "ipython3",
   "version": "3.8.10"
  },
  "orig_nbformat": 4
 },
 "nbformat": 4,
 "nbformat_minor": 2
}

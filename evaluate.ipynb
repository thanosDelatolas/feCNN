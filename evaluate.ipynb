{
 "cells": [
  {
   "cell_type": "code",
   "execution_count": null,
   "metadata": {},
   "outputs": [],
   "source": [
    "from forward import solve_forward\n",
    "from simulation import Simulation\n",
    "import numpy as np\n",
    "import mat73\n",
    "from net import EEG_CNN\n",
    "import scipy.io\n",
    "import matplotlib.pyplot as plt\n",
    "from matplotlib import cm"
   ]
  },
  {
   "cell_type": "code",
   "execution_count": null,
   "metadata": {},
   "outputs": [],
   "source": [
    "sources = np.load('../downsampled_dipoles-10k/1e-15/sources_10TeD.npy')\n",
    "eeg = np.load('../downsampled_dipoles-10k/1e-15/eeg_10TeD.npy')\n",
    "fwd = solve_forward(num_dipoles='10k')\n",
    "eeg_topos = mat73.loadmat('../downsampled_dipoles-10k/1e-15/eeg_10TeD_topos.mat')['eeg_topos']\n",
    "eeg_topos = eeg_topos.transpose(2, 0, 1)\n",
    "\n",
    "sim = Simulation(fwd=fwd, source_data=sources, eeg_data=eeg)\n",
    "eeg_cnn = EEG_CNN(sim=sim, eeg_topographies=eeg_topos)\n",
    "\n",
    "eeg_cnn.load_nn('../Best Neural Nets/eeg_cnn_10k_dipoles.h5')"
   ]
  },
  {
   "cell_type": "code",
   "execution_count": null,
   "metadata": {},
   "outputs": [],
   "source": [
    "from net import EEGLargeCnn\n",
    "\n",
    "eeg_cnn = EEGLargeCnn(None,None)\n",
    "eeg_cnn.load_nn('../Best Neural Nets/model_5.h5')"
   ]
  },
  {
   "cell_type": "code",
   "execution_count": null,
   "metadata": {},
   "outputs": [],
   "source": [
    "ms='25'\n",
    "real_data_file = './real_data/{}ms/eeg_topo_real_{}ms.mat'.format(ms,ms)\n",
    "topos_eval =  scipy.io.loadmat(real_data_file)['Zi'] \n",
    "\n",
    "plt.contourf(topos_eval, cmap=cm.get_cmap('viridis'))\n",
    "cbar = plt.colorbar()\n",
    "plt.title('Topography for {} ms'.format(ms.replace('_','.')))\n",
    "plt.show()\n",
    "\n",
    "topos_eval= np.expand_dims(topos_eval, axis=0)"
   ]
  },
  {
   "cell_type": "code",
   "execution_count": null,
   "metadata": {},
   "outputs": [],
   "source": [
    "topos = mat73.loadmat('../../Downloads/sim_data/eeg_topos.mat')"
   ]
  },
  {
   "cell_type": "code",
   "execution_count": null,
   "metadata": {},
   "outputs": [],
   "source": [
    "predicted_sources = eeg_cnn.predict(eeg_topos=topos_eval).T"
   ]
  },
  {
   "cell_type": "code",
   "execution_count": null,
   "metadata": {},
   "outputs": [],
   "source": [
    "np.save('../../Downloads/pred_sources.npy',predicted_sources)"
   ]
  }
 ],
 "metadata": {
  "interpreter": {
   "hash": "e55ae3f6af515937c0319b16e610f5fb778062060e5992134dbdbaaf9a7f178e"
  },
  "kernelspec": {
   "display_name": "Python 3.8.10 64-bit ('venv': venv)",
   "language": "python",
   "name": "python3"
  },
  "language_info": {
   "codemirror_mode": {
    "name": "ipython",
    "version": 3
   },
   "file_extension": ".py",
   "mimetype": "text/x-python",
   "name": "python",
   "nbconvert_exporter": "python",
   "pygments_lexer": "ipython3",
   "version": "3.8.10"
  },
  "orig_nbformat": 4
 },
 "nbformat": 4,
 "nbformat_minor": 2
}

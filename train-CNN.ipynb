{
 "cells": [
  {
   "cell_type": "code",
   "execution_count": 2,
   "metadata": {},
   "outputs": [],
   "source": [
    "import util\n",
    "from forward import solve_forward\n",
    "from simulation import Simulation\n",
    "import numpy as np\n",
    "import matplotlib.pyplot as plt\n",
    "from matplotlib import cm\n",
    "# to load large .mat files\n",
    "import mat73\n",
    "import random"
   ]
  },
  {
   "cell_type": "code",
   "execution_count": 3,
   "metadata": {},
   "outputs": [],
   "source": [
    "eeg_topos = mat73.loadmat('/media/thanos/Big Data/Thanos/TUC/Thesis/sim_data/sim_type_1/eeg_topographies.mat')['eeg_arr']\n",
    "eeg_topos = eeg_topos.transpose(2, 0, 1)"
   ]
  },
  {
   "cell_type": "code",
   "execution_count": 4,
   "metadata": {},
   "outputs": [
    {
     "data": {
      "text/plain": [
       "Text(0.5, 1.0, 'Topography for eeg signal: 57697')"
      ]
     },
     "execution_count": 4,
     "metadata": {},
     "output_type": "execute_result"
    },
    {
     "data": {
      "image/png": "[encoded data removed]",
      "text/plain": [
       "<Figure size 432x288 with 2 Axes>"
      ]
     },
     "metadata": {
      "needs_background": "light"
     },
     "output_type": "display_data"
    }
   ],
   "source": [
    "topo_idx = random.randint(0,eeg_topos.shape[0]-1)\n",
    "topo = eeg_topos[topo_idx,:,:]\n",
    "plt.contourf(topo, cmap=cm.get_cmap('viridis'))\n",
    "cbar = plt.colorbar()\n",
    "plt.draw()\n",
    "plt.title('Topography for eeg signal: {}'.format(topo_idx+1))"
   ]
  },
  {
   "cell_type": "code",
   "execution_count": 5,
   "metadata": {},
   "outputs": [],
   "source": [
    "# load previous simulation\n",
    "sim = util.load_object('/media/thanos/Big Data/Thanos/TUC/Thesis/sim_data/sim_type_1/sim_obj_100k.pkl')\n",
    "# fwd = solve_forward()\n",
    "# sim = Simulation(fwd=fwd)\n",
    "# sim.simulate(n_samples=100)"
   ]
  },
  {
   "cell_type": "code",
   "execution_count": 6,
   "metadata": {},
   "outputs": [
    {
     "name": "stderr",
     "output_type": "stream",
     "text": [
      "2021-12-11 01:30:49.650968: W tensorflow/stream_executor/platform/default/dso_loader.cc:64] Could not load dynamic library 'libcudart.so.11.0'; dlerror: libcudart.so.11.0: cannot open shared object file: No such file or directory\n",
      "2021-12-11 01:30:49.651227: I tensorflow/stream_executor/cuda/cudart_stub.cc:29] Ignore above cudart dlerror if you do not have a GPU set up on your machine.\n"
     ]
    }
   ],
   "source": [
    "from net import EEG_CNN\n",
    "eegcnn = EEG_CNN(sim=sim, eeg_topographies=eeg_topos)"
   ]
  },
  {
   "cell_type": "code",
   "execution_count": 7,
   "metadata": {},
   "outputs": [
    {
     "name": "stderr",
     "output_type": "stream",
     "text": [
      "2021-12-11 01:39:23.430387: W tensorflow/stream_executor/platform/default/dso_loader.cc:64] Could not load dynamic library 'libcuda.so.1'; dlerror: libcuda.so.1: cannot open shared object file: No such file or directory\n",
      "2021-12-11 01:39:23.432344: W tensorflow/stream_executor/cuda/cuda_driver.cc:269] failed call to cuInit: UNKNOWN ERROR (303)\n",
      "2021-12-11 01:39:23.434068: I tensorflow/stream_executor/cuda/cuda_diagnostics.cc:156] kernel driver does not appear to be running on this host (thanos): /proc/driver/nvidia/version does not exist\n",
      "2021-12-11 01:39:23.481130: I tensorflow/core/platform/cpu_feature_guard.cc:151] This TensorFlow binary is optimized with oneAPI Deep Neural Network Library (oneDNN) to use the following CPU instructions in performance-critical operations:  AVX2 FMA\n",
      "To enable them in other operations, rebuild TensorFlow with the appropriate compiler flags.\n",
      "2021-12-11 01:39:25.408932: W tensorflow/core/framework/cpu_allocator_impl.cc:82] Allocation of 69222400 exceeds 10% of free system memory.\n",
      "2021-12-11 01:39:26.403417: W tensorflow/core/framework/cpu_allocator_impl.cc:82] Allocation of 69222400 exceeds 10% of free system memory.\n",
      "2021-12-11 01:39:26.508814: W tensorflow/core/framework/cpu_allocator_impl.cc:82] Allocation of 69222400 exceeds 10% of free system memory.\n",
      "2021-12-11 01:39:26.621714: W tensorflow/core/framework/cpu_allocator_impl.cc:82] Allocation of 413368320 exceeds 10% of free system memory.\n",
      "2021-12-11 01:39:28.080046: W tensorflow/core/framework/cpu_allocator_impl.cc:82] Allocation of 413368320 exceeds 10% of free system memory.\n"
     ]
    },
    {
     "name": "stdout",
     "output_type": "stream",
     "text": [
      "Model: \"sequential\"\n",
      "_________________________________________________________________\n",
      " Layer (type)                Output Shape              Param #   \n",
      "=================================================================\n",
      " conv2d (Conv2D)             (None, 65, 65, 8)         80        \n",
      "                                                                 \n",
      " flatten (Flatten)           (None, 33800)             0         \n",
      "                                                                 \n",
      " dense (Dense)               (None, 512)               17306112  \n",
      "                                                                 \n",
      " dense_1 (Dense)             (None, 1024)              525312    \n",
      "                                                                 \n",
      " dense_2 (Dense)             (None, 2048)              2099200   \n",
      "                                                                 \n",
      " OutputLayer (Dense)         (None, 50460)             103392540 \n",
      "                                                                 \n",
      "=================================================================\n",
      "Total params: 123,323,244\n",
      "Trainable params: 123,323,244\n",
      "Non-trainable params: 0\n",
      "_________________________________________________________________\n"
     ]
    }
   ],
   "source": [
    "eegcnn.build_model()"
   ]
  },
  {
   "cell_type": "code",
   "execution_count": 8,
   "metadata": {},
   "outputs": [
    {
     "name": "stdout",
     "output_type": "stream",
     "text": [
      "Epoch 1/50\n",
      "800/800 [==============================] - 1353s 2s/step - loss: 0.0077 - MAE: 4.2527 - RMSE: 4.6897 - val_loss: 0.0075 - val_MAE: 5.8896 - val_RMSE: 6.3161\n",
      "Epoch 2/50\n",
      "800/800 [==============================] - 1086s 1s/step - loss: 0.0076 - MAE: 7.7077 - RMSE: 8.3134 - val_loss: 0.0075 - val_MAE: 9.2765 - val_RMSE: 9.9625\n",
      "Epoch 3/50\n",
      "800/800 [==============================] - 1117s 1s/step - loss: 0.0076 - MAE: 10.5950 - RMSE: 11.3555 - val_loss: 0.0075 - val_MAE: 11.7437 - val_RMSE: 12.5738\n",
      "Epoch 4/50\n",
      "800/800 [==============================] - 1138s 1s/step - loss: 0.0076 - MAE: 12.8909 - RMSE: 13.7887 - val_loss: 0.0075 - val_MAE: 13.9125 - val_RMSE: 14.8417\n",
      "Epoch 5/50\n",
      "800/800 [==============================] - 1148s 1s/step - loss: 0.0076 - MAE: 14.7774 - RMSE: 15.7929 - val_loss: 0.0075 - val_MAE: 15.5845 - val_RMSE: 16.6335\n",
      "Epoch 6/50\n",
      "800/800 [==============================] - 1150s 1s/step - loss: 0.0076 - MAE: 16.4229 - RMSE: 17.5411 - val_loss: 0.0075 - val_MAE: 17.2473 - val_RMSE: 18.4298\n",
      "Epoch 7/50\n",
      "800/800 [==============================] - 1150s 1s/step - loss: 0.0076 - MAE: 17.8821 - RMSE: 19.0984 - val_loss: 0.0075 - val_MAE: 18.6071 - val_RMSE: 19.8807\n",
      "Epoch 8/50\n",
      "800/800 [==============================] - 1136s 1s/step - loss: 0.0076 - MAE: 19.2554 - RMSE: 20.5580 - val_loss: 0.0075 - val_MAE: 19.6506 - val_RMSE: 21.0671\n",
      "Epoch 9/50\n",
      "800/800 [==============================] - 1149s 1s/step - loss: 0.0076 - MAE: 20.5266 - RMSE: 21.9138 - val_loss: 0.0075 - val_MAE: 21.1116 - val_RMSE: 22.5170\n",
      "Epoch 10/50\n",
      "800/800 [==============================] - 1153s 1s/step - loss: 0.0076 - MAE: 21.7125 - RMSE: 23.1767 - val_loss: 0.0075 - val_MAE: 22.1719 - val_RMSE: 23.6828\n",
      "Epoch 11/50\n",
      "800/800 [==============================] - 1146s 1s/step - loss: 0.0076 - MAE: 22.7594 - RMSE: 24.2877 - val_loss: 0.0075 - val_MAE: 23.3820 - val_RMSE: 24.9678\n",
      "Epoch 12/50\n",
      "800/800 [==============================] - 1149s 1s/step - loss: 0.0076 - MAE: 23.8427 - RMSE: 25.4464 - val_loss: 0.0075 - val_MAE: 24.2599 - val_RMSE: 25.9498\n",
      "Epoch 13/50\n",
      "800/800 [==============================] - 1138s 1s/step - loss: 0.0076 - MAE: 24.9266 - RMSE: 26.6015 - val_loss: 0.0075 - val_MAE: 25.2339 - val_RMSE: 26.9770\n",
      "Epoch 14/50\n",
      "800/800 [==============================] - 1130s 1s/step - loss: 0.0076 - MAE: 25.9242 - RMSE: 27.6666 - val_loss: 0.0075 - val_MAE: 26.4018 - val_RMSE: 28.1543\n",
      "Epoch 15/50\n",
      "800/800 [==============================] - ETA: 0s - loss: 0.0076 - MAE: 26.8979 - RMSE: 28.6998Restoring model weights from the end of the best epoch: 10.\n",
      "800/800 [==============================] - 1142s 1s/step - loss: 0.0076 - MAE: 26.8979 - RMSE: 28.6998 - val_loss: 0.0075 - val_MAE: 27.4972 - val_RMSE: 29.2947\n",
      "Epoch 00015: early stopping\n"
     ]
    },
    {
     "data": {
      "text/plain": [
       "(<keras.callbacks.History at 0x7ff973fe06a0>,\n",
       " 'logs/CNN-Model-11/12/2021-01:39:33')"
      ]
     },
     "execution_count": 8,
     "metadata": {},
     "output_type": "execute_result"
    }
   ],
   "source": [
    "eegcnn.fit()"
   ]
  },
  {
   "cell_type": "code",
   "execution_count": 9,
   "metadata": {},
   "outputs": [],
   "source": [
    "eegcnn.save_nn('/media/thanos/Big Data/Thanos/TUC/Thesis/nn_trained/cnn_model_1.h5')"
   ]
  },
  {
   "cell_type": "code",
   "execution_count": null,
   "metadata": {},
   "outputs": [],
   "source": []
  }
 ],
 "metadata": {
  "interpreter": {
   "hash": "e55ae3f6af515937c0319b16e610f5fb778062060e5992134dbdbaaf9a7f178e"
  },
  "kernelspec": {
   "display_name": "Python 3.8.10 64-bit ('venv': venv)",
   "language": "python",
   "name": "python3"
  },
  "language_info": {
   "codemirror_mode": {
    "name": "ipython",
    "version": 3
   },
   "file_extension": ".py",
   "mimetype": "text/x-python",
   "name": "python",
   "nbconvert_exporter": "python",
   "pygments_lexer": "ipython3",
   "version": "3.8.10"
  },
  "orig_nbformat": 4
 },
 "nbformat": 4,
 "nbformat_minor": 2
}

{
 "cells": [
  {
   "cell_type": "code",
   "execution_count": 1,
   "metadata": {},
   "outputs": [
    {
     "name": "stderr",
     "output_type": "stream",
     "text": [
      "2021-12-18 00:53:56.534365: W tensorflow/stream_executor/platform/default/dso_loader.cc:64] Could not load dynamic library 'libcudart.so.11.0'; dlerror: libcudart.so.11.0: cannot open shared object file: No such file or directory\n",
      "2021-12-18 00:53:56.534428: I tensorflow/stream_executor/cuda/cudart_stub.cc:29] Ignore above cudart dlerror if you do not have a GPU set up on your machine.\n"
     ]
    }
   ],
   "source": [
    "import util\n",
    "from forward import solve_forward\n",
    "from simulation import Simulation\n",
    "import numpy as np\n",
    "import matplotlib.pyplot as plt\n",
    "from matplotlib import cm\n",
    "# to load large .mat files\n",
    "import mat73\n",
    "import random\n",
    "from net import EEG_CNN"
   ]
  },
  {
   "cell_type": "markdown",
   "metadata": {},
   "source": [
    "### Train the CNN"
   ]
  },
  {
   "cell_type": "code",
   "execution_count": 2,
   "metadata": {},
   "outputs": [],
   "source": [
    "eeg_topos = mat73.loadmat('/media/thanos/Elements/thanos/sim_data/sim_type_1/eeg_2TeD_topos.mat')['eeg_topos']\n",
    "eeg_topos = eeg_topos.transpose(2, 0, 1)"
   ]
  },
  {
   "cell_type": "code",
   "execution_count": 3,
   "metadata": {},
   "outputs": [
    {
     "data": {
      "text/plain": [
       "Text(0.5, 1.0, 'Topography for eeg signal: 41263')"
      ]
     },
     "execution_count": 3,
     "metadata": {},
     "output_type": "execute_result"
    },
    {
     "data": {
      "image/png": "[encoded data removed]",
      "text/plain": [
       "<Figure size 432x288 with 2 Axes>"
      ]
     },
     "metadata": {
      "needs_background": "light"
     },
     "output_type": "display_data"
    }
   ],
   "source": [
    "topo_idx = random.randint(0,eeg_topos.shape[0]-1)\n",
    "topo = eeg_topos[topo_idx,:,:]\n",
    "plt.contourf(topo, cmap=cm.get_cmap('viridis'))\n",
    "cbar = plt.colorbar()\n",
    "plt.draw()\n",
    "plt.title('Topography for eeg signal: {}'.format(topo_idx+1))"
   ]
  },
  {
   "cell_type": "code",
   "execution_count": 4,
   "metadata": {},
   "outputs": [
    {
     "name": "stdout",
     "output_type": "stream",
     "text": [
      "Forward problem is solved.\n",
      "Electrodes: (73, 3)\n",
      "Dipoles: (50460, 3)\n",
      "Leadfield: (73, 50460)\n"
     ]
    }
   ],
   "source": [
    "# load previous simulation\n",
    "sources = np.load('/media/thanos/Elements/thanos/sim_data/sim_type_1/sources_2TeD.npy')\n",
    "eeg = np.load('/media/thanos/Elements/thanos/sim_data/sim_type_1/eeg_2TeD.npy')\n",
    "fwd = solve_forward()\n",
    "sim = Simulation(fwd=fwd, source_data=sources, eeg_data=eeg)\n",
    "# fwd = solve_forward()\n",
    "# sim = Simulation(fwd=fwd)\n",
    "# sim.simulate(n_samples=100)"
   ]
  },
  {
   "cell_type": "code",
   "execution_count": 5,
   "metadata": {},
   "outputs": [],
   "source": [
    "eegcnn = EEG_CNN(sim=sim, eeg_topographies=eeg_topos)"
   ]
  },
  {
   "cell_type": "code",
   "execution_count": 6,
   "metadata": {},
   "outputs": [
    {
     "name": "stderr",
     "output_type": "stream",
     "text": [
      "2021-12-18 01:04:10.275041: W tensorflow/stream_executor/platform/default/dso_loader.cc:64] Could not load dynamic library 'libcuda.so.1'; dlerror: libcuda.so.1: cannot open shared object file: No such file or directory\n",
      "2021-12-18 01:04:10.276178: W tensorflow/stream_executor/cuda/cuda_driver.cc:269] failed call to cuInit: UNKNOWN ERROR (303)\n",
      "2021-12-18 01:04:10.277906: I tensorflow/stream_executor/cuda/cuda_diagnostics.cc:156] kernel driver does not appear to be running on this host (thanos): /proc/driver/nvidia/version does not exist\n",
      "2021-12-18 01:04:10.295211: I tensorflow/core/platform/cpu_feature_guard.cc:151] This TensorFlow binary is optimized with oneAPI Deep Neural Network Library (oneDNN) to use the following CPU instructions in performance-critical operations:  AVX2 FMA\n",
      "To enable them in other operations, rebuild TensorFlow with the appropriate compiler flags.\n",
      "2021-12-18 01:04:10.901167: W tensorflow/core/framework/cpu_allocator_impl.cc:82] Allocation of 69222400 exceeds 10% of free system memory.\n",
      "2021-12-18 01:04:11.064553: W tensorflow/core/framework/cpu_allocator_impl.cc:82] Allocation of 69222400 exceeds 10% of free system memory.\n",
      "2021-12-18 01:04:11.263310: W tensorflow/core/framework/cpu_allocator_impl.cc:82] Allocation of 69222400 exceeds 10% of free system memory.\n",
      "2021-12-18 01:04:11.705927: W tensorflow/core/framework/cpu_allocator_impl.cc:82] Allocation of 413368320 exceeds 10% of free system memory.\n",
      "2021-12-18 01:04:12.028490: W tensorflow/core/framework/cpu_allocator_impl.cc:82] Allocation of 413368320 exceeds 10% of free system memory.\n"
     ]
    },
    {
     "name": "stdout",
     "output_type": "stream",
     "text": [
      "Model: \"sequential\"\n",
      "_________________________________________________________________\n",
      " Layer (type)                Output Shape              Param #   \n",
      "=================================================================\n",
      " conv2d (Conv2D)             (None, 65, 65, 8)         80        \n",
      "                                                                 \n",
      " flatten (Flatten)           (None, 33800)             0         \n",
      "                                                                 \n",
      " batch_normalization (BatchN  (None, 33800)            135200    \n",
      " ormalization)                                                   \n",
      "                                                                 \n",
      " dense (Dense)               (None, 512)               17306112  \n",
      "                                                                 \n",
      " batch_normalization_1 (Batc  (None, 512)              2048      \n",
      " hNormalization)                                                 \n",
      "                                                                 \n",
      " dense_1 (Dense)             (None, 1024)              525312    \n",
      "                                                                 \n",
      " batch_normalization_2 (Batc  (None, 1024)             4096      \n",
      " hNormalization)                                                 \n",
      "                                                                 \n",
      " dense_2 (Dense)             (None, 2048)              2099200   \n",
      "                                                                 \n",
      " batch_normalization_3 (Batc  (None, 2048)             8192      \n",
      " hNormalization)                                                 \n",
      "                                                                 \n",
      " OutputLayer (Dense)         (None, 50460)             103392540 \n",
      "                                                                 \n",
      "=================================================================\n",
      "Total params: 123,472,780\n",
      "Trainable params: 123,398,012\n",
      "Non-trainable params: 74,768\n",
      "_________________________________________________________________\n"
     ]
    }
   ],
   "source": [
    "eegcnn.build_model()"
   ]
  },
  {
   "cell_type": "code",
   "execution_count": 7,
   "metadata": {},
   "outputs": [
    {
     "name": "stdout",
     "output_type": "stream",
     "text": [
      "Epoch 1/50\n",
      "808/808 [==============================] - 1154s 1s/step - loss: 1.8612e-11 - MAE: 2.8491e-07 - RMSE: 4.3142e-06 - val_loss: 0.0667 - val_MAE: 0.1456 - val_RMSE: 0.2583 - lr: 0.0100\n",
      "Epoch 2/50\n",
      "808/808 [==============================] - 1010s 1s/step - loss: 2.3248e-13 - MAE: 6.2933e-09 - RMSE: 4.8216e-07 - val_loss: 1.5203e-05 - val_MAE: 0.0022 - val_RMSE: 0.0039 - lr: 0.0100\n",
      "Epoch 3/50\n",
      "808/808 [==============================] - 1057s 1s/step - loss: 5.7730e-14 - MAE: 1.8749e-09 - RMSE: 2.4027e-07 - val_loss: 1.9067e-05 - val_MAE: 0.0024 - val_RMSE: 0.0044 - lr: 0.0100\n",
      "Epoch 4/50\n",
      "808/808 [==============================] - 1088s 1s/step - loss: 3.8683e-14 - MAE: 1.3234e-09 - RMSE: 1.9668e-07 - val_loss: 2.4322e-05 - val_MAE: 0.0027 - val_RMSE: 0.0049 - lr: 0.0100\n",
      "Epoch 5/50\n",
      "808/808 [==============================] - 1036s 1s/step - loss: 1.8234e-14 - MAE: 7.5389e-10 - RMSE: 1.3503e-07 - val_loss: 3.1739e-05 - val_MAE: 0.0031 - val_RMSE: 0.0056 - lr: 0.0100\n",
      "Epoch 6/50\n",
      "808/808 [==============================] - 1029s 1s/step - loss: 1.5419e-14 - MAE: 6.8113e-10 - RMSE: 1.2417e-07 - val_loss: 1.5993e-05 - val_MAE: 0.0022 - val_RMSE: 0.0040 - lr: 0.0100\n",
      "Epoch 7/50\n",
      "808/808 [==============================] - 1028s 1s/step - loss: 1.5143e-14 - MAE: 6.6332e-10 - RMSE: 1.2305e-07 - val_loss: 1.4995e-05 - val_MAE: 0.0021 - val_RMSE: 0.0039 - lr: 0.0100\n",
      "Epoch 8/50\n",
      "808/808 [==============================] - 1075s 1s/step - loss: 1.3824e-14 - MAE: 6.1846e-10 - RMSE: 1.1757e-07 - val_loss: 1.1908e-05 - val_MAE: 0.0019 - val_RMSE: 0.0035 - lr: 0.0100\n",
      "Epoch 9/50\n",
      "808/808 [==============================] - 1113s 1s/step - loss: 1.3125e-14 - MAE: 5.9574e-10 - RMSE: 1.1456e-07 - val_loss: 1.8406e-05 - val_MAE: 0.0024 - val_RMSE: 0.0043 - lr: 0.0100\n",
      "Epoch 10/50\n",
      "808/808 [==============================] - 1139s 1s/step - loss: 9.5376e-15 - MAE: 4.8986e-10 - RMSE: 9.7660e-08 - val_loss: 1.4483e-05 - val_MAE: 0.0021 - val_RMSE: 0.0038 - lr: 0.0100\n",
      "Epoch 11/50\n",
      "808/808 [==============================] - 1159s 1s/step - loss: 6.9065e-15 - MAE: 3.9409e-10 - RMSE: 8.3105e-08 - val_loss: 1.4944e-05 - val_MAE: 0.0021 - val_RMSE: 0.0039 - lr: 0.0100\n",
      "Epoch 12/50\n",
      "808/808 [==============================] - 1149s 1s/step - loss: 5.0255e-15 - MAE: 3.2914e-10 - RMSE: 7.0891e-08 - val_loss: 1.0827e-05 - val_MAE: 0.0018 - val_RMSE: 0.0033 - lr: 0.0100\n",
      "Epoch 13/50\n",
      "808/808 [==============================] - 1158s 1s/step - loss: 8.8641e-15 - MAE: 4.5848e-10 - RMSE: 9.4149e-08 - val_loss: 7.6547e-06 - val_MAE: 0.0015 - val_RMSE: 0.0028 - lr: 0.0100\n",
      "Epoch 14/50\n",
      "808/808 [==============================] - 1160s 1s/step - loss: 7.8780e-15 - MAE: 4.3459e-10 - RMSE: 8.8758e-08 - val_loss: 8.4287e-06 - val_MAE: 0.0016 - val_RMSE: 0.0029 - lr: 0.0100\n",
      "Epoch 15/50\n",
      "808/808 [==============================] - 1167s 1s/step - loss: 5.3176e-15 - MAE: 3.4419e-10 - RMSE: 7.2922e-08 - val_loss: 7.1088e-06 - val_MAE: 0.0015 - val_RMSE: 0.0027 - lr: 0.0100\n",
      "Epoch 16/50\n",
      "808/808 [==============================] - 1163s 1s/step - loss: 6.5123e-15 - MAE: 3.8293e-10 - RMSE: 8.0699e-08 - val_loss: 8.1857e-06 - val_MAE: 0.0016 - val_RMSE: 0.0029 - lr: 0.0100\n",
      "Epoch 17/50\n",
      "808/808 [==============================] - 1159s 1s/step - loss: 6.5462e-15 - MAE: 3.7920e-10 - RMSE: 8.0909e-08 - val_loss: 8.9590e-06 - val_MAE: 0.0016 - val_RMSE: 0.0030 - lr: 0.0100\n",
      "Epoch 18/50\n",
      "808/808 [==============================] - 1188s 1s/step - loss: 6.7885e-15 - MAE: 3.9670e-10 - RMSE: 8.2392e-08 - val_loss: 8.0817e-06 - val_MAE: 0.0016 - val_RMSE: 0.0028 - lr: 0.0100\n",
      "Epoch 19/50\n",
      "808/808 [==============================] - 1159s 1s/step - loss: 5.4330e-15 - MAE: 3.4160e-10 - RMSE: 7.3709e-08 - val_loss: 1.6527e-05 - val_MAE: 0.0023 - val_RMSE: 0.0041 - lr: 0.0100\n",
      "Epoch 20/50\n",
      "808/808 [==============================] - 1159s 1s/step - loss: 5.5558e-15 - MAE: 3.4964e-10 - RMSE: 7.4537e-08 - val_loss: 7.5708e-06 - val_MAE: 0.0015 - val_RMSE: 0.0028 - lr: 0.0100\n",
      "Epoch 21/50\n",
      "808/808 [==============================] - 1156s 1s/step - loss: 3.7105e-15 - MAE: 2.8465e-10 - RMSE: 6.0913e-08 - val_loss: 1.6345e-05 - val_MAE: 0.0022 - val_RMSE: 0.0040 - lr: 0.0100\n",
      "Epoch 22/50\n",
      "808/808 [==============================] - 1157s 1s/step - loss: 3.3880e-15 - MAE: 2.7877e-10 - RMSE: 5.8206e-08 - val_loss: 1.4591e-05 - val_MAE: 0.0021 - val_RMSE: 0.0038 - lr: 0.0100\n",
      "Epoch 23/50\n",
      "808/808 [==============================] - 1146s 1s/step - loss: 3.8000e-15 - MAE: 2.9345e-10 - RMSE: 6.1644e-08 - val_loss: 1.3338e-05 - val_MAE: 0.0020 - val_RMSE: 0.0037 - lr: 0.0100\n",
      "Epoch 24/50\n",
      "808/808 [==============================] - 1150s 1s/step - loss: 4.5491e-15 - MAE: 3.1624e-10 - RMSE: 6.7447e-08 - val_loss: 6.9434e-06 - val_MAE: 0.0014 - val_RMSE: 0.0026 - lr: 0.0100\n",
      "Epoch 25/50\n",
      "808/808 [==============================] - 1154s 1s/step - loss: 2.4864e-15 - MAE: 2.4404e-10 - RMSE: 4.9863e-08 - val_loss: 6.2699e-06 - val_MAE: 0.0014 - val_RMSE: 0.0025 - lr: 0.0100\n",
      "Epoch 26/50\n",
      "808/808 [==============================] - 1160s 1s/step - loss: 2.9828e-15 - MAE: 2.5942e-10 - RMSE: 5.4615e-08 - val_loss: 6.4994e-06 - val_MAE: 0.0014 - val_RMSE: 0.0025 - lr: 0.0100\n",
      "Epoch 27/50\n",
      "808/808 [==============================] - 1151s 1s/step - loss: 3.4351e-15 - MAE: 2.7872e-10 - RMSE: 5.8609e-08 - val_loss: 1.3460e-05 - val_MAE: 0.0020 - val_RMSE: 0.0037 - lr: 0.0100\n",
      "Epoch 28/50\n",
      "808/808 [==============================] - 1145s 1s/step - loss: 1.8191e-15 - MAE: 2.1947e-10 - RMSE: 4.2651e-08 - val_loss: 1.6469e-05 - val_MAE: 0.0022 - val_RMSE: 0.0041 - lr: 0.0100\n",
      "Epoch 29/50\n",
      "808/808 [==============================] - 1154s 1s/step - loss: 3.6824e-15 - MAE: 2.8712e-10 - RMSE: 6.0682e-08 - val_loss: 1.5934e-05 - val_MAE: 0.0022 - val_RMSE: 0.0040 - lr: 0.0100\n",
      "Epoch 30/50\n",
      "808/808 [==============================] - 1149s 1s/step - loss: 2.2032e-15 - MAE: 2.3466e-10 - RMSE: 4.6938e-08 - val_loss: 1.3737e-05 - val_MAE: 0.0020 - val_RMSE: 0.0037 - lr: 0.0100\n",
      "Epoch 31/50\n",
      "808/808 [==============================] - 1168s 1s/step - loss: 2.8420e-15 - MAE: 2.5660e-10 - RMSE: 5.3311e-08 - val_loss: 1.0898e-05 - val_MAE: 0.0018 - val_RMSE: 0.0033 - lr: 0.0100\n",
      "Epoch 32/50\n",
      "808/808 [==============================] - 1187s 1s/step - loss: 2.1458e-15 - MAE: 2.3203e-10 - RMSE: 4.6323e-08 - val_loss: 1.5803e-05 - val_MAE: 0.0022 - val_RMSE: 0.0040 - lr: 0.0100\n",
      "Epoch 33/50\n",
      "808/808 [==============================] - 1064s 1s/step - loss: 3.0635e-15 - MAE: 2.6342e-10 - RMSE: 5.5349e-08 - val_loss: 1.4044e-05 - val_MAE: 0.0021 - val_RMSE: 0.0037 - lr: 0.0100\n",
      "Epoch 34/50\n",
      "808/808 [==============================] - 1004s 1s/step - loss: 3.1122e-15 - MAE: 2.6616e-10 - RMSE: 5.5787e-08 - val_loss: 1.7796e-05 - val_MAE: 0.0023 - val_RMSE: 0.0042 - lr: 0.0100\n",
      "Epoch 35/50\n",
      "808/808 [==============================] - 991s 1s/step - loss: 2.8024e-15 - MAE: 2.5701e-10 - RMSE: 5.2937e-08 - val_loss: 1.6205e-05 - val_MAE: 0.0022 - val_RMSE: 0.0040 - lr: 0.0100\n",
      "Epoch 36/50\n",
      "808/808 [==============================] - 1009s 1s/step - loss: 2.4836e-15 - MAE: 2.4110e-10 - RMSE: 4.9836e-08 - val_loss: 1.8565e-05 - val_MAE: 0.0024 - val_RMSE: 0.0043 - lr: 0.0100\n",
      "Epoch 37/50\n",
      "808/808 [==============================] - 1063s 1s/step - loss: 2.1801e-15 - MAE: 2.3365e-10 - RMSE: 4.6691e-08 - val_loss: 1.3272e-05 - val_MAE: 0.0020 - val_RMSE: 0.0036 - lr: 0.0100\n",
      "Epoch 38/50\n",
      "808/808 [==============================] - 1102s 1s/step - loss: 1.9460e-15 - MAE: 2.2558e-10 - RMSE: 4.4114e-08 - val_loss: 1.1362e-05 - val_MAE: 0.0019 - val_RMSE: 0.0034 - lr: 0.0100\n",
      "Epoch 39/50\n",
      "808/808 [==============================] - 1099s 1s/step - loss: 2.7563e-15 - MAE: 2.4923e-10 - RMSE: 5.2500e-08 - val_loss: 1.8884e-05 - val_MAE: 0.0024 - val_RMSE: 0.0043 - lr: 0.0100\n",
      "Epoch 40/50\n",
      "808/808 [==============================] - 1097s 1s/step - loss: 6.4775e-15 - MAE: 3.7424e-10 - RMSE: 8.0483e-08 - val_loss: 9.7155e-06 - val_MAE: 0.0017 - val_RMSE: 0.0031 - lr: 0.0100\n",
      "Epoch 41/50\n",
      "808/808 [==============================] - 1079s 1s/step - loss: 4.5090e-15 - MAE: 3.0853e-10 - RMSE: 6.7149e-08 - val_loss: 1.7349e-05 - val_MAE: 0.0023 - val_RMSE: 0.0042 - lr: 0.0100\n",
      "Epoch 42/50\n",
      "808/808 [==============================] - 1074s 1s/step - loss: 4.9365e-15 - MAE: 3.3373e-10 - RMSE: 7.0260e-08 - val_loss: 1.8394e-05 - val_MAE: 0.0024 - val_RMSE: 0.0043 - lr: 0.0010\n",
      "Epoch 43/50\n",
      "808/808 [==============================] - 1065s 1s/step - loss: 2.7907e-15 - MAE: 2.5473e-10 - RMSE: 5.2827e-08 - val_loss: 1.8214e-05 - val_MAE: 0.0024 - val_RMSE: 0.0043 - lr: 0.0010\n",
      "Epoch 44/50\n",
      "808/808 [==============================] - 1062s 1s/step - loss: 2.5326e-15 - MAE: 2.4403e-10 - RMSE: 5.0325e-08 - val_loss: 1.8256e-05 - val_MAE: 0.0024 - val_RMSE: 0.0043 - lr: 0.0010\n",
      "Epoch 45/50\n",
      "808/808 [==============================] - 1069s 1s/step - loss: 2.0638e-15 - MAE: 2.2333e-10 - RMSE: 4.5429e-08 - val_loss: 1.7964e-05 - val_MAE: 0.0023 - val_RMSE: 0.0042 - lr: 0.0010\n",
      "Epoch 46/50\n",
      "808/808 [==============================] - 1079s 1s/step - loss: 1.8392e-15 - MAE: 2.1751e-10 - RMSE: 4.2885e-08 - val_loss: 1.7934e-05 - val_MAE: 0.0023 - val_RMSE: 0.0042 - lr: 0.0010\n",
      "Epoch 47/50\n",
      "808/808 [==============================] - 1093s 1s/step - loss: 2.3312e-15 - MAE: 2.3741e-10 - RMSE: 4.8283e-08 - val_loss: 1.8061e-05 - val_MAE: 0.0023 - val_RMSE: 0.0042 - lr: 0.0010\n",
      "Epoch 48/50\n",
      "808/808 [==============================] - 1084s 1s/step - loss: 2.8600e-15 - MAE: 2.4998e-10 - RMSE: 5.3479e-08 - val_loss: 1.8006e-05 - val_MAE: 0.0023 - val_RMSE: 0.0042 - lr: 0.0010\n",
      "Epoch 49/50\n",
      "808/808 [==============================] - 1087s 1s/step - loss: 2.8328e-15 - MAE: 2.5452e-10 - RMSE: 5.3224e-08 - val_loss: 1.7793e-05 - val_MAE: 0.0023 - val_RMSE: 0.0042 - lr: 0.0010\n",
      "Epoch 50/50\n",
      "808/808 [==============================] - 1110s 1s/step - loss: 2.6943e-15 - MAE: 2.4688e-10 - RMSE: 5.1907e-08 - val_loss: 1.7826e-05 - val_MAE: 0.0023 - val_RMSE: 0.0042 - lr: 0.0010\n"
     ]
    },
    {
     "data": {
      "text/plain": [
       "(<keras.callbacks.History at 0x7efd30d78970>,\n",
       " 'logs/CNN-Model-18_12_2021__00:53:59')"
      ]
     },
     "execution_count": 7,
     "metadata": {},
     "output_type": "execute_result"
    }
   ],
   "source": [
    "eegcnn.fit(patience=35)"
   ]
  },
  {
   "cell_type": "code",
   "execution_count": 8,
   "metadata": {},
   "outputs": [],
   "source": [
    "#eegcnn.save_nn('/media/thanos/Elements/thanos/nn_trained/cnn_model_4.h5')\n",
    "\n",
    "eegcnn.save_nn('cnn_model_1.h5')"
   ]
  },
  {
   "cell_type": "markdown",
   "metadata": {},
   "source": [
    "### Evaluate the CNN"
   ]
  },
  {
   "cell_type": "code",
   "execution_count": null,
   "metadata": {},
   "outputs": [],
   "source": [
    "eegcnn.load_nn('/media/thanos/Elements/thanos/nn_trained/cnn_model_4.h5')"
   ]
  },
  {
   "cell_type": "code",
   "execution_count": null,
   "metadata": {},
   "outputs": [],
   "source": [
    "eeg_topos_eval = mat73.loadmat('/media/thanos/Elements/thanos/sim_data/sim_type_2/eeg_topographies_type_2.mat')['eeg_topos']\n",
    "eeg_topos_eval = eeg_topos_eval.transpose(2, 0, 1)\n",
    "\n",
    "sim_type_2 = util.load_object('/media/thanos/Elements/thanos/sim_data/sim_type_2/sim_obj_10k_type_2.pkl')\n",
    "sources_eval = sim_type_2.source_data"
   ]
  },
  {
   "cell_type": "code",
   "execution_count": null,
   "metadata": {},
   "outputs": [],
   "source": [
    "mse = eegcnn.evaluate_mse(eeg=eeg_topos_eval,sources=sources_eval)\n",
    "nmse = eegcnn.evaluate_nmse(eeg=eeg_topos_eval, sources=sources_eval)\n",
    "\n",
    "print('Normilized MSE:', np.mean(nmse))\n",
    "print('MSE:', np.mean(mse))"
   ]
  }
 ],
 "metadata": {
  "interpreter": {
   "hash": "e55ae3f6af515937c0319b16e610f5fb778062060e5992134dbdbaaf9a7f178e"
  },
  "kernelspec": {
   "display_name": "Python 3.8.10 64-bit ('venv': venv)",
   "language": "python",
   "name": "python3"
  },
  "language_info": {
   "codemirror_mode": {
    "name": "ipython",
    "version": 3
   },
   "file_extension": ".py",
   "mimetype": "text/x-python",
   "name": "python",
   "nbconvert_exporter": "python",
   "pygments_lexer": "ipython3",
   "version": "3.8.10"
  },
  "orig_nbformat": 4
 },
 "nbformat": 4,
 "nbformat_minor": 2
}

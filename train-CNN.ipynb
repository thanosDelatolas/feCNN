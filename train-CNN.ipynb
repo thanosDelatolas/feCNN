{
 "cells": [
  {
   "cell_type": "code",
   "execution_count": 1,
   "metadata": {},
   "outputs": [
    {
     "name": "stderr",
     "output_type": "stream",
     "text": [
      "2021-12-18 21:36:47.260281: W tensorflow/stream_executor/platform/default/dso_loader.cc:64] Could not load dynamic library 'libcudart.so.11.0'; dlerror: libcudart.so.11.0: cannot open shared object file: No such file or directory\n",
      "2021-12-18 21:36:47.260310: I tensorflow/stream_executor/cuda/cudart_stub.cc:29] Ignore above cudart dlerror if you do not have a GPU set up on your machine.\n"
     ]
    }
   ],
   "source": [
    "import util\n",
    "from forward import solve_forward\n",
    "from simulation import Simulation\n",
    "import numpy as np\n",
    "import matplotlib.pyplot as plt\n",
    "from matplotlib import cm\n",
    "# to load large .mat files\n",
    "import mat73\n",
    "import random\n",
    "from net import EEG_CNN"
   ]
  },
  {
   "cell_type": "markdown",
   "metadata": {},
   "source": [
    "### Train the CNN"
   ]
  },
  {
   "cell_type": "code",
   "execution_count": 3,
   "metadata": {},
   "outputs": [],
   "source": [
    "eeg_topos = mat73.loadmat('/media/thanos/Elements/thanos/sim_data/sim_type_1/eeg_2TeD_topos.mat')['eeg_topos']\n",
    "eeg_topos = eeg_topos.transpose(2, 0, 1)"
   ]
  },
  {
   "cell_type": "code",
   "execution_count": 4,
   "metadata": {},
   "outputs": [
    {
     "data": {
      "text/plain": [
       "Text(0.5, 1.0, 'Topography for eeg signal: 68621')"
      ]
     },
     "execution_count": 4,
     "metadata": {},
     "output_type": "execute_result"
    },
    {
     "data": {
      "image/png": "[encoded data removed]",
      "text/plain": [
       "<Figure size 432x288 with 2 Axes>"
      ]
     },
     "metadata": {
      "needs_background": "light"
     },
     "output_type": "display_data"
    }
   ],
   "source": [
    "topo_idx = random.randint(0,eeg_topos.shape[0]-1)\n",
    "topo = eeg_topos[topo_idx,:,:]\n",
    "plt.contourf(topo, cmap=cm.get_cmap('viridis'))\n",
    "cbar = plt.colorbar()\n",
    "plt.draw()\n",
    "plt.title('Topography for eeg signal: {}'.format(topo_idx+1))"
   ]
  },
  {
   "cell_type": "code",
   "execution_count": 5,
   "metadata": {},
   "outputs": [
    {
     "name": "stdout",
     "output_type": "stream",
     "text": [
      "Forward problem is solved.\n",
      "Electrodes: (73, 3)\n",
      "Dipoles: (50460, 3)\n",
      "Leadfield: (73, 50460)\n"
     ]
    }
   ],
   "source": [
    "# load previous simulation\n",
    "sources = np.load('/media/thanos/Elements/thanos/sim_data/sim_type_1/sources_2TeD.npy')\n",
    "eeg = np.load('/media/thanos/Elements/thanos/sim_data/sim_type_1/eeg_2TeD.npy')\n",
    "fwd = solve_forward()\n",
    "sim = Simulation(fwd=fwd, source_data=sources, eeg_data=eeg)\n",
    "# fwd = solve_forward()\n",
    "# sim = Simulation(fwd=fwd)\n",
    "# sim.simulate(n_samples=100)"
   ]
  },
  {
   "cell_type": "code",
   "execution_count": 6,
   "metadata": {},
   "outputs": [],
   "source": [
    "eegcnn = EEG_CNN(sim=sim, eeg_topographies=eeg_topos)"
   ]
  },
  {
   "cell_type": "code",
   "execution_count": 7,
   "metadata": {},
   "outputs": [
    {
     "name": "stderr",
     "output_type": "stream",
     "text": [
      "2021-12-18 21:48:50.725350: W tensorflow/stream_executor/platform/default/dso_loader.cc:64] Could not load dynamic library 'libcuda.so.1'; dlerror: libcuda.so.1: cannot open shared object file: No such file or directory\n",
      "2021-12-18 21:48:50.726351: W tensorflow/stream_executor/cuda/cuda_driver.cc:269] failed call to cuInit: UNKNOWN ERROR (303)\n",
      "2021-12-18 21:48:50.728133: I tensorflow/stream_executor/cuda/cuda_diagnostics.cc:156] kernel driver does not appear to be running on this host (thanos): /proc/driver/nvidia/version does not exist\n",
      "2021-12-18 21:48:50.749613: I tensorflow/core/platform/cpu_feature_guard.cc:151] This TensorFlow binary is optimized with oneAPI Deep Neural Network Library (oneDNN) to use the following CPU instructions in performance-critical operations:  AVX2 FMA\n",
      "To enable them in other operations, rebuild TensorFlow with the appropriate compiler flags.\n",
      "2021-12-18 21:48:51.825461: W tensorflow/core/framework/cpu_allocator_impl.cc:82] Allocation of 69222400 exceeds 10% of free system memory.\n",
      "2021-12-18 21:48:52.092160: W tensorflow/core/framework/cpu_allocator_impl.cc:82] Allocation of 69222400 exceeds 10% of free system memory.\n",
      "2021-12-18 21:48:52.647396: W tensorflow/core/framework/cpu_allocator_impl.cc:82] Allocation of 69222400 exceeds 10% of free system memory.\n",
      "2021-12-18 21:48:58.073375: W tensorflow/core/framework/cpu_allocator_impl.cc:82] Allocation of 413368320 exceeds 10% of free system memory.\n",
      "2021-12-18 21:48:58.940067: W tensorflow/core/framework/cpu_allocator_impl.cc:82] Allocation of 413368320 exceeds 10% of free system memory.\n"
     ]
    },
    {
     "name": "stdout",
     "output_type": "stream",
     "text": [
      "Model: \"sequential\"\n",
      "_________________________________________________________________\n",
      " Layer (type)                Output Shape              Param #   \n",
      "=================================================================\n",
      " conv2d (Conv2D)             (None, 65, 65, 8)         80        \n",
      "                                                                 \n",
      " batch_normalization (BatchN  (None, 65, 65, 8)        32        \n",
      " ormalization)                                                   \n",
      "                                                                 \n",
      " flatten (Flatten)           (None, 33800)             0         \n",
      "                                                                 \n",
      " dense (Dense)               (None, 512)               17306112  \n",
      "                                                                 \n",
      " batch_normalization_1 (Batc  (None, 512)              2048      \n",
      " hNormalization)                                                 \n",
      "                                                                 \n",
      " dense_1 (Dense)             (None, 1024)              525312    \n",
      "                                                                 \n",
      " batch_normalization_2 (Batc  (None, 1024)             4096      \n",
      " hNormalization)                                                 \n",
      "                                                                 \n",
      " dense_2 (Dense)             (None, 2048)              2099200   \n",
      "                                                                 \n",
      " batch_normalization_3 (Batc  (None, 2048)             8192      \n",
      " hNormalization)                                                 \n",
      "                                                                 \n",
      " OutputLayer (Dense)         (None, 50460)             103392540 \n",
      "                                                                 \n",
      "=================================================================\n",
      "Total params: 123,337,612\n",
      "Trainable params: 123,330,428\n",
      "Non-trainable params: 7,184\n",
      "_________________________________________________________________\n"
     ]
    }
   ],
   "source": [
    "eegcnn.build_model()"
   ]
  },
  {
   "cell_type": "code",
   "execution_count": 8,
   "metadata": {},
   "outputs": [
    {
     "name": "stdout",
     "output_type": "stream",
     "text": [
      "Epoch 1/50\n",
      "808/808 [==============================] - 1837s 2s/step - loss: 0.0013 - MAPE: 85364576.0000 - val_loss: 0.0011 - val_MAPE: 15930318.0000\n",
      "Epoch 2/50\n",
      "808/808 [==============================] - 1450s 2s/step - loss: 4.9840e-04 - MAPE: 36182576.0000 - val_loss: 0.0018 - val_MAPE: 11612504.0000\n",
      "Epoch 3/50\n",
      "808/808 [==============================] - 1490s 2s/step - loss: 4.0624e-04 - MAPE: 16357637.0000 - val_loss: 3.9325e-04 - val_MAPE: 3962665.0000\n",
      "Epoch 4/50\n",
      "808/808 [==============================] - 1555s 2s/step - loss: 3.8033e-04 - MAPE: 12345189.0000 - val_loss: 3.4065e-04 - val_MAPE: 1753262.7500\n",
      "Epoch 5/50\n",
      "808/808 [==============================] - 1494s 2s/step - loss: 3.6585e-04 - MAPE: 10717376.0000 - val_loss: 0.0036 - val_MAPE: 66326736.0000\n",
      "Epoch 6/50\n",
      "808/808 [==============================] - 1416s 2s/step - loss: 3.4640e-04 - MAPE: 8488738.0000 - val_loss: 4.1997e-04 - val_MAPE: 409315.3438\n",
      "Epoch 7/50\n",
      "808/808 [==============================] - 1410s 2s/step - loss: 3.2508e-04 - MAPE: 6129187.5000 - val_loss: 3.1837e-04 - val_MAPE: 1342096.1250\n",
      "Epoch 8/50\n",
      "808/808 [==============================] - 1402s 2s/step - loss: 2.9255e-04 - MAPE: 4287182.5000 - val_loss: 2.4903e-04 - val_MAPE: 330082.0000\n",
      "Epoch 9/50\n",
      "808/808 [==============================] - 1346s 2s/step - loss: 2.6389e-04 - MAPE: 3042190.2500 - val_loss: 2.6852e-04 - val_MAPE: 1160110.8750\n",
      "Epoch 10/50\n",
      "808/808 [==============================] - 1360s 2s/step - loss: 2.4103e-04 - MAPE: 2170949.7500 - val_loss: 2.7009e-04 - val_MAPE: 70238320.0000\n",
      "Epoch 11/50\n",
      "808/808 [==============================] - 1306s 2s/step - loss: 2.2611e-04 - MAPE: 1335259.3750 - val_loss: 2.2548e-04 - val_MAPE: 536334.1250\n",
      "Epoch 12/50\n",
      "808/808 [==============================] - 1164s 1s/step - loss: 2.1126e-04 - MAPE: 645617.3125 - val_loss: 2.7699e-04 - val_MAPE: 223968.0938\n",
      "Epoch 13/50\n",
      "808/808 [==============================] - 1213s 1s/step - loss: 1.9959e-04 - MAPE: 541282.7500 - val_loss: 2.0339e-04 - val_MAPE: 61967964.0000\n",
      "Epoch 14/50\n",
      "808/808 [==============================] - 1260s 2s/step - loss: 1.9302e-04 - MAPE: 426476.7812 - val_loss: 1.9656e-04 - val_MAPE: 13445411.0000\n",
      "Epoch 15/50\n",
      "808/808 [==============================] - 1286s 2s/step - loss: 1.7906e-04 - MAPE: 373301.9062 - val_loss: 1.8626e-04 - val_MAPE: 338597.3750\n",
      "Epoch 16/50\n",
      "808/808 [==============================] - 1301s 2s/step - loss: 1.7215e-04 - MAPE: 358290.0938 - val_loss: 1.8972e-04 - val_MAPE: 331406.5938\n",
      "Epoch 17/50\n",
      "808/808 [==============================] - 1304s 2s/step - loss: 1.6561e-04 - MAPE: 363099.0000 - val_loss: 2.1218e-04 - val_MAPE: 437431.4062\n",
      "Epoch 18/50\n",
      "808/808 [==============================] - 1276s 2s/step - loss: 1.5866e-04 - MAPE: 346386.7812 - val_loss: 1.5786e-04 - val_MAPE: 1901309.0000\n",
      "Epoch 19/50\n",
      "808/808 [==============================] - 1272s 2s/step - loss: 1.5282e-04 - MAPE: 340004.2188 - val_loss: 1.6257e-04 - val_MAPE: 1947900.5000\n",
      "Epoch 20/50\n",
      "808/808 [==============================] - 1241s 2s/step - loss: 1.4699e-04 - MAPE: 312841.0938 - val_loss: 1.5432e-04 - val_MAPE: 224484.8125\n",
      "Epoch 21/50\n",
      "808/808 [==============================] - 1253s 2s/step - loss: 1.4201e-04 - MAPE: 291155.1875 - val_loss: 1.3528e-04 - val_MAPE: 196677.2969\n",
      "Epoch 22/50\n",
      "808/808 [==============================] - 1238s 2s/step - loss: 1.3551e-04 - MAPE: 256205.5000 - val_loss: 1.4557e-04 - val_MAPE: 327771.5312\n",
      "Epoch 23/50\n",
      "808/808 [==============================] - 1236s 2s/step - loss: 1.3100e-04 - MAPE: 243946.9531 - val_loss: 1.2314e-04 - val_MAPE: 765789.3750\n",
      "Epoch 24/50\n",
      "808/808 [==============================] - 1234s 2s/step - loss: 1.2675e-04 - MAPE: 244998.7656 - val_loss: 1.1235e-04 - val_MAPE: 7225147.5000\n",
      "Epoch 25/50\n",
      "808/808 [==============================] - 1237s 2s/step - loss: 1.2076e-04 - MAPE: 234176.3281 - val_loss: 1.1155e-04 - val_MAPE: 142886.6562\n",
      "Epoch 26/50\n",
      "808/808 [==============================] - 1211s 1s/step - loss: 1.1863e-04 - MAPE: 227948.6406 - val_loss: 1.2551e-04 - val_MAPE: 122002.8828\n",
      "Epoch 27/50\n",
      "808/808 [==============================] - 1206s 1s/step - loss: 1.1466e-04 - MAPE: 230359.6719 - val_loss: 1.1575e-04 - val_MAPE: 98065.7188\n",
      "Epoch 28/50\n",
      "808/808 [==============================] - 1226s 2s/step - loss: 1.1046e-04 - MAPE: 216489.7344 - val_loss: 1.9387e-04 - val_MAPE: 53897340.0000\n",
      "Epoch 29/50\n",
      "808/808 [==============================] - 1238s 2s/step - loss: 1.0830e-04 - MAPE: 216592.4375 - val_loss: 1.2378e-04 - val_MAPE: 128090.2891\n",
      "Epoch 30/50\n",
      "808/808 [==============================] - 1244s 2s/step - loss: 1.0684e-04 - MAPE: 222822.0000 - val_loss: 1.1023e-04 - val_MAPE: 74108.2812\n",
      "Epoch 31/50\n",
      "808/808 [==============================] - 1241s 2s/step - loss: 1.0340e-04 - MAPE: 208932.7656 - val_loss: 9.7365e-05 - val_MAPE: 47774.1758\n",
      "Epoch 32/50\n",
      "808/808 [==============================] - 1241s 2s/step - loss: 1.0162e-04 - MAPE: 214048.9844 - val_loss: 1.1174e-04 - val_MAPE: 108863.5781\n",
      "Epoch 33/50\n",
      "808/808 [==============================] - 1234s 2s/step - loss: 9.9008e-05 - MAPE: 209897.8750 - val_loss: 1.0293e-04 - val_MAPE: 142341.3125\n",
      "Epoch 34/50\n",
      "808/808 [==============================] - 1234s 2s/step - loss: 9.6901e-05 - MAPE: 206265.0938 - val_loss: 9.7178e-05 - val_MAPE: 101087.2734\n",
      "Epoch 35/50\n",
      "808/808 [==============================] - 1229s 2s/step - loss: 9.4152e-05 - MAPE: 199059.1719 - val_loss: 1.0202e-04 - val_MAPE: 49851.2852\n",
      "Epoch 36/50\n",
      "808/808 [==============================] - 1230s 2s/step - loss: 9.3279e-05 - MAPE: 203551.6719 - val_loss: 9.5853e-05 - val_MAPE: 125398.8516\n",
      "Epoch 37/50\n",
      "808/808 [==============================] - 1250s 2s/step - loss: 9.1900e-05 - MAPE: 194442.2812 - val_loss: 9.4830e-05 - val_MAPE: 62053.2891\n",
      "Epoch 38/50\n",
      "808/808 [==============================] - 1185s 1s/step - loss: 9.0119e-05 - MAPE: 193354.8906 - val_loss: 8.0819e-05 - val_MAPE: 50123.1172\n",
      "Epoch 39/50\n",
      "808/808 [==============================] - 1122s 1s/step - loss: 8.8024e-05 - MAPE: 192137.4688 - val_loss: 9.3463e-05 - val_MAPE: 115632.8906\n",
      "Epoch 40/50\n",
      "808/808 [==============================] - 1134s 1s/step - loss: 8.7788e-05 - MAPE: 190866.8594 - val_loss: 9.7548e-05 - val_MAPE: 79642.9453\n",
      "Epoch 41/50\n",
      "808/808 [==============================] - 1155s 1s/step - loss: 8.6403e-05 - MAPE: 183914.0781 - val_loss: 8.6580e-05 - val_MAPE: 91582.3203\n",
      "Epoch 42/50\n",
      "808/808 [==============================] - 1168s 1s/step - loss: 8.4141e-05 - MAPE: 186328.8281 - val_loss: 1.0681e-04 - val_MAPE: 72299.2656\n",
      "Epoch 43/50\n",
      "808/808 [==============================] - 1160s 1s/step - loss: 8.3936e-05 - MAPE: 188276.3594 - val_loss: 7.7510e-05 - val_MAPE: 70944.3438\n",
      "Epoch 44/50\n",
      "808/808 [==============================] - 1199s 1s/step - loss: 8.2419e-05 - MAPE: 183912.2188 - val_loss: 8.8000e-05 - val_MAPE: 109352.3203\n",
      "Epoch 45/50\n",
      "808/808 [==============================] - 1253s 2s/step - loss: 8.0957e-05 - MAPE: 175007.2969 - val_loss: 7.8061e-05 - val_MAPE: 163302.6406\n",
      "Epoch 46/50\n",
      "808/808 [==============================] - 1265s 2s/step - loss: 7.9991e-05 - MAPE: 171919.2812 - val_loss: 7.6869e-05 - val_MAPE: 50633.9297\n",
      "Epoch 47/50\n",
      "808/808 [==============================] - 1239s 2s/step - loss: 7.8713e-05 - MAPE: 181795.0781 - val_loss: 7.8196e-05 - val_MAPE: 63739.9414\n",
      "Epoch 48/50\n",
      "808/808 [==============================] - 1240s 2s/step - loss: 7.7406e-05 - MAPE: 173571.9531 - val_loss: 7.1241e-05 - val_MAPE: 32888.5625\n",
      "Epoch 49/50\n",
      "808/808 [==============================] - 1221s 2s/step - loss: 7.7542e-05 - MAPE: 174868.9375 - val_loss: 1.0638e-04 - val_MAPE: 140203.6875\n",
      "Epoch 50/50\n",
      "808/808 [==============================] - 1231s 2s/step - loss: 7.4892e-05 - MAPE: 160548.6875 - val_loss: 7.3704e-05 - val_MAPE: 50143.7500\n"
     ]
    },
    {
     "data": {
      "text/plain": [
       "(<keras.callbacks.History at 0x7fe9bd52a700>,\n",
       " 'logs/CNN-Model-18_12_2021__21:36:49')"
      ]
     },
     "execution_count": 8,
     "metadata": {},
     "output_type": "execute_result"
    }
   ],
   "source": [
    "eegcnn.fit(patience=35)"
   ]
  },
  {
   "cell_type": "code",
   "execution_count": 9,
   "metadata": {},
   "outputs": [],
   "source": [
    "#eegcnn.save_nn('/media/thanos/Elements/thanos/nn_trained/cnn_model_4.h5')\n",
    "\n",
    "eegcnn.save_nn('../cnn_model_2.h5')"
   ]
  },
  {
   "cell_type": "markdown",
   "metadata": {},
   "source": [
    "### Evaluate the CNN"
   ]
  },
  {
   "cell_type": "code",
   "execution_count": null,
   "metadata": {},
   "outputs": [],
   "source": [
    "eegcnn.load_nn('/media/thanos/Elements/thanos/nn_trained/cnn_model_4.h5')"
   ]
  },
  {
   "cell_type": "code",
   "execution_count": null,
   "metadata": {},
   "outputs": [],
   "source": [
    "eeg_topos_eval = mat73.loadmat('/media/thanos/Elements/thanos/sim_data/sim_type_2/eeg_topographies_type_2.mat')['eeg_topos']\n",
    "eeg_topos_eval = eeg_topos_eval.transpose(2, 0, 1)\n",
    "\n",
    "sim_type_2 = util.load_object('/media/thanos/Elements/thanos/sim_data/sim_type_2/sim_obj_10k_type_2.pkl')\n",
    "sources_eval = sim_type_2.source_data"
   ]
  },
  {
   "cell_type": "code",
   "execution_count": null,
   "metadata": {},
   "outputs": [],
   "source": [
    "mse = eegcnn.evaluate_mse(eeg=eeg_topos_eval,sources=sources_eval)\n",
    "nmse = eegcnn.evaluate_nmse(eeg=eeg_topos_eval, sources=sources_eval)\n",
    "\n",
    "print('Normilized MSE:', np.mean(nmse))\n",
    "print('MSE:', np.mean(mse))"
   ]
  }
 ],
 "metadata": {
  "interpreter": {
   "hash": "e55ae3f6af515937c0319b16e610f5fb778062060e5992134dbdbaaf9a7f178e"
  },
  "kernelspec": {
   "display_name": "Python 3.8.10 64-bit ('venv': venv)",
   "language": "python",
   "name": "python3"
  },
  "language_info": {
   "codemirror_mode": {
    "name": "ipython",
    "version": 3
   },
   "file_extension": ".py",
   "mimetype": "text/x-python",
   "name": "python",
   "nbconvert_exporter": "python",
   "pygments_lexer": "ipython3",
   "version": "3.8.10"
  },
  "orig_nbformat": 4
 },
 "nbformat": 4,
 "nbformat_minor": 2
}

{
 "cells": [
  {
   "cell_type": "code",
   "execution_count": 1,
   "metadata": {},
   "outputs": [
    {
     "name": "stderr",
     "output_type": "stream",
     "text": [
      "2021-12-21 00:39:18.852177: W tensorflow/stream_executor/platform/default/dso_loader.cc:64] Could not load dynamic library 'libcudart.so.11.0'; dlerror: libcudart.so.11.0: cannot open shared object file: No such file or directory\n",
      "2021-12-21 00:39:18.852209: I tensorflow/stream_executor/cuda/cudart_stub.cc:29] Ignore above cudart dlerror if you do not have a GPU set up on your machine.\n"
     ]
    }
   ],
   "source": [
    "from forward import solve_forward\n",
    "from simulation import Simulation\n",
    "import numpy as np\n",
    "import matplotlib.pyplot as plt\n",
    "from matplotlib import cm\n",
    "# to load large .mat files\n",
    "import mat73\n",
    "import random\n",
    "from net import EEG_CNN"
   ]
  },
  {
   "cell_type": "markdown",
   "metadata": {},
   "source": [
    "### Train the CNN"
   ]
  },
  {
   "cell_type": "code",
   "execution_count": 2,
   "metadata": {},
   "outputs": [],
   "source": [
    "eeg_topos = mat73.loadmat('/media/thanos/Elements/thanos/sim_data/sim_type_1/eeg_topos_2TeD.mat')['eeg_topos']\n",
    "eeg_topos = eeg_topos.transpose(2, 0, 1)"
   ]
  },
  {
   "cell_type": "code",
   "execution_count": 3,
   "metadata": {},
   "outputs": [
    {
     "data": {
      "text/plain": [
       "Text(0.5, 1.0, 'Topography for eeg signal: 64013')"
      ]
     },
     "execution_count": 3,
     "metadata": {},
     "output_type": "execute_result"
    },
    {
     "data": {
      "image/png": "[encoded data removed]",
      "text/plain": [
       "<Figure size 432x288 with 2 Axes>"
      ]
     },
     "metadata": {
      "needs_background": "light"
     },
     "output_type": "display_data"
    }
   ],
   "source": [
    "topo_idx = random.randint(0,eeg_topos.shape[0]-1)\n",
    "topo = eeg_topos[topo_idx,:,:]\n",
    "plt.contourf(topo, cmap=cm.get_cmap('viridis'))\n",
    "cbar = plt.colorbar()\n",
    "plt.draw()\n",
    "plt.title('Topography for eeg signal: {}'.format(topo_idx+1))"
   ]
  },
  {
   "cell_type": "code",
   "execution_count": 4,
   "metadata": {},
   "outputs": [
    {
     "name": "stdout",
     "output_type": "stream",
     "text": [
      "Forward problem is solved.\n",
      "Electrodes: (73, 3)\n",
      "Dipoles: (50460, 3)\n",
      "Leadfield: (73, 50460)\n"
     ]
    }
   ],
   "source": [
    "# load previous simulation\n",
    "sources = np.load('/media/thanos/Elements/thanos/sim_data/sim_type_1/sources_2TeD.npy')\n",
    "eeg = np.load('/media/thanos/Elements/thanos/sim_data/sim_type_1/eeg_2TeD.npy')\n",
    "\n",
    "fwd = solve_forward()\n",
    "sim = Simulation(fwd=fwd, source_data=sources, eeg_data=eeg)\n",
    "# fwd = solve_forward()\n",
    "# sim = Simulation(fwd=fwd)\n",
    "# sim.simulate(n_samples=100)"
   ]
  },
  {
   "cell_type": "code",
   "execution_count": 5,
   "metadata": {},
   "outputs": [],
   "source": [
    "eegcnn = EEG_CNN(sim=sim, eeg_topographies=eeg_topos)"
   ]
  },
  {
   "cell_type": "code",
   "execution_count": 6,
   "metadata": {},
   "outputs": [
    {
     "name": "stderr",
     "output_type": "stream",
     "text": [
      "2021-12-21 00:48:54.001863: W tensorflow/stream_executor/platform/default/dso_loader.cc:64] Could not load dynamic library 'libcuda.so.1'; dlerror: libcuda.so.1: cannot open shared object file: No such file or directory\n",
      "2021-12-21 00:48:54.002969: W tensorflow/stream_executor/cuda/cuda_driver.cc:269] failed call to cuInit: UNKNOWN ERROR (303)\n",
      "2021-12-21 00:48:54.004210: I tensorflow/stream_executor/cuda/cuda_diagnostics.cc:156] kernel driver does not appear to be running on this host (thanos): /proc/driver/nvidia/version does not exist\n",
      "2021-12-21 00:48:54.021387: I tensorflow/core/platform/cpu_feature_guard.cc:151] This TensorFlow binary is optimized with oneAPI Deep Neural Network Library (oneDNN) to use the following CPU instructions in performance-critical operations:  AVX2 FMA\n",
      "To enable them in other operations, rebuild TensorFlow with the appropriate compiler flags.\n",
      "2021-12-21 00:48:54.853436: W tensorflow/core/framework/cpu_allocator_impl.cc:82] Allocation of 276889600 exceeds 10% of free system memory.\n",
      "2021-12-21 00:48:55.204725: W tensorflow/core/framework/cpu_allocator_impl.cc:82] Allocation of 276889600 exceeds 10% of free system memory.\n",
      "2021-12-21 00:48:55.596874: W tensorflow/core/framework/cpu_allocator_impl.cc:82] Allocation of 276889600 exceeds 10% of free system memory.\n",
      "2021-12-21 00:48:56.745808: W tensorflow/core/framework/cpu_allocator_impl.cc:82] Allocation of 413368320 exceeds 10% of free system memory.\n",
      "2021-12-21 00:48:56.922990: W tensorflow/core/framework/cpu_allocator_impl.cc:82] Allocation of 413368320 exceeds 10% of free system memory.\n"
     ]
    },
    {
     "name": "stdout",
     "output_type": "stream",
     "text": [
      "Model: \"sequential\"\n",
      "_________________________________________________________________\n",
      " Layer (type)                Output Shape              Param #   \n",
      "=================================================================\n",
      " conv2d (Conv2D)             (None, 65, 65, 32)        320       \n",
      "                                                                 \n",
      " flatten (Flatten)           (None, 135200)            0         \n",
      "                                                                 \n",
      " dense (Dense)               (None, 512)               69222912  \n",
      "                                                                 \n",
      " batch_normalization (BatchN  (None, 512)              2048      \n",
      " ormalization)                                                   \n",
      "                                                                 \n",
      " dense_1 (Dense)             (None, 1024)              525312    \n",
      "                                                                 \n",
      " batch_normalization_1 (Batc  (None, 1024)             4096      \n",
      " hNormalization)                                                 \n",
      "                                                                 \n",
      " dense_2 (Dense)             (None, 2048)              2099200   \n",
      "                                                                 \n",
      " batch_normalization_2 (Batc  (None, 2048)             8192      \n",
      " hNormalization)                                                 \n",
      "                                                                 \n",
      " OutputLayer (Dense)         (None, 50460)             103392540 \n",
      "                                                                 \n",
      "=================================================================\n",
      "Total params: 175,254,620\n",
      "Trainable params: 175,247,452\n",
      "Non-trainable params: 7,168\n",
      "_________________________________________________________________\n"
     ]
    }
   ],
   "source": [
    "eegcnn.build_model()"
   ]
  },
  {
   "cell_type": "code",
   "execution_count": 7,
   "metadata": {},
   "outputs": [
    {
     "name": "stdout",
     "output_type": "stream",
     "text": [
      "Epoch 1/120\n",
      "631/631 [==============================] - 1539s 2s/step - loss: 0.0029 - val_loss: 0.0023\n",
      "Epoch 2/120\n",
      "631/631 [==============================] - 1497s 2s/step - loss: 0.0013 - val_loss: 0.0011\n",
      "Epoch 3/120\n",
      "631/631 [==============================] - 1538s 2s/step - loss: 0.0011 - val_loss: 0.0011\n",
      "Epoch 4/120\n",
      "631/631 [==============================] - 1515s 2s/step - loss: 8.5222e-04 - val_loss: 9.3354e-04\n",
      "Epoch 5/120\n",
      "631/631 [==============================] - 1445s 2s/step - loss: 7.0316e-04 - val_loss: 7.4371e-04\n",
      "Epoch 6/120\n",
      "631/631 [==============================] - 1416s 2s/step - loss: 6.0063e-04 - val_loss: 7.9645e-04\n",
      "Epoch 7/120\n",
      "631/631 [==============================] - 1453s 2s/step - loss: 5.3881e-04 - val_loss: 7.1278e-04\n",
      "Epoch 8/120\n",
      "631/631 [==============================] - 1478s 2s/step - loss: 4.9099e-04 - val_loss: 5.1407e-04\n",
      "Epoch 9/120\n",
      "631/631 [==============================] - 1502s 2s/step - loss: 4.5495e-04 - val_loss: 5.7648e-04\n",
      "Epoch 10/120\n",
      "631/631 [==============================] - 1480s 2s/step - loss: 4.0264e-04 - val_loss: 6.0479e-04\n",
      "Epoch 11/120\n",
      "631/631 [==============================] - 1431s 2s/step - loss: 3.8554e-04 - val_loss: 7.1758e-04\n",
      "Epoch 12/120\n",
      "631/631 [==============================] - 1417s 2s/step - loss: 3.6543e-04 - val_loss: 4.4435e-04\n",
      "Epoch 13/120\n",
      "631/631 [==============================] - 1401s 2s/step - loss: 3.3791e-04 - val_loss: 3.7865e-04\n",
      "Epoch 14/120\n",
      "631/631 [==============================] - 1418s 2s/step - loss: 3.1923e-04 - val_loss: 4.4132e-04\n",
      "Epoch 15/120\n",
      "631/631 [==============================] - 1409s 2s/step - loss: 2.9837e-04 - val_loss: 3.9161e-04\n",
      "Epoch 16/120\n",
      "631/631 [==============================] - 1387s 2s/step - loss: 2.8323e-04 - val_loss: 3.4332e-04\n",
      "Epoch 17/120\n",
      "631/631 [==============================] - 1390s 2s/step - loss: 2.6353e-04 - val_loss: 3.5184e-04\n",
      "Epoch 18/120\n",
      "631/631 [==============================] - 1387s 2s/step - loss: 2.5573e-04 - val_loss: 3.1805e-04\n",
      "Epoch 19/120\n",
      "631/631 [==============================] - 1374s 2s/step - loss: 2.4056e-04 - val_loss: 2.8301e-04\n",
      "Epoch 20/120\n",
      "631/631 [==============================] - 1381s 2s/step - loss: 2.2566e-04 - val_loss: 2.5758e-04\n",
      "Epoch 21/120\n",
      "631/631 [==============================] - 1378s 2s/step - loss: 2.2367e-04 - val_loss: 2.4868e-04\n",
      "Epoch 22/120\n",
      "631/631 [==============================] - 1373s 2s/step - loss: 2.1174e-04 - val_loss: 2.3084e-04\n",
      "Epoch 23/120\n",
      "631/631 [==============================] - 1370s 2s/step - loss: 2.0495e-04 - val_loss: 6.7942e-04\n",
      "Epoch 24/120\n",
      "631/631 [==============================] - 1369s 2s/step - loss: 1.9516e-04 - val_loss: 2.1696e-04\n",
      "Epoch 25/120\n",
      "631/631 [==============================] - 1371s 2s/step - loss: 1.8527e-04 - val_loss: 4.0473e-04\n",
      "Epoch 26/120\n",
      "631/631 [==============================] - 1367s 2s/step - loss: 1.8885e-04 - val_loss: 2.4686e-04\n",
      "Epoch 27/120\n",
      "631/631 [==============================] - 1404s 2s/step - loss: 1.7630e-04 - val_loss: 2.4040e-04\n",
      "Epoch 28/120\n",
      "631/631 [==============================] - 1410s 2s/step - loss: 1.7234e-04 - val_loss: 4.4654e-04\n",
      "Epoch 29/120\n",
      "631/631 [==============================] - 1408s 2s/step - loss: 1.5808e-04 - val_loss: 2.1314e-04\n",
      "Epoch 30/120\n",
      "631/631 [==============================] - 1405s 2s/step - loss: 1.5852e-04 - val_loss: 1.8968e-04\n",
      "Epoch 31/120\n",
      "631/631 [==============================] - 1382s 2s/step - loss: 1.5601e-04 - val_loss: 1.7940e-04\n",
      "Epoch 32/120\n",
      "631/631 [==============================] - 1380s 2s/step - loss: 1.4904e-04 - val_loss: 3.7424e-04\n",
      "Epoch 33/120\n",
      "631/631 [==============================] - 1455s 2s/step - loss: 1.4969e-04 - val_loss: 2.4055e-04\n",
      "Epoch 34/120\n",
      "631/631 [==============================] - 1444s 2s/step - loss: 1.4495e-04 - val_loss: 2.1923e-04\n",
      "Epoch 35/120\n",
      "631/631 [==============================] - 1304s 2s/step - loss: 1.3722e-04 - val_loss: 1.4054e-04\n",
      "Epoch 36/120\n",
      "631/631 [==============================] - 1384s 2s/step - loss: 1.4445e-04 - val_loss: 2.1697e-04\n",
      "Epoch 37/120\n",
      "631/631 [==============================] - 1443s 2s/step - loss: 1.3426e-04 - val_loss: 1.9098e-04\n",
      "Epoch 38/120\n",
      "631/631 [==============================] - 1438s 2s/step - loss: 1.2699e-04 - val_loss: 2.1664e-04\n",
      "Epoch 39/120\n",
      "631/631 [==============================] - 1481s 2s/step - loss: 1.2917e-04 - val_loss: 1.6896e-04\n",
      "Epoch 40/120\n",
      "631/631 [==============================] - 1489s 2s/step - loss: 1.2359e-04 - val_loss: 1.5180e-04\n",
      "Epoch 41/120\n",
      "631/631 [==============================] - 1562s 2s/step - loss: 1.2254e-04 - val_loss: 1.5680e-04\n",
      "Epoch 42/120\n",
      "631/631 [==============================] - 1558s 2s/step - loss: 1.1663e-04 - val_loss: 1.6054e-04\n",
      "Epoch 43/120\n",
      "631/631 [==============================] - 1560s 2s/step - loss: 1.1482e-04 - val_loss: 1.7785e-04\n",
      "Epoch 44/120\n",
      "631/631 [==============================] - 1560s 2s/step - loss: 1.1412e-04 - val_loss: 1.5725e-04\n",
      "Epoch 45/120\n",
      "631/631 [==============================] - 1568s 2s/step - loss: 1.1116e-04 - val_loss: 1.9280e-04\n",
      "Epoch 46/120\n",
      "631/631 [==============================] - 1477s 2s/step - loss: 1.1149e-04 - val_loss: 1.9042e-04\n",
      "Epoch 47/120\n",
      "631/631 [==============================] - 1499s 2s/step - loss: 1.0946e-04 - val_loss: 1.3855e-04\n",
      "Epoch 48/120\n",
      "631/631 [==============================] - 1527s 2s/step - loss: 1.0674e-04 - val_loss: 1.0331e-04\n",
      "Epoch 49/120\n",
      "631/631 [==============================] - 1538s 2s/step - loss: 1.0374e-04 - val_loss: 1.3015e-04\n",
      "Epoch 50/120\n",
      "631/631 [==============================] - 1586s 3s/step - loss: 1.0441e-04 - val_loss: 1.2312e-04\n",
      "Epoch 51/120\n",
      "631/631 [==============================] - 1603s 3s/step - loss: 1.0094e-04 - val_loss: 1.2937e-04\n",
      "Epoch 52/120\n",
      "631/631 [==============================] - 1615s 3s/step - loss: 9.9423e-05 - val_loss: 1.1551e-04\n",
      "Epoch 53/120\n",
      "631/631 [==============================] - 1649s 3s/step - loss: 9.8077e-05 - val_loss: 9.6709e-05\n",
      "Epoch 54/120\n",
      "631/631 [==============================] - 1694s 3s/step - loss: 9.8250e-05 - val_loss: 1.2085e-04\n",
      "Epoch 55/120\n",
      "631/631 [==============================] - 1753s 3s/step - loss: 9.1698e-05 - val_loss: 1.3038e-04\n",
      "Epoch 56/120\n",
      "631/631 [==============================] - 1619s 3s/step - loss: 9.5073e-05 - val_loss: 1.3539e-04\n",
      "Epoch 57/120\n",
      "631/631 [==============================] - 1637s 3s/step - loss: 9.0871e-05 - val_loss: 1.2079e-04\n",
      "Epoch 58/120\n",
      "631/631 [==============================] - 1693s 3s/step - loss: 9.1240e-05 - val_loss: 1.0781e-04\n",
      "Epoch 59/120\n",
      "631/631 [==============================] - 1725s 3s/step - loss: 8.8138e-05 - val_loss: 1.2725e-04\n",
      "Epoch 60/120\n",
      "631/631 [==============================] - 1709s 3s/step - loss: 8.8565e-05 - val_loss: 1.2481e-04\n",
      "Epoch 61/120\n",
      "631/631 [==============================] - 1715s 3s/step - loss: 8.8098e-05 - val_loss: 1.2758e-04\n",
      "Epoch 62/120\n",
      "631/631 [==============================] - 1609s 3s/step - loss: 8.6291e-05 - val_loss: 2.5297e-04\n",
      "Epoch 63/120\n",
      "631/631 [==============================] - 1605s 3s/step - loss: 8.6175e-05 - val_loss: 1.2165e-04\n",
      "Epoch 64/120\n",
      "631/631 [==============================] - 1601s 3s/step - loss: 8.8340e-05 - val_loss: 1.0172e-04\n",
      "Epoch 65/120\n",
      "631/631 [==============================] - 1598s 3s/step - loss: 8.3114e-05 - val_loss: 1.1386e-04\n",
      "Epoch 66/120\n",
      "631/631 [==============================] - 1595s 3s/step - loss: 8.2380e-05 - val_loss: 1.0737e-04\n",
      "Epoch 67/120\n",
      "631/631 [==============================] - 1590s 3s/step - loss: 8.0752e-05 - val_loss: 1.2574e-04\n",
      "Epoch 68/120\n",
      "631/631 [==============================] - 1609s 3s/step - loss: 8.0836e-05 - val_loss: 8.0601e-05\n",
      "Epoch 69/120\n",
      "631/631 [==============================] - 1586s 3s/step - loss: 8.0113e-05 - val_loss: 1.0288e-04\n",
      "Epoch 70/120\n",
      "631/631 [==============================] - 1591s 3s/step - loss: 7.8966e-05 - val_loss: 7.8130e-05\n",
      "Epoch 71/120\n",
      "631/631 [==============================] - 1594s 3s/step - loss: 7.6705e-05 - val_loss: 1.3174e-04\n",
      "Epoch 72/120\n",
      "631/631 [==============================] - 1575s 2s/step - loss: 7.7946e-05 - val_loss: 1.8304e-04\n",
      "Epoch 73/120\n",
      "631/631 [==============================] - 1567s 2s/step - loss: 7.5686e-05 - val_loss: 7.5164e-05\n",
      "Epoch 74/120\n",
      "631/631 [==============================] - 1575s 2s/step - loss: 7.5144e-05 - val_loss: 1.6412e-04\n",
      "Epoch 75/120\n",
      "631/631 [==============================] - 1555s 2s/step - loss: 7.4018e-05 - val_loss: 8.9854e-05\n",
      "Epoch 76/120\n",
      "631/631 [==============================] - 1558s 2s/step - loss: 7.3550e-05 - val_loss: 1.3835e-04\n",
      "Epoch 77/120\n",
      "631/631 [==============================] - 1551s 2s/step - loss: 7.1943e-05 - val_loss: 7.7900e-05\n",
      "Epoch 78/120\n",
      "631/631 [==============================] - 1552s 2s/step - loss: 7.1167e-05 - val_loss: 7.4840e-05\n",
      "Epoch 79/120\n",
      "631/631 [==============================] - 1553s 2s/step - loss: 7.2731e-05 - val_loss: 7.1100e-05\n",
      "Epoch 80/120\n",
      "631/631 [==============================] - 1545s 2s/step - loss: 6.9391e-05 - val_loss: 1.0188e-04\n",
      "Epoch 81/120\n",
      "631/631 [==============================] - 1548s 2s/step - loss: 7.0770e-05 - val_loss: 8.3170e-05\n",
      "Epoch 82/120\n",
      "631/631 [==============================] - 1543s 2s/step - loss: 7.0651e-05 - val_loss: 9.6058e-05\n",
      "Epoch 83/120\n",
      "631/631 [==============================] - 1530s 2s/step - loss: 6.8558e-05 - val_loss: 7.5399e-05\n",
      "Epoch 84/120\n",
      "631/631 [==============================] - 1426s 2s/step - loss: 6.9403e-05 - val_loss: 1.3069e-04\n",
      "Epoch 85/120\n",
      "631/631 [==============================] - 1408s 2s/step - loss: 6.9156e-05 - val_loss: 8.0237e-05\n",
      "Epoch 86/120\n",
      "631/631 [==============================] - 1463s 2s/step - loss: 6.5953e-05 - val_loss: 1.2690e-04\n",
      "Epoch 87/120\n",
      "631/631 [==============================] - 1400s 2s/step - loss: 6.8275e-05 - val_loss: 6.2999e-05\n",
      "Epoch 88/120\n",
      "631/631 [==============================] - 1444s 2s/step - loss: 6.5727e-05 - val_loss: 7.6834e-05\n",
      "Epoch 89/120\n",
      "631/631 [==============================] - 1457s 2s/step - loss: 6.5035e-05 - val_loss: 7.8663e-05\n",
      "Epoch 90/120\n",
      "631/631 [==============================] - 1490s 2s/step - loss: 6.4485e-05 - val_loss: 7.3564e-05\n",
      "Epoch 91/120\n",
      "631/631 [==============================] - 1441s 2s/step - loss: 6.3492e-05 - val_loss: 7.7538e-05\n",
      "Epoch 92/120\n",
      "631/631 [==============================] - 1437s 2s/step - loss: 6.2260e-05 - val_loss: 1.0636e-04\n",
      "Epoch 93/120\n",
      "631/631 [==============================] - 1450s 2s/step - loss: 6.3017e-05 - val_loss: 6.7269e-05\n",
      "Epoch 94/120\n",
      "631/631 [==============================] - 1492s 2s/step - loss: 6.2096e-05 - val_loss: 7.2035e-05\n",
      "Epoch 95/120\n",
      "631/631 [==============================] - 1516s 2s/step - loss: 6.1093e-05 - val_loss: 6.3886e-05\n",
      "Epoch 96/120\n",
      "631/631 [==============================] - 1484s 2s/step - loss: 6.1097e-05 - val_loss: 6.3709e-05\n",
      "Epoch 97/120\n",
      "631/631 [==============================] - 1428s 2s/step - loss: 6.1142e-05 - val_loss: 1.0870e-04\n",
      "Epoch 98/120\n",
      "631/631 [==============================] - 1418s 2s/step - loss: 5.9841e-05 - val_loss: 7.2198e-05\n",
      "Epoch 99/120\n",
      "631/631 [==============================] - 1397s 2s/step - loss: 5.9813e-05 - val_loss: 8.9242e-05\n",
      "Epoch 100/120\n",
      "631/631 [==============================] - 1440s 2s/step - loss: 6.1251e-05 - val_loss: 7.9361e-05\n",
      "Epoch 101/120\n",
      "631/631 [==============================] - 1462s 2s/step - loss: 5.9336e-05 - val_loss: 1.0452e-04\n",
      "Epoch 102/120\n",
      "631/631 [==============================] - 1487s 2s/step - loss: 6.0281e-05 - val_loss: 6.5453e-05\n",
      "Epoch 103/120\n",
      "631/631 [==============================] - 1557s 2s/step - loss: 5.8335e-05 - val_loss: 8.8806e-05\n",
      "Epoch 104/120\n",
      "631/631 [==============================] - 1547s 2s/step - loss: 5.8988e-05 - val_loss: 5.8426e-05\n",
      "Epoch 105/120\n",
      "631/631 [==============================] - 1585s 2s/step - loss: 5.6939e-05 - val_loss: 6.9955e-05\n",
      "Epoch 106/120\n",
      "631/631 [==============================] - 1592s 3s/step - loss: 5.6934e-05 - val_loss: 7.0476e-05\n",
      "Epoch 107/120\n",
      "631/631 [==============================] - 1588s 3s/step - loss: 5.5706e-05 - val_loss: 9.6520e-05\n",
      "Epoch 108/120\n",
      "631/631 [==============================] - 1533s 2s/step - loss: 5.7824e-05 - val_loss: 6.1989e-05\n",
      "Epoch 109/120\n",
      "631/631 [==============================] - 1554s 2s/step - loss: 5.4991e-05 - val_loss: 9.2761e-05\n",
      "Epoch 110/120\n",
      "631/631 [==============================] - 1578s 2s/step - loss: 5.6327e-05 - val_loss: 9.2071e-05\n",
      "Epoch 111/120\n",
      "631/631 [==============================] - 1442s 2s/step - loss: 5.5643e-05 - val_loss: 7.8637e-05\n",
      "Epoch 112/120\n",
      "631/631 [==============================] - 1355s 2s/step - loss: 5.5211e-05 - val_loss: 5.4856e-05\n",
      "Epoch 113/120\n",
      "631/631 [==============================] - 1332s 2s/step - loss: 5.6347e-05 - val_loss: 6.1443e-05\n",
      "Epoch 114/120\n",
      "631/631 [==============================] - 1397s 2s/step - loss: 5.4434e-05 - val_loss: 7.2443e-05\n",
      "Epoch 115/120\n",
      "631/631 [==============================] - 1452s 2s/step - loss: 5.3376e-05 - val_loss: 8.6028e-05\n",
      "Epoch 116/120\n",
      "631/631 [==============================] - 1452s 2s/step - loss: 5.2347e-05 - val_loss: 6.2410e-05\n",
      "Epoch 117/120\n",
      "631/631 [==============================] - 1468s 2s/step - loss: 5.3731e-05 - val_loss: 8.0023e-05\n",
      "Epoch 118/120\n",
      "631/631 [==============================] - 1500s 2s/step - loss: 5.2542e-05 - val_loss: 9.1913e-05\n",
      "Epoch 119/120\n",
      "631/631 [==============================] - 1486s 2s/step - loss: 5.2793e-05 - val_loss: 5.4379e-05\n",
      "Epoch 120/120\n",
      "631/631 [==============================] - 1481s 2s/step - loss: 5.1800e-05 - val_loss: 6.1287e-05\n"
     ]
    },
    {
     "data": {
      "text/plain": [
       "(<keras.callbacks.History at 0x7f01ccae3ca0>,\n",
       " 'logs/CNN-Model-21_12_2021__00:39:21')"
      ]
     },
     "execution_count": 7,
     "metadata": {},
     "output_type": "execute_result"
    }
   ],
   "source": [
    "eegcnn.fit(epochs=120, patience=35, batch_size=128)"
   ]
  },
  {
   "cell_type": "code",
   "execution_count": 8,
   "metadata": {},
   "outputs": [],
   "source": [
    "eegcnn.save_nn('../cnn_model.h5')"
   ]
  },
  {
   "cell_type": "markdown",
   "metadata": {},
   "source": [
    "### Evaluate the CNN"
   ]
  },
  {
   "cell_type": "code",
   "execution_count": null,
   "metadata": {},
   "outputs": [],
   "source": [
    "eegcnn.load_nn('/media/thanos/Elements/thanos/nn_trained/cnn_model.h5')"
   ]
  },
  {
   "cell_type": "code",
   "execution_count": 9,
   "metadata": {},
   "outputs": [],
   "source": [
    "eeg_topos_eval = mat73.loadmat('/media/thanos/Elements/thanos/sim_data/sim_type_1/eval_100/eeg_topos_eval_100.mat')['eeg_topos']\n",
    "eeg_topos_eval = eeg_topos_eval.transpose(2, 0, 1)\n",
    "\n",
    "sources_eval = np.load('/media/thanos/Elements/thanos/sim_data/sim_type_1/eval_100/sources.npy')\n"
   ]
  },
  {
   "cell_type": "code",
   "execution_count": 10,
   "metadata": {},
   "outputs": [],
   "source": [
    "predicted_sources = eegcnn.predict(eeg=eeg_topos_eval).T"
   ]
  },
  {
   "cell_type": "code",
   "execution_count": 11,
   "metadata": {},
   "outputs": [],
   "source": [
    "np.save('../../Downloads/predicted_sources.npy',predicted_sources)"
   ]
  }
 ],
 "metadata": {
  "interpreter": {
   "hash": "e55ae3f6af515937c0319b16e610f5fb778062060e5992134dbdbaaf9a7f178e"
  },
  "kernelspec": {
   "display_name": "Python 3.8.10 64-bit ('venv': venv)",
   "language": "python",
   "name": "python3"
  },
  "language_info": {
   "codemirror_mode": {
    "name": "ipython",
    "version": 3
   },
   "file_extension": ".py",
   "mimetype": "text/x-python",
   "name": "python",
   "nbconvert_exporter": "python",
   "pygments_lexer": "ipython3",
   "version": "3.8.10"
  },
  "orig_nbformat": 4
 },
 "nbformat": 4,
 "nbformat_minor": 2
}

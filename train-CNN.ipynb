{
 "cells": [
  {
   "cell_type": "code",
   "execution_count": null,
   "metadata": {},
   "outputs": [],
   "source": [
    "from forward import solve_forward\n",
    "from simulation import Simulation\n",
    "import numpy as np\n",
    "import matplotlib.pyplot as plt\n",
    "from matplotlib import cm\n",
    "# to load large .mat files\n",
    "import mat73\n",
    "import random\n",
    "from net import EEG_CNN, LocCNN"
   ]
  },
  {
   "cell_type": "markdown",
   "metadata": {},
   "source": [
    "### Train the CNN"
   ]
  },
  {
   "cell_type": "code",
   "execution_count": null,
   "metadata": {},
   "outputs": [],
   "source": [
    "eeg_topos = mat73.loadmat('../../Downloads/big_sim/eeg_topos.mat')['eeg_topos']\n",
    "eeg_topos = eeg_topos.transpose(2, 0, 1)"
   ]
  },
  {
   "cell_type": "code",
   "execution_count": null,
   "metadata": {},
   "outputs": [],
   "source": [
    "topo_idx = random.randint(0,eeg_topos.shape[0]-1)\n",
    "topo = eeg_topos[topo_idx,:,:]\n",
    "plt.contourf(topo, cmap=cm.get_cmap('viridis'))\n",
    "cbar = plt.colorbar()\n",
    "plt.draw()\n",
    "plt.title('Topography for eeg signal: {}'.format(topo_idx+1))"
   ]
  },
  {
   "cell_type": "code",
   "execution_count": null,
   "metadata": {},
   "outputs": [],
   "source": [
    "# load previous simulation\n",
    "#sources = np.load('../downsampled_dipoles-10k/1e-15/sources_10TeD.npy')\n",
    "eeg = np.load('../../Downloads/test/eeg.npy')\n",
    "locations = np.load('../../Downloads/test/locations.npy')\n",
    "\n",
    "fwd = solve_forward(downsampled_dipoles=False, num_dipoles='50k')\n",
    "sim = Simulation(fwd=fwd, locations=locations, eeg_data=eeg)\n"
   ]
  },
  {
   "cell_type": "code",
   "execution_count": null,
   "metadata": {},
   "outputs": [],
   "source": [
    "eeg_cnn = LocCNN(sim=sim,eeg_topographies=eeg_topos)\n",
    "eeg_cnn.build_model()"
   ]
  },
  {
   "cell_type": "code",
   "execution_count": null,
   "metadata": {},
   "outputs": [],
   "source": [
    "eeg_cnn.fit()"
   ]
  },
  {
   "cell_type": "code",
   "execution_count": null,
   "metadata": {},
   "outputs": [],
   "source": [
    "eeg_cnn.save_nn('./eeg_cnn.h5')"
   ]
  }
 ],
 "metadata": {
  "interpreter": {
   "hash": "e55ae3f6af515937c0319b16e610f5fb778062060e5992134dbdbaaf9a7f178e"
  },
  "kernelspec": {
   "display_name": "Python 3.8.10 64-bit ('venv': venv)",
   "language": "python",
   "name": "python3"
  },
  "language_info": {
   "codemirror_mode": {
    "name": "ipython",
    "version": 3
   },
   "file_extension": ".py",
   "mimetype": "text/x-python",
   "name": "python",
   "nbconvert_exporter": "python",
   "pygments_lexer": "ipython3",
   "version": "3.8.10"
  },
  "orig_nbformat": 4
 },
 "nbformat": 4,
 "nbformat_minor": 2
}

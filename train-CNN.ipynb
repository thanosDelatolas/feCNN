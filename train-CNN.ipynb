{
 "cells": [
  {
   "cell_type": "code",
   "execution_count": null,
   "metadata": {},
   "outputs": [],
   "source": [
    "import util\n",
    "from forward import solve_forward\n",
    "from simulation import Simulation\n",
    "import numpy as np\n",
    "import matplotlib.pyplot as plt\n",
    "from matplotlib import cm\n",
    "# to load large .mat files\n",
    "import mat73\n",
    "import random\n",
    "from net import EEG_CNN"
   ]
  },
  {
   "cell_type": "markdown",
   "metadata": {},
   "source": [
    "### Train the CNN"
   ]
  },
  {
   "cell_type": "code",
   "execution_count": null,
   "metadata": {},
   "outputs": [],
   "source": [
    "eeg_topos = mat73.loadmat('/media/thanos/Elements/thanos/sim_data/sim_type_1/eeg_topographies.mat')['eeg_topos']\n",
    "eeg_topos = eeg_topos.transpose(2, 0, 1)"
   ]
  },
  {
   "cell_type": "code",
   "execution_count": null,
   "metadata": {},
   "outputs": [],
   "source": [
    "topo_idx = random.randint(0,eeg_topos.shape[0]-1)\n",
    "topo = eeg_topos[topo_idx,:,:]\n",
    "plt.contourf(topo, cmap=cm.get_cmap('viridis'))\n",
    "cbar = plt.colorbar()\n",
    "plt.draw()\n",
    "plt.title('Topography for eeg signal: {}'.format(topo_idx+1))"
   ]
  },
  {
   "cell_type": "code",
   "execution_count": null,
   "metadata": {},
   "outputs": [],
   "source": [
    "# load previous simulation\n",
    "# sim = util.load_object('/media/thanos/Elements/thanos/sim_data/sim_type_1/sim_obj_100k.pkl')\n",
    "fwd = solve_forward()\n",
    "sim = Simulation(fwd=fwd)\n",
    "sim.simulate(n_samples=100)"
   ]
  },
  {
   "cell_type": "code",
   "execution_count": null,
   "metadata": {},
   "outputs": [],
   "source": [
    "eegcnn = EEG_CNN(sim=sim, eeg_topographies=eeg_topos)"
   ]
  },
  {
   "cell_type": "code",
   "execution_count": null,
   "metadata": {},
   "outputs": [],
   "source": [
    "eegcnn.build_model()"
   ]
  },
  {
   "cell_type": "code",
   "execution_count": null,
   "metadata": {},
   "outputs": [],
   "source": [
    "eegcnn.fit(patience=35)"
   ]
  },
  {
   "cell_type": "code",
   "execution_count": null,
   "metadata": {},
   "outputs": [],
   "source": [
    "#eegcnn.save_nn('/media/thanos/Elements/thanos/nn_trained/cnn_model_4.h5')\n",
    "\n",
    "eegcnn.save_nn('cnn_model_4.h5')"
   ]
  },
  {
   "cell_type": "markdown",
   "metadata": {},
   "source": [
    "### Evaluate the CNN"
   ]
  },
  {
   "cell_type": "code",
   "execution_count": null,
   "metadata": {},
   "outputs": [],
   "source": [
    "eegcnn.load_nn('/media/thanos/Elements/thanos/nn_trained/cnn_model_4.h5')"
   ]
  },
  {
   "cell_type": "code",
   "execution_count": null,
   "metadata": {},
   "outputs": [],
   "source": [
    "eeg_topos_eval = mat73.loadmat('/media/thanos/Elements/thanos/sim_data/sim_type_2/eeg_topographies_type_2.mat')['eeg_topos']\n",
    "eeg_topos_eval = eeg_topos_eval.transpose(2, 0, 1)\n",
    "\n",
    "sim_type_2 = util.load_object('/media/thanos/Elements/thanos/sim_data/sim_type_2/sim_obj_10k_type_2.pkl')\n",
    "sources_eval = sim_type_2.source_data"
   ]
  },
  {
   "cell_type": "code",
   "execution_count": null,
   "metadata": {},
   "outputs": [],
   "source": [
    "mse = eegcnn.evaluate_mse(eeg=eeg_topos_eval,sources=sources_eval)\n",
    "nmse = eegcnn.evaluate_nmse(eeg=eeg_topos_eval, sources=sources_eval)\n",
    "\n",
    "print('Normilized MSE:', np.mean(nmse))\n",
    "print('MSE:', np.mean(mse))"
   ]
  }
 ],
 "metadata": {
  "interpreter": {
   "hash": "e55ae3f6af515937c0319b16e610f5fb778062060e5992134dbdbaaf9a7f178e"
  },
  "kernelspec": {
   "display_name": "Python 3.8.10 64-bit ('venv': venv)",
   "language": "python",
   "name": "python3"
  },
  "language_info": {
   "codemirror_mode": {
    "name": "ipython",
    "version": 3
   },
   "file_extension": ".py",
   "mimetype": "text/x-python",
   "name": "python",
   "nbconvert_exporter": "python",
   "pygments_lexer": "ipython3",
   "version": "3.8.10"
  },
  "orig_nbformat": 4
 },
 "nbformat": 4,
 "nbformat_minor": 2
}

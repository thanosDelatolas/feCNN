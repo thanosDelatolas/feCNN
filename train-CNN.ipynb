{
 "cells": [
  {
   "cell_type": "code",
   "execution_count": 1,
   "metadata": {},
   "outputs": [
    {
     "name": "stderr",
     "output_type": "stream",
     "text": [
      "2021-12-11 15:37:37.827795: W tensorflow/stream_executor/platform/default/dso_loader.cc:64] Could not load dynamic library 'libcudart.so.11.0'; dlerror: libcudart.so.11.0: cannot open shared object file: No such file or directory\n",
      "2021-12-11 15:37:37.827818: I tensorflow/stream_executor/cuda/cudart_stub.cc:29] Ignore above cudart dlerror if you do not have a GPU set up on your machine.\n"
     ]
    }
   ],
   "source": [
    "import util\n",
    "from forward import solve_forward\n",
    "from simulation import Simulation\n",
    "import numpy as np\n",
    "import matplotlib.pyplot as plt\n",
    "from matplotlib import cm\n",
    "# to load large .mat files\n",
    "import mat73\n",
    "import random\n",
    "from net import EEG_CNN"
   ]
  },
  {
   "cell_type": "markdown",
   "metadata": {},
   "source": [
    "### Train the CNN"
   ]
  },
  {
   "cell_type": "code",
   "execution_count": 2,
   "metadata": {},
   "outputs": [],
   "source": [
    "eeg_topos = mat73.loadmat('/media/thanos/Big Data/Thanos/TUC/Thesis/sim_data/sim_type_1/eeg_topographies.mat')['eeg_arr']\n",
    "eeg_topos = eeg_topos.transpose(2, 0, 1)"
   ]
  },
  {
   "cell_type": "code",
   "execution_count": 3,
   "metadata": {},
   "outputs": [
    {
     "data": {
      "text/plain": [
       "Text(0.5, 1.0, 'Topography for eeg signal: 34770')"
      ]
     },
     "execution_count": 3,
     "metadata": {},
     "output_type": "execute_result"
    },
    {
     "data": {
      "image/png": "[encoded data removed]",
      "text/plain": [
       "<Figure size 432x288 with 2 Axes>"
      ]
     },
     "metadata": {
      "needs_background": "light"
     },
     "output_type": "display_data"
    }
   ],
   "source": [
    "topo_idx = random.randint(0,eeg_topos.shape[0]-1)\n",
    "topo = eeg_topos[topo_idx,:,:]\n",
    "plt.contourf(topo, cmap=cm.get_cmap('viridis'))\n",
    "cbar = plt.colorbar()\n",
    "plt.draw()\n",
    "plt.title('Topography for eeg signal: {}'.format(topo_idx+1))"
   ]
  },
  {
   "cell_type": "code",
   "execution_count": 4,
   "metadata": {},
   "outputs": [],
   "source": [
    "# load previous simulation\n",
    "sim = util.load_object('/media/thanos/Big Data/Thanos/TUC/Thesis/sim_data/sim_type_1/sim_obj_100k.pkl')\n",
    "# fwd = solve_forward()\n",
    "# sim = Simulation(fwd=fwd)\n",
    "# sim.simulate(n_samples=100)"
   ]
  },
  {
   "cell_type": "code",
   "execution_count": 5,
   "metadata": {},
   "outputs": [],
   "source": [
    "eegcnn = EEG_CNN(sim=sim, eeg_topographies=eeg_topos)"
   ]
  },
  {
   "cell_type": "code",
   "execution_count": 6,
   "metadata": {},
   "outputs": [
    {
     "name": "stderr",
     "output_type": "stream",
     "text": [
      "2021-12-11 15:54:12.133952: W tensorflow/stream_executor/platform/default/dso_loader.cc:64] Could not load dynamic library 'libcuda.so.1'; dlerror: libcuda.so.1: cannot open shared object file: No such file or directory\n",
      "2021-12-11 15:54:12.135241: W tensorflow/stream_executor/cuda/cuda_driver.cc:269] failed call to cuInit: UNKNOWN ERROR (303)\n",
      "2021-12-11 15:54:12.137216: I tensorflow/stream_executor/cuda/cuda_diagnostics.cc:156] kernel driver does not appear to be running on this host (thanos): /proc/driver/nvidia/version does not exist\n",
      "2021-12-11 15:54:12.156836: I tensorflow/core/platform/cpu_feature_guard.cc:151] This TensorFlow binary is optimized with oneAPI Deep Neural Network Library (oneDNN) to use the following CPU instructions in performance-critical operations:  AVX2 FMA\n",
      "To enable them in other operations, rebuild TensorFlow with the appropriate compiler flags.\n",
      "2021-12-11 15:54:13.079470: W tensorflow/core/framework/cpu_allocator_impl.cc:82] Allocation of 69222400 exceeds 10% of free system memory.\n",
      "2021-12-11 15:54:13.786087: W tensorflow/core/framework/cpu_allocator_impl.cc:82] Allocation of 69222400 exceeds 10% of free system memory.\n",
      "2021-12-11 15:54:13.892144: W tensorflow/core/framework/cpu_allocator_impl.cc:82] Allocation of 69222400 exceeds 10% of free system memory.\n",
      "2021-12-11 15:54:14.198226: W tensorflow/core/framework/cpu_allocator_impl.cc:82] Allocation of 413368320 exceeds 10% of free system memory.\n",
      "2021-12-11 15:54:15.171669: W tensorflow/core/framework/cpu_allocator_impl.cc:82] Allocation of 413368320 exceeds 10% of free system memory.\n"
     ]
    },
    {
     "name": "stdout",
     "output_type": "stream",
     "text": [
      "Model: \"sequential\"\n",
      "_________________________________________________________________\n",
      " Layer (type)                Output Shape              Param #   \n",
      "=================================================================\n",
      " conv2d (Conv2D)             (None, 65, 65, 8)         80        \n",
      "                                                                 \n",
      " flatten (Flatten)           (None, 33800)             0         \n",
      "                                                                 \n",
      " dense (Dense)               (None, 512)               17306112  \n",
      "                                                                 \n",
      " dense_1 (Dense)             (None, 1024)              525312    \n",
      "                                                                 \n",
      " dense_2 (Dense)             (None, 2048)              2099200   \n",
      "                                                                 \n",
      " OutputLayer (Dense)         (None, 50460)             103392540 \n",
      "                                                                 \n",
      "=================================================================\n",
      "Total params: 123,323,244\n",
      "Trainable params: 123,323,244\n",
      "Non-trainable params: 0\n",
      "_________________________________________________________________\n"
     ]
    }
   ],
   "source": [
    "eegcnn.build_model()"
   ]
  },
  {
   "cell_type": "code",
   "execution_count": 7,
   "metadata": {},
   "outputs": [
    {
     "name": "stdout",
     "output_type": "stream",
     "text": [
      "Epoch 1/50\n",
      "800/800 [==============================] - 1354s 2s/step - loss: 0.0091 - MAE: 0.0702 - RMSE: 0.0952 - val_loss: 0.0034 - val_MAE: 0.0401 - val_RMSE: 0.0580 - lr: 0.0750\n",
      "Epoch 2/50\n",
      "800/800 [==============================] - 934s 1s/step - loss: 0.0023 - MAE: 0.0282 - RMSE: 0.0484 - val_loss: 0.0019 - val_MAE: 0.0210 - val_RMSE: 0.0431 - lr: 0.0750\n",
      "Epoch 3/50\n",
      "800/800 [==============================] - 856s 1s/step - loss: 0.0018 - MAE: 0.0193 - RMSE: 0.0421 - val_loss: 0.0017 - val_MAE: 0.0187 - val_RMSE: 0.0415 - lr: 0.0750\n",
      "Epoch 4/50\n",
      "800/800 [==============================] - 891s 1s/step - loss: 0.0017 - MAE: 0.0188 - RMSE: 0.0415 - val_loss: 0.0017 - val_MAE: 0.0188 - val_RMSE: 0.0414 - lr: 0.0750\n",
      "Epoch 5/50\n",
      "800/800 [==============================] - 870s 1s/step - loss: 0.0017 - MAE: 0.0189 - RMSE: 0.0414 - val_loss: 0.0017 - val_MAE: 0.0188 - val_RMSE: 0.0414 - lr: 0.0750\n",
      "Epoch 6/50\n",
      "800/800 [==============================] - 881s 1s/step - loss: 0.0017 - MAE: 0.0189 - RMSE: 0.0414 - val_loss: 0.0017 - val_MAE: 0.0189 - val_RMSE: 0.0414 - lr: 0.0750\n",
      "Epoch 7/50\n",
      "800/800 [==============================] - 877s 1s/step - loss: 0.0017 - MAE: 0.0189 - RMSE: 0.0414 - val_loss: 0.0017 - val_MAE: 0.0189 - val_RMSE: 0.0414 - lr: 0.0750\n",
      "Epoch 8/50\n",
      "800/800 [==============================] - 836s 1s/step - loss: 0.0017 - MAE: 0.0189 - RMSE: 0.0414 - val_loss: 0.0017 - val_MAE: 0.0189 - val_RMSE: 0.0414 - lr: 0.0750\n",
      "Epoch 9/50\n",
      "800/800 [==============================] - 844s 1s/step - loss: 0.0017 - MAE: 0.0189 - RMSE: 0.0414 - val_loss: 0.0017 - val_MAE: 0.0189 - val_RMSE: 0.0414 - lr: 0.0750\n",
      "Epoch 10/50\n",
      "800/800 [==============================] - 839s 1s/step - loss: 0.0017 - MAE: 0.0189 - RMSE: 0.0414 - val_loss: 0.0017 - val_MAE: 0.0189 - val_RMSE: 0.0414 - lr: 0.0750\n",
      "Epoch 11/50\n",
      "800/800 [==============================] - 821s 1s/step - loss: 0.0017 - MAE: 0.0189 - RMSE: 0.0414 - val_loss: 0.0017 - val_MAE: 0.0189 - val_RMSE: 0.0414 - lr: 0.0750\n",
      "Epoch 12/50\n",
      "800/800 [==============================] - 813s 1s/step - loss: 0.0017 - MAE: 0.0189 - RMSE: 0.0414 - val_loss: 0.0017 - val_MAE: 0.0189 - val_RMSE: 0.0414 - lr: 0.0200\n",
      "Epoch 13/50\n",
      "800/800 [==============================] - 816s 1s/step - loss: 0.0017 - MAE: 0.0189 - RMSE: 0.0414 - val_loss: 0.0017 - val_MAE: 0.0189 - val_RMSE: 0.0414 - lr: 0.0200\n",
      "Epoch 14/50\n",
      "800/800 [==============================] - 813s 1s/step - loss: 0.0017 - MAE: 0.0189 - RMSE: 0.0414 - val_loss: 0.0017 - val_MAE: 0.0189 - val_RMSE: 0.0414 - lr: 0.0200\n",
      "Epoch 15/50\n",
      "800/800 [==============================] - 809s 1s/step - loss: 0.0017 - MAE: 0.0189 - RMSE: 0.0414 - val_loss: 0.0017 - val_MAE: 0.0189 - val_RMSE: 0.0414 - lr: 0.0200\n",
      "Epoch 16/50\n",
      "800/800 [==============================] - 809s 1s/step - loss: 0.0017 - MAE: 0.0189 - RMSE: 0.0414 - val_loss: 0.0017 - val_MAE: 0.0189 - val_RMSE: 0.0414 - lr: 0.0200\n",
      "Epoch 17/50\n",
      "800/800 [==============================] - 802s 1s/step - loss: 0.0017 - MAE: 0.0189 - RMSE: 0.0414 - val_loss: 0.0017 - val_MAE: 0.0189 - val_RMSE: 0.0414 - lr: 0.0200\n",
      "Epoch 18/50\n",
      "800/800 [==============================] - 810s 1s/step - loss: 0.0017 - MAE: 0.0189 - RMSE: 0.0414 - val_loss: 0.0017 - val_MAE: 0.0189 - val_RMSE: 0.0414 - lr: 0.0200\n",
      "Epoch 19/50\n",
      "800/800 [==============================] - 807s 1s/step - loss: 0.0017 - MAE: 0.0189 - RMSE: 0.0414 - val_loss: 0.0017 - val_MAE: 0.0189 - val_RMSE: 0.0414 - lr: 0.0200\n",
      "Epoch 20/50\n",
      "800/800 [==============================] - 808s 1s/step - loss: 0.0017 - MAE: 0.0189 - RMSE: 0.0414 - val_loss: 0.0017 - val_MAE: 0.0189 - val_RMSE: 0.0414 - lr: 0.0200\n",
      "Epoch 21/50\n",
      "800/800 [==============================] - 808s 1s/step - loss: 0.0017 - MAE: 0.0189 - RMSE: 0.0414 - val_loss: 0.0017 - val_MAE: 0.0189 - val_RMSE: 0.0414 - lr: 0.0200\n",
      "Epoch 22/50\n",
      "800/800 [==============================] - 808s 1s/step - loss: 0.0017 - MAE: 0.0189 - RMSE: 0.0414 - val_loss: 0.0017 - val_MAE: 0.0189 - val_RMSE: 0.0414 - lr: 0.0100\n",
      "Epoch 23/50\n",
      "800/800 [==============================] - 807s 1s/step - loss: 0.0017 - MAE: 0.0189 - RMSE: 0.0414 - val_loss: 0.0017 - val_MAE: 0.0189 - val_RMSE: 0.0414 - lr: 0.0100\n",
      "Epoch 24/50\n",
      "800/800 [==============================] - 804s 1s/step - loss: 0.0017 - MAE: 0.0189 - RMSE: 0.0414 - val_loss: 0.0017 - val_MAE: 0.0189 - val_RMSE: 0.0414 - lr: 0.0100\n",
      "Epoch 25/50\n",
      "800/800 [==============================] - 808s 1s/step - loss: 0.0017 - MAE: 0.0189 - RMSE: 0.0414 - val_loss: 0.0017 - val_MAE: 0.0189 - val_RMSE: 0.0414 - lr: 0.0100\n",
      "Epoch 26/50\n",
      "800/800 [==============================] - 805s 1s/step - loss: 0.0017 - MAE: 0.0189 - RMSE: 0.0414 - val_loss: 0.0017 - val_MAE: 0.0189 - val_RMSE: 0.0414 - lr: 0.0100\n",
      "Epoch 27/50\n",
      "800/800 [==============================] - 811s 1s/step - loss: 0.0017 - MAE: 0.0189 - RMSE: 0.0414 - val_loss: 0.0017 - val_MAE: 0.0189 - val_RMSE: 0.0414 - lr: 0.0100\n",
      "Epoch 28/50\n",
      "800/800 [==============================] - 803s 1s/step - loss: 0.0017 - MAE: 0.0189 - RMSE: 0.0414 - val_loss: 0.0017 - val_MAE: 0.0189 - val_RMSE: 0.0414 - lr: 0.0100\n",
      "Epoch 29/50\n",
      "800/800 [==============================] - 810s 1s/step - loss: 0.0017 - MAE: 0.0189 - RMSE: 0.0414 - val_loss: 0.0017 - val_MAE: 0.0189 - val_RMSE: 0.0414 - lr: 0.0100\n",
      "Epoch 30/50\n",
      "800/800 [==============================] - 811s 1s/step - loss: 0.0017 - MAE: 0.0189 - RMSE: 0.0414 - val_loss: 0.0017 - val_MAE: 0.0189 - val_RMSE: 0.0414 - lr: 0.0100\n",
      "Epoch 31/50\n",
      "800/800 [==============================] - 817s 1s/step - loss: 0.0017 - MAE: 0.0189 - RMSE: 0.0414 - val_loss: 0.0017 - val_MAE: 0.0189 - val_RMSE: 0.0414 - lr: 0.0100\n",
      "Epoch 32/50\n",
      "800/800 [==============================] - 811s 1s/step - loss: 0.0017 - MAE: 0.0189 - RMSE: 0.0414 - val_loss: 0.0017 - val_MAE: 0.0189 - val_RMSE: 0.0414 - lr: 0.0100\n",
      "Epoch 33/50\n",
      "800/800 [==============================] - 810s 1s/step - loss: 0.0017 - MAE: 0.0189 - RMSE: 0.0414 - val_loss: 0.0017 - val_MAE: 0.0189 - val_RMSE: 0.0414 - lr: 0.0100\n",
      "Epoch 34/50\n",
      "800/800 [==============================] - 803s 1s/step - loss: 0.0017 - MAE: 0.0189 - RMSE: 0.0414 - val_loss: 0.0017 - val_MAE: 0.0189 - val_RMSE: 0.0414 - lr: 0.0100\n",
      "Epoch 35/50\n",
      "800/800 [==============================] - 815s 1s/step - loss: 0.0017 - MAE: 0.0189 - RMSE: 0.0414 - val_loss: 0.0017 - val_MAE: 0.0189 - val_RMSE: 0.0414 - lr: 0.0100\n",
      "Epoch 36/50\n",
      "800/800 [==============================] - 812s 1s/step - loss: 0.0017 - MAE: 0.0189 - RMSE: 0.0414 - val_loss: 0.0017 - val_MAE: 0.0189 - val_RMSE: 0.0414 - lr: 0.0100\n",
      "Epoch 37/50\n",
      "800/800 [==============================] - 813s 1s/step - loss: 0.0017 - MAE: 0.0189 - RMSE: 0.0414 - val_loss: 0.0017 - val_MAE: 0.0189 - val_RMSE: 0.0414 - lr: 0.0100\n",
      "Epoch 38/50\n",
      "800/800 [==============================] - 813s 1s/step - loss: 0.0017 - MAE: 0.0189 - RMSE: 0.0414 - val_loss: 0.0017 - val_MAE: 0.0189 - val_RMSE: 0.0414 - lr: 0.0100\n",
      "Epoch 39/50\n",
      "800/800 [==============================] - 818s 1s/step - loss: 0.0017 - MAE: 0.0189 - RMSE: 0.0414 - val_loss: 0.0017 - val_MAE: 0.0189 - val_RMSE: 0.0414 - lr: 0.0100\n",
      "Epoch 40/50\n",
      "800/800 [==============================] - 812s 1s/step - loss: 0.0017 - MAE: 0.0189 - RMSE: 0.0414 - val_loss: 0.0017 - val_MAE: 0.0189 - val_RMSE: 0.0414 - lr: 0.0100\n",
      "Epoch 41/50\n",
      "800/800 [==============================] - 817s 1s/step - loss: 0.0017 - MAE: 0.0189 - RMSE: 0.0414 - val_loss: 0.0017 - val_MAE: 0.0189 - val_RMSE: 0.0414 - lr: 0.0100\n",
      "Epoch 42/50\n",
      "800/800 [==============================] - 819s 1s/step - loss: 0.0017 - MAE: 0.0189 - RMSE: 0.0414 - val_loss: 0.0017 - val_MAE: 0.0189 - val_RMSE: 0.0414 - lr: 0.0050\n",
      "Epoch 43/50\n",
      "800/800 [==============================] - 818s 1s/step - loss: 0.0017 - MAE: 0.0189 - RMSE: 0.0414 - val_loss: 0.0017 - val_MAE: 0.0189 - val_RMSE: 0.0414 - lr: 0.0050\n",
      "Epoch 44/50\n",
      "800/800 [==============================] - 803s 1s/step - loss: 0.0017 - MAE: 0.0189 - RMSE: 0.0414 - val_loss: 0.0017 - val_MAE: 0.0189 - val_RMSE: 0.0414 - lr: 0.0050\n",
      "Epoch 45/50\n",
      "800/800 [==============================] - 787s 981ms/step - loss: 0.0017 - MAE: 0.0189 - RMSE: 0.0414 - val_loss: 0.0017 - val_MAE: 0.0189 - val_RMSE: 0.0414 - lr: 0.0050\n",
      "Epoch 46/50\n",
      "800/800 [==============================] - 799s 997ms/step - loss: 0.0017 - MAE: 0.0189 - RMSE: 0.0414 - val_loss: 0.0017 - val_MAE: 0.0189 - val_RMSE: 0.0414 - lr: 0.0050\n",
      "Epoch 47/50\n",
      "800/800 [==============================] - 808s 1s/step - loss: 0.0017 - MAE: 0.0189 - RMSE: 0.0414 - val_loss: 0.0017 - val_MAE: 0.0189 - val_RMSE: 0.0414 - lr: 0.0050\n",
      "Epoch 48/50\n",
      "800/800 [==============================] - 807s 1s/step - loss: 0.0017 - MAE: 0.0189 - RMSE: 0.0414 - val_loss: 0.0017 - val_MAE: 0.0189 - val_RMSE: 0.0414 - lr: 0.0050\n",
      "Epoch 49/50\n",
      "800/800 [==============================] - 808s 1s/step - loss: 0.0017 - MAE: 0.0189 - RMSE: 0.0414 - val_loss: 0.0017 - val_MAE: 0.0189 - val_RMSE: 0.0414 - lr: 0.0050\n",
      "Epoch 50/50\n",
      "800/800 [==============================] - 819s 1s/step - loss: 0.0017 - MAE: 0.0189 - RMSE: 0.0414 - val_loss: 0.0017 - val_MAE: 0.0189 - val_RMSE: 0.0414 - lr: 0.0050\n"
     ]
    },
    {
     "data": {
      "text/plain": [
       "(<keras.callbacks.History at 0x7ffbd8e22940>,\n",
       " 'logs/CNN-Model-11_12_2021__15:37:39')"
      ]
     },
     "execution_count": 7,
     "metadata": {},
     "output_type": "execute_result"
    }
   ],
   "source": [
    "eegcnn.fit(patience=35)"
   ]
  },
  {
   "cell_type": "code",
   "execution_count": 8,
   "metadata": {},
   "outputs": [],
   "source": [
    "eegcnn.save_nn('/media/thanos/Big Data/Thanos/TUC/Thesis/nn_trained/cnn_model_2.h5')"
   ]
  },
  {
   "cell_type": "markdown",
   "metadata": {},
   "source": [
    "### Evaluate the CNN"
   ]
  },
  {
   "cell_type": "code",
   "execution_count": null,
   "metadata": {},
   "outputs": [],
   "source": [
    "eegcnn.load_nn('/media/thanos/Big Data/Thanos/TUC/Thesis/nn_trained/cnn_model_2.h5')"
   ]
  },
  {
   "cell_type": "code",
   "execution_count": null,
   "metadata": {},
   "outputs": [],
   "source": [
    "eeg_topos_eval = mat73.loadmat('/media/thanos/Big Data/Thanos/TUC/Thesis/sim_data/sim_type_2/eeg_big_sim_1_topos_type_2.mat')['eeg_arr']\n",
    "eeg_topos_eval = eeg_topos_eval.transpose(2, 0, 1)\n",
    "\n",
    "sources_eval = np.load('/media/thanos/Big Data/Thanos/TUC/Thesis/sim_data/sim_type_2/sources_big_sim_1_type_2.npy')"
   ]
  },
  {
   "cell_type": "code",
   "execution_count": null,
   "metadata": {},
   "outputs": [],
   "source": [
    "mse = eegcnn.evaluate_mse(eeg=eeg_topos_eval,sources=sources_eval)\n",
    "nmse = eegcnn.evaluate_nmse(eeg=eeg_topos_eval, sources=sources_eval)\n",
    "\n",
    "print('Normilized MSE:', np.mean(nmse))\n",
    "print('MSE:', np.mean(mse))"
   ]
  }
 ],
 "metadata": {
  "interpreter": {
   "hash": "e55ae3f6af515937c0319b16e610f5fb778062060e5992134dbdbaaf9a7f178e"
  },
  "kernelspec": {
   "display_name": "Python 3.8.10 64-bit ('venv': venv)",
   "language": "python",
   "name": "python3"
  },
  "language_info": {
   "codemirror_mode": {
    "name": "ipython",
    "version": 3
   },
   "file_extension": ".py",
   "mimetype": "text/x-python",
   "name": "python",
   "nbconvert_exporter": "python",
   "pygments_lexer": "ipython3",
   "version": "3.8.10"
  },
  "orig_nbformat": 4
 },
 "nbformat": 4,
 "nbformat_minor": 2
}

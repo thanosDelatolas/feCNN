{
 "cells": [
  {
   "cell_type": "code",
   "execution_count": null,
   "metadata": {},
   "outputs": [],
   "source": [
    "%matplotlib inline"
   ]
  },
  {
   "cell_type": "markdown",
   "metadata": {},
   "source": [
    "## Forward model\n",
    "Create the forward model, given the Freesurfer anatomical template.\n",
    "\n",
    "#### TODO: FEM not BEM"
   ]
  },
  {
   "cell_type": "code",
   "execution_count": null,
   "metadata": {},
   "outputs": [],
   "source": [
    "from forward import create_forward_model, get_info\n",
    "info = get_info()\n",
    "fwd = create_forward_model(info=info)\n",
    "print (fwd)"
   ]
  },
  {
   "cell_type": "markdown",
   "metadata": {},
   "source": [
    "## Simulate both the eeg and the sources data\n",
    "Better with n_samples=100,000"
   ]
  },
  {
   "cell_type": "code",
   "execution_count": null,
   "metadata": {},
   "outputs": [],
   "source": [
    "from simulation import Simulation\n",
    "info = get_info()\n",
    "sim = Simulation(fwd=fwd, info=info)\n",
    "sim.simulate(n_samples=10000)\n",
    "eeg = sim.eeg_data\n",
    "sources = sim.source_data\n",
    "\n",
    "print(type(eeg))"
   ]
  },
  {
   "cell_type": "markdown",
   "metadata": {},
   "source": [
    "### Visualize the simulations"
   ]
  },
  {
   "cell_type": "code",
   "execution_count": null,
   "metadata": {},
   "outputs": [],
   "source": [
    "sources.plot()"
   ]
  }
 ],
 "metadata": {
  "interpreter": {
   "hash": "8b63dba8f85a563fb66565bf4c41f0c306327f1b1d67e5f18c87493ef139d59c"
  },
  "kernelspec": {
   "display_name": "Python 3.8.10 64-bit ('env': venv)",
   "name": "python3"
  },
  "language_info": {
   "codemirror_mode": {
    "name": "ipython",
    "version": 3
   },
   "file_extension": ".py",
   "mimetype": "text/x-python",
   "name": "python",
   "nbconvert_exporter": "python",
   "pygments_lexer": "ipython3",
   "version": "3.8.10"
  },
  "orig_nbformat": 4
 },
 "nbformat": 4,
 "nbformat_minor": 2
}

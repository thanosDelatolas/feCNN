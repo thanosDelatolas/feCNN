{
 "cells": [
  {
   "cell_type": "code",
   "execution_count": null,
   "metadata": {},
   "outputs": [],
   "source": [
    "from forward import solve_forward\n",
    "from simulation import Simulation\n",
    "import numpy as np"
   ]
  },
  {
   "cell_type": "markdown",
   "metadata": {},
   "source": [
    "### Solve Forward"
   ]
  },
  {
   "cell_type": "code",
   "execution_count": null,
   "metadata": {},
   "outputs": [],
   "source": [
    "fwd = solve_forward()"
   ]
  },
  {
   "cell_type": "markdown",
   "metadata": {},
   "source": [
    "### Simulation (type 1)\n",
    "Create simulation with the default settings (type 1)"
   ]
  },
  {
   "cell_type": "code",
   "execution_count": null,
   "metadata": {},
   "outputs": [],
   "source": [
    "sim = Simulation(fwd=fwd)\n",
    "\n",
    "sim.simulate(n_samples=100000)"
   ]
  },
  {
   "cell_type": "code",
   "execution_count": null,
   "metadata": {},
   "outputs": [],
   "source": [
    "print('EGG:',sim.eeg_data.shape)\n",
    "print('Sources:',sim.source_data.shape)"
   ]
  },
  {
   "cell_type": "code",
   "execution_count": null,
   "metadata": {},
   "outputs": [],
   "source": [
    "import util\n",
    "\n",
    "util.save_object(sim, '/media/thanos/Elements/thanos/sim_data/sim_type_1/sim_obj_100k.pkl')"
   ]
  },
  {
   "cell_type": "markdown",
   "metadata": {},
   "source": [
    "### Simulation (type 2)\n",
    "Create simulation using the following settings (type 2)"
   ]
  },
  {
   "cell_type": "code",
   "execution_count": null,
   "metadata": {},
   "outputs": [],
   "source": [
    "settings = {\n",
    "    'number_of_sources' : (60, 100),\n",
    "    'extents' : (35, 45)\n",
    "}\n",
    "\n",
    "sim = Simulation(fwd=fwd, settings=settings)\n",
    "\n",
    "sim.simulate(n_samples=10000)\n",
    "\n",
    "import util\n",
    "\n",
    "util.save_object(sim, '/media/thanos/Elements/thanos/sim_data/sim_type_2/sim_obj_10k_type_2.pkl')"
   ]
  }
 ],
 "metadata": {
  "interpreter": {
   "hash": "1ae971a6462940be47933e1f07228cb732a4a5829590a0ee471006fa906ff195"
  },
  "kernelspec": {
   "display_name": "Python 3.8.10 64-bit ('env': venv)",
   "language": "python",
   "name": "python3"
  },
  "language_info": {
   "codemirror_mode": {
    "name": "ipython",
    "version": 3
   },
   "file_extension": ".py",
   "mimetype": "text/x-python",
   "name": "python",
   "nbconvert_exporter": "python",
   "pygments_lexer": "ipython3",
   "version": "3.8.10"
  },
  "orig_nbformat": 4
 },
 "nbformat": 4,
 "nbformat_minor": 2
}

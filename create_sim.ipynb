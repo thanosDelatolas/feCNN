{
 "cells": [
  {
   "cell_type": "code",
   "execution_count": null,
   "metadata": {},
   "outputs": [],
   "source": [
    "from forward import solve_forward\n",
    "from simulation import Simulation\n",
    "import numpy as np"
   ]
  },
  {
   "cell_type": "markdown",
   "metadata": {},
   "source": [
    "### Solve Forward"
   ]
  },
  {
   "cell_type": "code",
   "execution_count": null,
   "metadata": {},
   "outputs": [],
   "source": [
    "fwd = solve_forward(downsampled_dipoles=True, num_dipoles='10k')"
   ]
  },
  {
   "cell_type": "markdown",
   "metadata": {},
   "source": [
    "### Simulation (type 1)\n",
    "Create simulation with the default settings (type 1)"
   ]
  },
  {
   "cell_type": "code",
   "execution_count": null,
   "metadata": {},
   "outputs": [],
   "source": [
    "settings = {  'number_of_sources': 2 }\n",
    "snr_levels=np.arange(10, 20, 5, dtype=int)\n",
    "sim = Simulation(fwd=fwd, noisy_eeg=True, snr_levels=snr_levels)\n",
    "sim.create_dipoles_dataset(times_each_dipole=10)"
   ]
  },
  {
   "cell_type": "code",
   "execution_count": null,
   "metadata": {},
   "outputs": [],
   "source": [
    "print('EGG:',sim.eeg_data.shape)\n",
    "print('Sources:',sim.source_data.shape)\n",
    "\n",
    "\n",
    "np.save('../../Downloads/sim_data/eeg.npy', sim.eeg_data)\n",
    "np.save('../../Downloads/sim_data/sources.npy', sim.source_data)"
   ]
  },
  {
   "cell_type": "code",
   "execution_count": null,
   "metadata": {},
   "outputs": [],
   "source": [
    "eeg = sim.eeg_data"
   ]
  },
  {
   "cell_type": "code",
   "execution_count": null,
   "metadata": {},
   "outputs": [],
   "source": [
    "why_list =[ ]\n",
    "for ii in range(eeg.shape[1]):\n",
    "    eeg_s = eeg[:,ii]\n",
    "    if np.mean(eeg_s) == 0 and np.max(eeg_s)==0  and np.min(eeg_s) == 0 :\n",
    "        why_list.append(ii)"
   ]
  },
  {
   "cell_type": "code",
   "execution_count": null,
   "metadata": {},
   "outputs": [],
   "source": [
    "len(why_list)"
   ]
  },
  {
   "cell_type": "code",
   "execution_count": null,
   "metadata": {},
   "outputs": [],
   "source": [
    "print('Mean',np.mean(eeg_s))\n",
    "print('Max',np.max(eeg_s))\n",
    "print('Min',np.min(eeg_s))"
   ]
  },
  {
   "cell_type": "markdown",
   "metadata": {},
   "source": [
    "### Simulation (type 2)\n",
    "Create simulation using the following settings (type 2)"
   ]
  },
  {
   "cell_type": "code",
   "execution_count": null,
   "metadata": {},
   "outputs": [],
   "source": [
    "settings = {\n",
    "    'number_of_sources' : (1, 5),\n",
    "    'extents' : (35, 45)\n",
    "}\n",
    "\n",
    "sim = Simulation(fwd=fwd, settings=settings)\n",
    "\n",
    "sim.simulate(n_samples=10000)\n",
    "\n",
    "import util\n",
    "\n",
    "util.save_object(sim, '/media/thanos/Elements/thanos/sim_data/sim_type_2/sim_obj_10k_type_2.pkl')\n",
    "\n",
    "np.save('/media/thanos/Elements/thanos/sim_data/sim_type_2/eeg_10k_type_2.npy', sim.eeg_data)\n",
    "np.save('/media/thanos/Elements/thanos/sim_data/sim_type_2/sources_10k_type_2.npy', sim.source_data)"
   ]
  }
 ],
 "metadata": {
  "interpreter": {
   "hash": "1ae971a6462940be47933e1f07228cb732a4a5829590a0ee471006fa906ff195"
  },
  "kernelspec": {
   "display_name": "Python 3.8.10 64-bit ('env': venv)",
   "language": "python",
   "name": "python3"
  },
  "language_info": {
   "codemirror_mode": {
    "name": "ipython",
    "version": 3
   },
   "file_extension": ".py",
   "mimetype": "text/x-python",
   "name": "python",
   "nbconvert_exporter": "python",
   "pygments_lexer": "ipython3",
   "version": "3.8.10"
  },
  "orig_nbformat": 4
 },
 "nbformat": 4,
 "nbformat_minor": 2
}

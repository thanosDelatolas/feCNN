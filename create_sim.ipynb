{
 "cells": [
  {
   "cell_type": "code",
   "execution_count": 1,
   "metadata": {},
   "outputs": [],
   "source": [
    "from forward import solve_forward\n",
    "from simulation import Simulation\n",
    "import numpy as np"
   ]
  },
  {
   "cell_type": "markdown",
   "metadata": {},
   "source": [
    "### Solve Forward"
   ]
  },
  {
   "cell_type": "code",
   "execution_count": 2,
   "metadata": {},
   "outputs": [
    {
     "name": "stdout",
     "output_type": "stream",
     "text": [
      "Forward problem is solved.\n",
      "Electrodes: (73, 3)\n",
      "Dipoles: (10092, 3)\n",
      "Leadfield: (73, 10092)\n"
     ]
    }
   ],
   "source": [
    "fwd = solve_forward(downsampled_dipoles=True, num_dipoles='10k')"
   ]
  },
  {
   "cell_type": "markdown",
   "metadata": {},
   "source": [
    "### Simulation (type 1)\n",
    "Create simulation wint one source each time"
   ]
  },
  {
   "cell_type": "code",
   "execution_count": null,
   "metadata": {},
   "outputs": [],
   "source": [
    "snr_levels=np.arange(5, 25, 5, dtype=int)\n",
    "sim = Simulation(fwd=fwd, noisy_eeg=True, snr_levels=snr_levels)\n",
    "sim.create_dipoles_dataset(times_each_dipole=10)"
   ]
  },
  {
   "cell_type": "code",
   "execution_count": null,
   "metadata": {},
   "outputs": [],
   "source": [
    "print('EGG:',sim.eeg_data.shape)\n",
    "print('Sources:',sim.source_data.shape)\n",
    "\n",
    "\n",
    "np.save('../../Downloads/snr_5_20/sim_data_noisy/eeg.npy', sim.eeg_data)\n",
    "np.save('../../Downloads/snr_5_20/sim_data_noisy/sources.npy', sim.source_data)"
   ]
  },
  {
   "cell_type": "markdown",
   "metadata": {},
   "source": [
    "### Simulation (type 2)\n",
    "Create simulation using with two sources each time"
   ]
  },
  {
   "cell_type": "code",
   "execution_count": null,
   "metadata": {},
   "outputs": [],
   "source": [
    "settings = {  'number_of_sources': 2 }\n",
    "snr_levels=np.arange(5, 25, 5, dtype=int)\n",
    "sim = Simulation(fwd=fwd, settings=settings, noisy_eeg=True,snr_levels=snr_levels)\n",
    "\n",
    "sim.simulate(n_samples=101000)\n",
    "\n",
    "\n",
    "np.save('../../Downloads/snr_5_20/sim_data_two_sources/eeg.npy', sim.eeg_data)\n",
    "np.save('../../Downloads/snr_5_20/sim_data_two_sources/sources.npy', sim.source_data)\n",
    "np.save('../../Downloads/snr_5_20/sim_data_two_sources/srouce_centers.npy',sim.source_centers)"
   ]
  },
  {
   "cell_type": "markdown",
   "metadata": {},
   "source": [
    "#### Simulation (type 3)\n",
    "Create simulation wint one or two sources each time"
   ]
  },
  {
   "cell_type": "code",
   "execution_count": 3,
   "metadata": {},
   "outputs": [
    {
     "name": "stdout",
     "output_type": "stream",
     "text": [
      "Simulate Sources.\n"
     ]
    },
    {
     "name": "stderr",
     "output_type": "stream",
     "text": [
      "100%|██████████| 100/100 [00:00<00:00, 576.54it/s]"
     ]
    },
    {
     "name": "stdout",
     "output_type": "stream",
     "text": [
      "Simulate EEG.\n",
      "Project sources to EEG.\n"
     ]
    },
    {
     "name": "stderr",
     "output_type": "stream",
     "text": [
      "\n"
     ]
    },
    {
     "name": "stdout",
     "output_type": "stream",
     "text": [
      "Add noise to eeg\n"
     ]
    },
    {
     "name": "stderr",
     "output_type": "stream",
     "text": [
      "100%|██████████| 100/100 [00:00<00:00, 7226.08it/s]\n"
     ]
    }
   ],
   "source": [
    "settings = {  'number_of_sources': (1, 2) }\n",
    "snr_levels=np.arange(15, 25, 5, dtype=int)\n",
    "sim = Simulation(fwd=fwd, settings=settings, noisy_eeg=True,snr_levels=snr_levels)\n",
    "sim.simulate(100)"
   ]
  }
 ],
 "metadata": {
  "interpreter": {
   "hash": "1ae971a6462940be47933e1f07228cb732a4a5829590a0ee471006fa906ff195"
  },
  "kernelspec": {
   "display_name": "Python 3.8.10 64-bit ('env': venv)",
   "language": "python",
   "name": "python3"
  },
  "language_info": {
   "codemirror_mode": {
    "name": "ipython",
    "version": 3
   },
   "file_extension": ".py",
   "mimetype": "text/x-python",
   "name": "python",
   "nbconvert_exporter": "python",
   "pygments_lexer": "ipython3",
   "version": "3.8.10"
  },
  "orig_nbformat": 4
 },
 "nbformat": 4,
 "nbformat_minor": 2
}

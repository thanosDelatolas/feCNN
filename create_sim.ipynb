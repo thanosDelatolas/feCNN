{
 "cells": [
  {
   "cell_type": "code",
   "execution_count": 1,
   "metadata": {},
   "outputs": [],
   "source": [
    "from forward import solve_forward\n",
    "from simulation import Simulation\n",
    "import numpy as np\n",
    "import scipy.io"
   ]
  },
  {
   "cell_type": "markdown",
   "metadata": {},
   "source": [
    "### Solve Forward"
   ]
  },
  {
   "cell_type": "code",
   "execution_count": 2,
   "metadata": {},
   "outputs": [
    {
     "name": "stdout",
     "output_type": "stream",
     "text": [
      "Forward problem is solved.\n",
      "Electrodes: (73, 3)\n",
      "Dipoles: (50460, 3)\n",
      "Leadfield: (73, 50460)\n"
     ]
    }
   ],
   "source": [
    "fwd = solve_forward(downsampled_dipoles=False, num_dipoles='50k')"
   ]
  },
  {
   "cell_type": "markdown",
   "metadata": {},
   "source": [
    "### Simulation (type 1)\n",
    "Create simulation wint one source each time"
   ]
  },
  {
   "cell_type": "code",
   "execution_count": null,
   "metadata": {},
   "outputs": [],
   "source": [
    "snr_levels=np.arange(5, 25, 5, dtype=int)\n",
    "sim = Simulation(fwd=fwd, noisy_eeg=True, snr_levels=snr_levels)\n",
    "sim.create_dipoles_dataset(times_each_dipole=10)"
   ]
  },
  {
   "cell_type": "code",
   "execution_count": null,
   "metadata": {},
   "outputs": [],
   "source": [
    "print('EGG:',sim.eeg_data.shape)\n",
    "print('Sources:',sim.source_data.shape)\n",
    "\n",
    "\n",
    "np.save('../../Downloads/snr_5_20/sim_data_noisy/eeg.npy', sim.eeg_data)\n",
    "np.save('../../Downloads/snr_5_20/sim_data_noisy/sources.npy', sim.source_data)"
   ]
  },
  {
   "cell_type": "markdown",
   "metadata": {},
   "source": [
    "### Simulation (type 2)\n",
    "Create simulation using with two sources each time"
   ]
  },
  {
   "cell_type": "code",
   "execution_count": null,
   "metadata": {},
   "outputs": [],
   "source": [
    "snr = 20\n",
    "target_snr = (True, snr)\n",
    "sim = Simulation(fwd=fwd, noisy_eeg=True, target_snr=target_snr)\n",
    "\n",
    "eeg, source_centers = sim.create_evaluate_dataset(n_samples=5000,snr=snr)\n",
    "\n",
    "# np.save('./eval_sim_data/single_source/{}db/eeg.npy'.format(snr), eeg)\n",
    "# np.save('./eval_sim_data/single_source/{}db/source_centers.npy'.format(snr), source_centers)\n"
   ]
  },
  {
   "cell_type": "markdown",
   "metadata": {},
   "source": [
    "#### Simulation (type 3)\n",
    "Create simulation wint one or two sources each time"
   ]
  },
  {
   "cell_type": "code",
   "execution_count": null,
   "metadata": {},
   "outputs": [],
   "source": [
    "settings = {  'number_of_sources': (1, 2) }\n",
    "snr = 20\n",
    "target_snr = (True, snr)\n",
    "sim = Simulation(fwd=fwd, settings=settings, noisy_eeg=True,target_snr=target_snr)\n",
    "sim.simulate(5000)"
   ]
  },
  {
   "cell_type": "code",
   "execution_count": null,
   "metadata": {},
   "outputs": [],
   "source": [
    "np.save('./eval_sim_data/one_two_sources/{}db/eeg_noisy.npy'.format(snr),sim.eeg_data)\n",
    "np.save('./eval_sim_data/one_two_sources/{}db/sources.npy'.format(snr),sim.source_data)\n",
    "source_centers = sim.source_centers.tolist()\n",
    "scipy.io.savemat('./eval_sim_data/one_two_sources/{}db/source_centers.mat'.format(snr), {'source_centers': source_centers})"
   ]
  },
  {
   "cell_type": "markdown",
   "metadata": {},
   "source": [
    "### Simulation (type 3)\n",
    "Create depth simulation"
   ]
  },
  {
   "cell_type": "code",
   "execution_count": 3,
   "metadata": {},
   "outputs": [
    {
     "name": "stderr",
     "output_type": "stream",
     "text": [
      "100%|██████████| 68/68 [46:39<00:00, 41.18s/it]\n"
     ]
    }
   ],
   "source": [
    "snr = 20\n",
    "sim = Simulation(fwd=fwd, noisy_eeg=True, target_snr=(True, snr))\n",
    "sim.create_depth_evaluate_dataset('./eval_sim_data/depth/{}db/'.format(snr))"
   ]
  },
  {
   "cell_type": "markdown",
   "metadata": {},
   "source": [
    "### Simulation (type 4)\n",
    "Create simulation but store only the location of the activation of the source"
   ]
  },
  {
   "cell_type": "code",
   "execution_count": null,
   "metadata": {},
   "outputs": [],
   "source": [
    "fwd = solve_forward(downsampled_dipoles=False, num_dipoles='50k')\n",
    "sim = Simulation(fwd=fwd, noisy_eeg=True, target_snr=(True, 15))\n",
    "sim.simulate_locations(1000000)"
   ]
  },
  {
   "cell_type": "code",
   "execution_count": null,
   "metadata": {},
   "outputs": [],
   "source": [
    "np.save('../../Downloads/big_sim/locations.npy',sim.locations)\n",
    "np.save('../../Downloads/big_sim/eeg.npy',sim.eeg_data)"
   ]
  }
 ],
 "metadata": {
  "interpreter": {
   "hash": "1ae971a6462940be47933e1f07228cb732a4a5829590a0ee471006fa906ff195"
  },
  "kernelspec": {
   "display_name": "Python 3.8.10 64-bit ('env': venv)",
   "language": "python",
   "name": "python3"
  },
  "language_info": {
   "codemirror_mode": {
    "name": "ipython",
    "version": 3
   },
   "file_extension": ".py",
   "mimetype": "text/x-python",
   "name": "python",
   "nbconvert_exporter": "python",
   "pygments_lexer": "ipython3",
   "version": "3.8.10"
  },
  "orig_nbformat": 4
 },
 "nbformat": 4,
 "nbformat_minor": 2
}

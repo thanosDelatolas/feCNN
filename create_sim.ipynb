{
 "cells": [
  {
   "cell_type": "code",
   "execution_count": 1,
   "metadata": {},
   "outputs": [],
   "source": [
    "from forward import solve_forward\n",
    "from simulation import Simulation\n",
    "import numpy as np"
   ]
  },
  {
   "cell_type": "markdown",
   "metadata": {},
   "source": [
    "### Solve Forward"
   ]
  },
  {
   "cell_type": "code",
   "execution_count": 2,
   "metadata": {},
   "outputs": [
    {
     "name": "stdout",
     "output_type": "stream",
     "text": [
      "Forward problem is solved.\n",
      "Electrodes: (73, 3)\n",
      "Dipoles: (50460, 3)\n",
      "Leadfield: (73, 50460)\n"
     ]
    }
   ],
   "source": [
    "fwd = solve_forward()"
   ]
  },
  {
   "cell_type": "markdown",
   "metadata": {},
   "source": [
    "### Simulation (type 1)\n",
    "Create simulation with the default settings (type 1)"
   ]
  },
  {
   "cell_type": "code",
   "execution_count": 3,
   "metadata": {},
   "outputs": [
    {
     "name": "stdout",
     "output_type": "stream",
     "text": [
      "Sources Simulation\n"
     ]
    },
    {
     "name": "stderr",
     "output_type": "stream",
     "text": [
      "100%|██████████| 100920/100920 [07:09<00:00, 235.17it/s]\n"
     ]
    },
    {
     "name": "stdout",
     "output_type": "stream",
     "text": [
      "Simulate EEG.\n",
      "Project sources to EEG.\n"
     ]
    }
   ],
   "source": [
    "sim = Simulation(fwd=fwd)\n",
    "\n",
    "sim.create_train_dataset(times_each_dipole=2)\n",
    "\n",
    "#sim.simulate(n_samples=100)"
   ]
  },
  {
   "cell_type": "code",
   "execution_count": 4,
   "metadata": {},
   "outputs": [
    {
     "name": "stdout",
     "output_type": "stream",
     "text": [
      "EGG: (73, 100920)\n",
      "Sources: (50460, 100920)\n"
     ]
    }
   ],
   "source": [
    "print('EGG:',sim.eeg_data.shape)\n",
    "print('Sources:',sim.source_data.shape)\n",
    "\n",
    "np.save('/media/thanos/Elements/thanos/sim_data/sim_type_1/sources_2TeD.npy', sim.source_data)\n",
    "np.save('/media/thanos/Elements/thanos/sim_data/sim_type_1/eeg_2TeD.npy', sim.eeg_data)"
   ]
  },
  {
   "cell_type": "markdown",
   "metadata": {},
   "source": [
    "### Simulation (type 2)\n",
    "Create simulation using the following settings (type 2)"
   ]
  },
  {
   "cell_type": "code",
   "execution_count": null,
   "metadata": {},
   "outputs": [],
   "source": [
    "settings = {\n",
    "    'number_of_sources' : (1, 5),\n",
    "    'extents' : (35, 45)\n",
    "}\n",
    "\n",
    "sim = Simulation(fwd=fwd, settings=settings)\n",
    "\n",
    "sim.simulate(n_samples=10000)\n",
    "\n",
    "import util\n",
    "\n",
    "util.save_object(sim, '/media/thanos/Elements/thanos/sim_data/sim_type_2/sim_obj_10k_type_2.pkl')\n",
    "\n",
    "np.save('/media/thanos/Elements/thanos/sim_data/sim_type_2/eeg_10k_type_2.npy', sim.eeg_data)\n",
    "np.save('/media/thanos/Elements/thanos/sim_data/sim_type_2/sources_10k_type_2.npy', sim.source_data)"
   ]
  }
 ],
 "metadata": {
  "interpreter": {
   "hash": "1ae971a6462940be47933e1f07228cb732a4a5829590a0ee471006fa906ff195"
  },
  "kernelspec": {
   "display_name": "Python 3.8.10 64-bit ('env': venv)",
   "language": "python",
   "name": "python3"
  },
  "language_info": {
   "codemirror_mode": {
    "name": "ipython",
    "version": 3
   },
   "file_extension": ".py",
   "mimetype": "text/x-python",
   "name": "python",
   "nbconvert_exporter": "python",
   "pygments_lexer": "ipython3",
   "version": "3.8.10"
  },
  "orig_nbformat": 4
 },
 "nbformat": 4,
 "nbformat_minor": 2
}

{
 "cells": [
  {
   "cell_type": "code",
   "execution_count": null,
   "metadata": {},
   "outputs": [],
   "source": [
    "from forward import solve_forward\n",
    "from simulation import Simulation\n",
    "import numpy as np\n",
    "import mat73\n",
    "#from net import EEG_CNN"
   ]
  },
  {
   "cell_type": "code",
   "execution_count": null,
   "metadata": {},
   "outputs": [],
   "source": [
    "fwd = solve_forward(downsampled_dipoles=False)\n",
    "# eeg_topos = mat73.loadmat('../../Downloads/eeg_topos.mat')['eeg_topos']\n",
    "# eeg_topos = eeg_topos.transpose(2, 0, 1)\n",
    "# sources = np.load('../../Downloads/sources.npy')\n",
    "# eeg = np.load('../../Downloads/eeg.npy')\n",
    "# sim = Simulation(fwd,source_data=sources,eeg_data=eeg)\n",
    "# sim.simulate(n_samples=100)"
   ]
  },
  {
   "cell_type": "code",
   "execution_count": null,
   "metadata": {},
   "outputs": [],
   "source": [
    "# for ii in range(100):\n",
    "#     np.save('../../Downloads/sources/regr/source_{}.npy'.format(ii+1), sim.source_data[:,ii])"
   ]
  },
  {
   "cell_type": "code",
   "execution_count": 3,
   "metadata": {},
   "outputs": [],
   "source": [
    "import tensorflow as tf\n",
    "from tensorflow import keras\n",
    "from tensorflow.keras.models import load_model\n",
    "from tensorflow.keras.layers import (Dense, Dropout, Conv2D, Flatten, MaxPooling2D, Conv1D, BatchNormalization) "
   ]
  },
  {
   "cell_type": "code",
   "execution_count": null,
   "metadata": {},
   "outputs": [],
   "source": [
    "import keras_preprocessing_custom.image\n",
    "loader = keras_preprocessing_custom.image.DataLoader()"
   ]
  },
  {
   "cell_type": "code",
   "execution_count": null,
   "metadata": {},
   "outputs": [],
   "source": [
    "train_loader = loader.flow_from_directory(\n",
    "    directory_y='../../Downloads/sim/source_data/',\n",
    "    directory_x='../../Downloads/sim/topo_data/',\n",
    "    batch_size=32,\n",
    ")"
   ]
  },
  {
   "cell_type": "code",
   "execution_count": null,
   "metadata": {},
   "outputs": [],
   "source": [
    "n_dipoles = fwd.leadfield.shape[1]\n",
    "model = keras.Sequential()\n",
    "\n",
    "# add input layer\n",
    "model.add(keras.Input(shape=(67,67,1), name='Input'))\n",
    "model.add(Conv2D(8, kernel_size=(3, 3), activation='relu'))\n",
    "#self.model.add(BatchNormalization())\n",
    "model.add(Flatten())            \n",
    "model.add(Dense(1024, activation='relu'))\n",
    "model.add(BatchNormalization())\n",
    "model.add(Dropout(0.25))\n",
    "model.add(Dense(1024, activation='relu'))\n",
    "model.add(BatchNormalization())\n",
    "model.add(Dropout(0.25))\n",
    "model.add(Dense(1024, activation='relu'))\n",
    "model.add(BatchNormalization())\n",
    "model.add(Dropout(0.25))\n",
    "# Add output layer\n",
    "model.add(Dense(n_dipoles, activation='relu', name='OutputLayer'))\n",
    "\n",
    "optimizer = tf.keras.optimizers.Adam(learning_rate=0.001)\n",
    "\n",
    "        \n",
    "model.compile(optimizer, 'mse', metrics=None)"
   ]
  },
  {
   "cell_type": "code",
   "execution_count": null,
   "metadata": {},
   "outputs": [],
   "source": [
    "topos_eval = mat73.loadmat('../../Downloads/valid/eeg_topos.mat')['eeg_topos']\n",
    "topos_eval = topos_eval.transpose(2, 0, 1)[0:32]\n",
    "\n",
    "sources_eval = np.load('../../Downloads/valid/sources.npy').T\n",
    "model.fit(x=train_loader,batch_size=32,epochs=4,validation_data=(topos_eval,sources_eval),shuffle=False)"
   ]
  }
 ],
 "metadata": {
  "interpreter": {
   "hash": "e55ae3f6af515937c0319b16e610f5fb778062060e5992134dbdbaaf9a7f178e"
  },
  "kernelspec": {
   "display_name": "Python 3.8.10 64-bit ('venv': venv)",
   "language": "python",
   "name": "python3"
  },
  "language_info": {
   "codemirror_mode": {
    "name": "ipython",
    "version": 3
   },
   "file_extension": ".py",
   "mimetype": "text/x-python",
   "name": "python",
   "nbconvert_exporter": "python",
   "pygments_lexer": "ipython3",
   "version": "3.8.10"
  },
  "orig_nbformat": 4
 },
 "nbformat": 4,
 "nbformat_minor": 2
}

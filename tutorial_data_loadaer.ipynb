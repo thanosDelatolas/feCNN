{
 "cells": [
  {
   "cell_type": "code",
   "execution_count": null,
   "metadata": {},
   "outputs": [],
   "source": [
    "from forward import solve_forward\n",
    "from simulation import Simulation\n",
    "import numpy as np\n",
    "import mat73\n",
    "#from net import EEG_CNN"
   ]
  },
  {
   "cell_type": "code",
   "execution_count": null,
   "metadata": {},
   "outputs": [],
   "source": [
    "fwd = solve_forward(downsampled_dipoles=False)\n",
    "# eeg_topos = mat73.loadmat('../../Downloads/eeg_topos.mat')['eeg_topos']\n",
    "# eeg_topos = eeg_topos.transpose(2, 0, 1)\n",
    "# sources = np.load('../../Downloads/sources.npy')\n",
    "# eeg = np.load('../../Downloads/eeg.npy')\n",
    "# sim = Simulation(fwd,source_data=sources,eeg_data=eeg)\n",
    "# sim.simulate(n_samples=100)"
   ]
  },
  {
   "cell_type": "code",
   "execution_count": null,
   "metadata": {},
   "outputs": [],
   "source": [
    "from net import EEGLargeCnn\n",
    "\n",
    "eegcnn = EEGLargeCnn(directory_y='../../Downloads/sim/source_data', directory_x='../../Downloads/sim/topo_data',\n",
    "    directory_y_eval='../../Downloads/sim/source_data', directory_x_eval='../../Downloads/sim/topo_data'\n",
    ")"
   ]
  },
  {
   "cell_type": "code",
   "execution_count": null,
   "metadata": {},
   "outputs": [],
   "source": [
    "eegcnn.build_model()\n",
    "eegcnn.fit(epochs=5)"
   ]
  }
 ],
 "metadata": {
  "interpreter": {
   "hash": "e55ae3f6af515937c0319b16e610f5fb778062060e5992134dbdbaaf9a7f178e"
  },
  "kernelspec": {
   "display_name": "Python 3.8.10 64-bit ('venv': venv)",
   "language": "python",
   "name": "python3"
  },
  "language_info": {
   "codemirror_mode": {
    "name": "ipython",
    "version": 3
   },
   "file_extension": ".py",
   "mimetype": "text/x-python",
   "name": "python",
   "nbconvert_exporter": "python",
   "pygments_lexer": "ipython3",
   "version": "3.8.10"
  },
  "orig_nbformat": 4
 },
 "nbformat": 4,
 "nbformat_minor": 2
}
